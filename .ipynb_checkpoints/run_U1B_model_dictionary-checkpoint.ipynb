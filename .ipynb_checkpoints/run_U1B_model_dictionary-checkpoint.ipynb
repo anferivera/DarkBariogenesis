{
 "cells": [
  {
   "cell_type": "markdown",
   "metadata": {},
   "source": [
    "# Run U1B model: building dictionary"
   ]
  },
  {
   "cell_type": "markdown",
   "metadata": {},
   "source": [
    "The idea is to create the Leshouches for each point"
   ]
  },
  {
   "cell_type": "code",
   "execution_count": 1,
   "metadata": {},
   "outputs": [],
   "source": [
    "import numpy as np\n",
    "import pandas as pd\n",
    "import subprocess\n",
    "import time\n",
    "\n",
    "%matplotlib inline\n",
    "import matplotlib.pyplot as plt "
   ]
  },
  {
   "cell_type": "code",
   "execution_count": 2,
   "metadata": {},
   "outputs": [],
   "source": [
    "import pyslha\n",
    "import pyU1B_LesHouches_generator\n",
    "import sys"
   ]
  },
  {
   "cell_type": "code",
   "execution_count": 3,
   "metadata": {},
   "outputs": [],
   "source": [
    "#Open the file that will created the LesHouches file\n",
    "xdict = pyU1B_LesHouches_generator.buildSLHAinFile()\n",
    "\n",
    "L2 = -7.22E-2\n",
    "\n",
    "#Modify one parameter\n",
    "xdict.blocks['MINPAR'].entries[2]='%.6E    # Lambda2INPUT'%L2\n",
    "\n",
    "#Write and created the Leshouches file generator\n",
    "pyslha.writeSLHAFile('LesHouches.in.U1B_low',xdict)  \n",
    "\n",
    "file = subprocess.getoutput('cat LesHouches.in.U1B_low')"
   ]
  },
  {
   "cell_type": "code",
   "execution_count": 4,
   "metadata": {},
   "outputs": [
    {
     "data": {
      "text/plain": [
       "['BLOCK MODSEL',\n",
       " '   1   0               #  1/0: High/low scale input',\n",
       " '   2   1              # Boundary Condition',\n",
       " '   6   1               # Generation Mixing',\n",
       " '   12   173.5          # Renormalization scale',\n",
       " '',\n",
       " 'BLOCK SMINPUTS',\n",
       " '   2   1.166370E-05    # G_F,Fermi constant',\n",
       " '   3   1.187000E-01    # alpha_s(MZ) SM MSbar',\n",
       " '   4   9.118870E+01    # Z-boson pole mass',\n",
       " '   5   4.180000E+00    # m_b(mb) SM MSbar',\n",
       " '   6   1.735000E+02    # m_top(pole)',\n",
       " '   7   1.776690E+00    # m_tau(pole)',\n",
       " '',\n",
       " 'BLOCK MINPAR',\n",
       " '   1   -1.3000000E-01    # LambdahINPUT',\n",
       " '   2   -7.220000E-02    # Lambda2INPUT',\n",
       " '   3   1.2000000E-04    # Lambda3INPUT',\n",
       " '   4   -7.2000000E-03    # Lambda4INPUT',\n",
       " '   5   1.0000000E-03    # Lambda5INPUT',\n",
       " '   6   4.0000000E+08    # mujINPUT',\n",
       " '   7   1.0000000E-01    # YA1INPUT',\n",
       " '   8   1.0000000E-02    # YA2INPUT',\n",
       " '   9   2.0000000E-01    # YB1INPUT',\n",
       " '   10   2.0000000E-02    # YB2INPUT',\n",
       " '   11   3.0000000E-01    # YC1INPUT',\n",
       " '   12   3.0000000E-02    # YC2INPUT',\n",
       " '   13   2.0000000E-02    # YRGINPUT',\n",
       " '   14   1.2000000E-02    # YRHINPUT',\n",
       " '   15   2.5000000E+03    # vXInput',\n",
       " '   16   0.000000E+00    # vX2Input',\n",
       " '   17   5.0000000E-01    # g1pINPUT',\n",
       " '   18   0.0000000E+00    # g1p1INPUT',\n",
       " '   19   0.0000000E+00    # g11pINPUT',\n",
       " '',\n",
       " 'BLOCK SPHENOINPUT',\n",
       " '   1   -1              # error level',\n",
       " '   2   0              # SPA conventions',\n",
       " '   7   1              # Skip 2-loop Higgs corrections',\n",
       " '   8   3              # Method used for two-loop calculation',\n",
       " '   9   1              # Gaugeless limit used at two-loop',\n",
       " '   10   0              # safe-mode used at two-loop',\n",
       " '   11   1               # calculate branching ratios',\n",
       " '   13   1               # 3-Body decays: none (0), fermion (1), scalar (2), both (3)',\n",
       " '   14   0               # Run couplings to scale of decaying particle',\n",
       " '   12   1.000E-04       # write only branching ratios larger than this value',\n",
       " '   15   1.000E-30       # write only decay if width larger than this value',\n",
       " '   31   -1              # fixed GUT scale (-1: dynamical GUT scale)',\n",
       " '   32   0               # Strict unification',\n",
       " '   34   1.000E-04       # Precision of mass calculation',\n",
       " '   35   40              # Maximal number of iterations',\n",
       " '   36   5               # Minimal number of iterations before discarding points',\n",
       " '   37   1               # Set Yukawa scheme',\n",
       " '   38   1               # 1- or 2-Loop RGEs',\n",
       " '   50   0               # Majorana phases: use only positive masses (put 0 to use file with CalcHep/Micromegas!)',\n",
       " '   51   0               # Write Output in CKM basis',\n",
       " '   52   1               # Write spectrum in case of tachyonic states',\n",
       " '   55   0               # Calculate loop corrected masses',\n",
       " '   61   0               # Running SM parameters',\n",
       " '   57   1               # Calculate low energy constraints',\n",
       " '   60   1               # Include possible, kinetic mixing',\n",
       " '   65   1               # Solution tadpole equation',\n",
       " '   66   1               # Two-Scale Matching',\n",
       " '   67   1               # effective Higgs mass calculation',\n",
       " '   75   0               # Write WHIZARD files',\n",
       " '   76   1               # Write HiggsBounds file',\n",
       " '   77   1               # Output for MicrOmegas (running masses for light quarks; real mixing matrices)',\n",
       " '   78   0               # Output for MadGraph (writes also vanishing blocks)',\n",
       " '   79   1               # Write WCXF files (exchange format for Wilson coefficients)',\n",
       " '   86   0.              # Maximal width to be counted as invisible in Higgs decays; -1: only LSP',\n",
       " '   510   0.              # Write tree level values for tadpole solutions',\n",
       " '   515   0               # Write parameter values at GUT scale',\n",
       " '   520   1.              # Write effective Higgs couplings (HiggsBounds blocks): put 0 to use file with MadGraph!',\n",
       " '   521   1.              # Diphoton/Digluon widths including higher order',\n",
       " '   525   0.              # Write loop contributions to diphoton decay of Higgs',\n",
       " '   530   1.              # Write Blocks for Vevacious',\n",
       " '',\n",
       " 'BLOCK DECAYOPTIONS',\n",
       " '   1   1     # Calc 3-Body decays of Fv',\n",
       " '   2   1     # Calc 3-Body decays of Fu',\n",
       " '   3   1     # Calc 3-Body decays of Fe',\n",
       " '   4   1     # Calc 3-Body decays of Fd',\n",
       " '',\n",
       " 'BLOCK FIIN',\n",
       " '   1   1      1.0000000E-01         # Fi(1,1)',\n",
       " '   1   2      2.0000000E-02         # Fi(1,2)',\n",
       " '   2   1      1.0000000E-02         # Fi(2,1)',\n",
       " '   2   2      2.0000000E-02         # Fi(2,2)',\n",
       " '',\n",
       " 'BLOCK FJIN',\n",
       " '   1   1      1.0000000E-02         # Fj(1,1)',\n",
       " '   1   2      2.0000000E-03         # Fj(1,2)',\n",
       " '   2   1      1.0000000E-03         # Fj(2,1)',\n",
       " '   2   2      2.0000000E-03         # Fj(2,2)',\n",
       " '',\n",
       " 'BLOCK L6IN',\n",
       " '   1   1      1.0000000E-02         # lam6(1,1)',\n",
       " '   1   2      2.0000000E-02         # lam6(1,2)',\n",
       " '   2   1      3.0000000E-02         # lam6(2,1)',\n",
       " '   2   2      3.0000000E-02         # lam6(2,2)',\n",
       " '',\n",
       " 'BLOCK L7IN',\n",
       " '   1   1      1.1000000E-02         # lam7(1,1)',\n",
       " '   1   2      2.0000000E-03         # lam7(1,2)',\n",
       " '   2   1      3.1000000E-02         # lam7(2,1)',\n",
       " '   2   2      4.0000000E-02         # lam7(2,2)',\n",
       " '',\n",
       " 'BLOCK LDIN',\n",
       " '   1   1      1.0000000E-01         # LD(1,1)',\n",
       " '   1   2      2.0000000E-02         # LD(1,2)',\n",
       " '   1   3      3.0000000E-02         # LD(1,3)',\n",
       " '   2   1      1.0000000E-02         # LD(2,1)',\n",
       " '   2   2      2.0000000E-02         # LD(2,2)',\n",
       " '   2   3      3.0000000E-02         # LD(2,3)',\n",
       " '',\n",
       " 'BLOCK LEIN',\n",
       " '   1   1      1.0000000E-01         # LE(1,1)',\n",
       " '   1   2      2.0000000E-02         # LE(1,2)',\n",
       " '   2   1      1.0000000E-03         # LE(2,1)',\n",
       " '   2   2      2.0000000E-02         # LE(2,2)',\n",
       " '',\n",
       " 'BLOCK M1IN',\n",
       " '   1   1      2.0000000E+06         # m1(1,1)',\n",
       " '   1   2      0.000000E+00         # m1(1,2)',\n",
       " '   2   1      0.000000E+00         # m1(2,1)',\n",
       " '   2   2      2.0000000E+07         # m1(2,2)',\n",
       " '',\n",
       " 'BLOCK M2IN',\n",
       " '   1   1      2.0000000E+08         # m2(1,1)',\n",
       " '   1   2      0.000000E+00         # m2(1,2)',\n",
       " '   2   1      0.000000E+00         # m2(2,1)',\n",
       " '   2   2      2.0000000E+9         # m2(2,2)']"
      ]
     },
     "execution_count": 4,
     "metadata": {},
     "output_type": "execute_result"
    }
   ],
   "source": [
    "file.splitlines()"
   ]
  },
  {
   "cell_type": "code",
   "execution_count": null,
   "metadata": {},
   "outputs": [],
   "source": []
  },
  {
   "cell_type": "code",
   "execution_count": null,
   "metadata": {},
   "outputs": [],
   "source": []
  },
  {
   "cell_type": "code",
   "execution_count": null,
   "metadata": {},
   "outputs": [],
   "source": []
  },
  {
   "cell_type": "code",
   "execution_count": null,
   "metadata": {},
   "outputs": [],
   "source": []
  },
  {
   "cell_type": "code",
   "execution_count": null,
   "metadata": {},
   "outputs": [],
   "source": []
  },
  {
   "cell_type": "code",
   "execution_count": null,
   "metadata": {},
   "outputs": [],
   "source": []
  }
 ],
 "metadata": {
  "kernelspec": {
   "display_name": "Python 3",
   "language": "python",
   "name": "python3"
  },
  "language_info": {
   "codemirror_mode": {
    "name": "ipython",
    "version": 3
   },
   "file_extension": ".py",
   "mimetype": "text/x-python",
   "name": "python",
   "nbconvert_exporter": "python",
   "pygments_lexer": "ipython3",
   "version": "3.5.3"
  }
 },
 "nbformat": 4,
 "nbformat_minor": 1
}
