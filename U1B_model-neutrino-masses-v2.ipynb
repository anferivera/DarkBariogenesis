{
 "cells": [
  {
   "cell_type": "markdown",
   "metadata": {},
   "source": [
    "# U1B model: neutrino masses"
   ]
  },
  {
   "cell_type": "markdown",
   "metadata": {},
   "source": [
    "The idea is to check the neutrino mases to one loop.\n",
    "Leshouches dictionary, SPHENO_4.0.3, micromegas_5.0.4"
   ]
  },
  {
   "cell_type": "code",
   "execution_count": 1,
   "metadata": {},
   "outputs": [],
   "source": [
    "import numpy as np\n",
    "import pandas as pd\n",
    "import subprocess\n",
    "import time\n",
    "import sys\n",
    "\n",
    "%matplotlib inline\n",
    "import matplotlib.pyplot as plt "
   ]
  },
  {
   "cell_type": "code",
   "execution_count": 2,
   "metadata": {},
   "outputs": [],
   "source": [
    "import pyslha\n",
    "import pyU1B_LesHouches_generator"
   ]
  },
  {
   "cell_type": "code",
   "execution_count": 3,
   "metadata": {},
   "outputs": [
    {
     "data": {
      "image/png": "[encoded data removed]",
      "text/plain": [
       "<IPython.core.display.Image object>"
      ]
     },
     "execution_count": 3,
     "metadata": {},
     "output_type": "execute_result"
    }
   ],
   "source": [
    "from IPython.display import Image\n",
    "Image(\"zee-couplings.png\")"
   ]
  },
  {
   "cell_type": "markdown",
   "metadata": {},
   "source": [
    "run diccionary"
   ]
  },
  {
   "cell_type": "code",
   "execution_count": 4,
   "metadata": {},
   "outputs": [
    {
     "name": "stdout",
     "output_type": "stream",
     "text": [
      "The program spent 11.995489120483398 s running 5 times\n"
     ]
    }
   ],
   "source": [
    "# Tiempo inicial\n",
    "t1=time.time() \n",
    "\n",
    "x=[]\n",
    "\n",
    "Num = 5\n",
    "\n",
    "for i in range (0,Num):\n",
    "    \n",
    "    xdict = pyU1B_LesHouches_generator.buildSLHAinFile()\n",
    "\n",
    "    L2 = -7.23E-2\n",
    "    YA1 = 0.6\n",
    "    YC1 = 1.0 #control the Fvv mass\n",
    "    vx = np.random.uniform(1500,3000)\n",
    "    YRG = 5.1E-1\n",
    "    \n",
    "    Fi11 = 0.112\n",
    "    Fi12 = 0.1\n",
    "    Fi21 = 0.2\n",
    "    Fi22 = 0.3\n",
    "    \n",
    "    LD11 = 1.1E-1\n",
    "    LD12 = 1.2E-1\n",
    "    LD13 = 1.2E-2\n",
    "    LD21 = 1.1E-2\n",
    "    LD22 = 1.3E-2\n",
    "    LD23 = 1.21E-2\n",
    "    \n",
    "    LE11 = 1.11E-1\n",
    "    LE12 = 1.12E-1\n",
    "    LE21 = 1.13E-1\n",
    "    LE22 = 1.14E-2\n",
    "    \n",
    "    #Modify one parameter\n",
    "    xdict.blocks['MINPAR'].entries[2]='%.6E    # Lambda2INPUT'%L2\n",
    "    xdict.blocks['MINPAR'].entries[7]='%.6E    # YA1INPUT'%YA1\n",
    "    xdict.blocks['MINPAR'].entries[11]='%.6E    # YC1INPUT'%YC1\n",
    "    xdict.blocks['MINPAR'].entries[13]='%.6E    # YRGINPUT'%YRG\n",
    "    xdict.blocks['MINPAR'].entries[15]='%.6E    # vXInput'%vx\n",
    "    \n",
    "    xdict.blocks['FIIN'].entries[1,1]='%.6E    # Fi(1,1)'%Fi11\n",
    "    xdict.blocks['FIIN'].entries[1,2]='%.6E    # Fi(1,2)'%Fi12\n",
    "    xdict.blocks['FIIN'].entries[2,1]='%.6E    # Fi(2,1)'%Fi21\n",
    "    xdict.blocks['FIIN'].entries[2,2]='%.6E    # Fi(2,2)'%Fi22\n",
    "    \n",
    "    xdict.blocks['LDIN'].entries[1,1]='%.6E    # LD(1,1)'%LD11\n",
    "    xdict.blocks['LDIN'].entries[1,2]='%.6E    # LD(1,2)'%LD12\n",
    "    xdict.blocks['LDIN'].entries[1,3]='%.6E    # LD(1,3)'%LD13\n",
    "    xdict.blocks['LDIN'].entries[2,1]='%.6E    # LD(2,1)'%LD21\n",
    "    xdict.blocks['LDIN'].entries[2,2]='%.6E    # LD(2,2)'%LD22\n",
    "    xdict.blocks['LDIN'].entries[2,3]='%.6E    # LD(2,3)'%LD23\n",
    "    \n",
    "    xdict.blocks['LEIN'].entries[1,1]='%.6E    # LE(1,1)'%LE11\n",
    "    xdict.blocks['LEIN'].entries[1,2]='%.6E    # LE(1,2)'%LE12\n",
    "    xdict.blocks['LEIN'].entries[2,1]='%.6E    # LE(2,1)'%LE21\n",
    "    xdict.blocks['LEIN'].entries[2,2]='%.6E    # LE(2,2)'%LE22\n",
    "                \n",
    "    pyslha.writeSLHAFile('LesHouches.in.U1B_low',xdict) \n",
    "\n",
    "    #run SPheno\n",
    "    spheno = subprocess.getoutput('~/Work/SPheno-4.0.3/bin/SPhenoU1B LesHouches.in.U1B_low')    \n",
    "    so = subprocess.getoutput('cat SPheno.spc.U1B')\n",
    "    \n",
    "    #capturo algo de spheno\n",
    "    MZp = eval(so.split('# VWm')[1].split()[1])\n",
    "    mnu1 = np.abs(eval(so.split('# Fe_3')[1].split()[1]))\n",
    "    mnu2 = np.abs(eval(so.split('# Fe_3')[1].split()[5]))\n",
    "    mnu3 = np.abs(eval(so.split('# Fe_3')[1].split()[13]))\n",
    "    \n",
    "    ZP22 = eval(so.split('# ZP(2,1)')[1].split()[2])\n",
    "    ZP23 = eval(so.split('# ZP(2,1)')[1].split()[7])\n",
    "    ZP24 = eval(so.split('# ZP(2,1)')[1].split()[12])\n",
    "    ZP25 = eval(so.split('# ZP(2,1)')[1].split()[17])\n",
    "\n",
    "    ZP32 = eval(so.split('# ZP(2,1)')[1].split()[27])\n",
    "    ZP33 = eval(so.split('# ZP(2,1)')[1].split()[32])\n",
    "    ZP34 = eval(so.split('# ZP(2,1)')[1].split()[37])\n",
    "    ZP35 = eval(so.split('# ZP(2,1)')[1].split()[42])\n",
    "\n",
    "    ZP42 = eval(so.split('# ZP(2,1)')[1].split()[52])\n",
    "    ZP43 = eval(so.split('# ZP(2,1)')[1].split()[57])\n",
    "    ZP44 = eval(so.split('# ZP(2,1)')[1].split()[62])\n",
    "    ZP45 = eval(so.split('# ZP(2,1)')[1].split()[67])\n",
    "\n",
    "    ZP52 = eval(so.split('# ZP(2,1)')[1].split()[77])\n",
    "    ZP53 = eval(so.split('# ZP(2,1)')[1].split()[82])\n",
    "    ZP54 = eval(so.split('# ZP(2,1)')[1].split()[87])\n",
    "    ZP55 = eval(so.split('# ZP(2,1)')[1].split()[92])\n",
    "    \n",
    "    mH2=eval(so.split('Block MASS')[1].split()[17])\n",
    "    mH3=eval(so.split('Block MASS')[1].split()[21])\n",
    "    mH4=eval(so.split('Block MASS')[1].split()[25])\n",
    "    mH5=eval(so.split('Block MASS')[1].split()[29])\n",
    "    meD1=eval(so.split('# Fvv')[1].split()[1])\n",
    "    meD2=eval(so.split('# Fvv')[1].split()[5])\n",
    "    \n",
    "    VL11=eval(so.split('Block UELDMIX')[1].split()[6])\n",
    "    VL12=eval(so.split('Block UELDMIX')[1].split()[11])\n",
    "    VL21=eval(so.split('Block UELDMIX')[1].split()[16])\n",
    "    VL22=eval(so.split('Block UELDMIX')[1].split()[21])\n",
    "\n",
    "    UL11=eval(so.split('Block UERDMIX')[1].split()[6])\n",
    "    UL12=eval(so.split('Block UERDMIX')[1].split()[11])\n",
    "    UL21=eval(so.split('Block UERDMIX')[1].split()[16])\n",
    "    UL22=eval(so.split('Block UERDMIX')[1].split()[21])\n",
    "     \n",
    "    x.append([L2,YA1,YC1,vx,YRG,Fi11,Fi12,Fi21,Fi22,LD11,LD12,LD13,LD21,LD22,LD23,LE11,LE12,LE21,LE22,MZp,\\\n",
    "              mnu1,mnu2,mnu3,ZP22,ZP23,ZP24,ZP25,ZP32,ZP33,ZP34,ZP35,ZP42,ZP43,ZP44,ZP45,ZP52,ZP53,ZP54,ZP55,\\\n",
    "             mH2,mH3,mH4,mH5,meD1,meD2,VL11,VL12,VL21,VL22,UL11,UL12,UL21,UL22])\n",
    "\n",
    "x=np.asarray(x)\n",
    "xd=pd.DataFrame(x,columns=['L2','YA1','YC1','vx','YRG','Fi11','Fi12','Fi21','Fi22','LD11','LD12','LD13',\\\n",
    "                           'LD21','LD22','LD23','LE11','LE12','LE21','LE22','MZp','mnu1','mnu2','mnu3',\\\n",
    "                           'ZP22','ZP23','ZP24','ZP25','ZP32','ZP33','ZP34','ZP35','ZP42','ZP43','ZP44',\\\n",
    "                           'ZP45','ZP52','ZP53','ZP54','ZP55','mH2','mH3','mH4','mH5','meD1','meD2',\\\n",
    "                           'VL11','VL12','VL21','VL22','UL11','UL12','UL21','UL22'])  \n",
    "\n",
    "t2=time.time() \n",
    "print (\"The program spent\", t2-t1, \"s running\",Num,\"times\")   "
   ]
  },
  {
   "cell_type": "code",
   "execution_count": 12,
   "metadata": {},
   "outputs": [
    {
     "data": {
      "text/html": [
       "<div>\n",
       "<table border=\"1\" class=\"dataframe\">\n",
       "  <thead>\n",
       "    <tr style=\"text-align: right;\">\n",
       "      <th></th>\n",
       "      <th>mnu1</th>\n",
       "      <th>mnu2</th>\n",
       "      <th>mnu3</th>\n",
       "      <th>VL11</th>\n",
       "    </tr>\n",
       "  </thead>\n",
       "  <tbody>\n",
       "    <tr>\n",
       "      <th>0</th>\n",
       "      <td>4.865113e-27</td>\n",
       "      <td>1.855930e-10</td>\n",
       "      <td>5.702407e-08</td>\n",
       "      <td>-0.012509</td>\n",
       "    </tr>\n",
       "    <tr>\n",
       "      <th>1</th>\n",
       "      <td>4.797591e-27</td>\n",
       "      <td>1.368801e-10</td>\n",
       "      <td>4.358045e-08</td>\n",
       "      <td>-0.017733</td>\n",
       "    </tr>\n",
       "    <tr>\n",
       "      <th>2</th>\n",
       "      <td>3.252077e-27</td>\n",
       "      <td>1.582111e-10</td>\n",
       "      <td>4.959494e-08</td>\n",
       "      <td>-0.015060</td>\n",
       "    </tr>\n",
       "    <tr>\n",
       "      <th>3</th>\n",
       "      <td>2.404554e-27</td>\n",
       "      <td>1.932612e-10</td>\n",
       "      <td>5.904738e-08</td>\n",
       "      <td>-0.011921</td>\n",
       "    </tr>\n",
       "    <tr>\n",
       "      <th>4</th>\n",
       "      <td>7.028730e-27</td>\n",
       "      <td>1.342022e-10</td>\n",
       "      <td>4.281098e-08</td>\n",
       "      <td>-0.018126</td>\n",
       "    </tr>\n",
       "  </tbody>\n",
       "</table>\n",
       "</div>"
      ],
      "text/plain": [
       "           mnu1          mnu2          mnu3      VL11\n",
       "0  4.865113e-27  1.855930e-10  5.702407e-08 -0.012509\n",
       "1  4.797591e-27  1.368801e-10  4.358045e-08 -0.017733\n",
       "2  3.252077e-27  1.582111e-10  4.959494e-08 -0.015060\n",
       "3  2.404554e-27  1.932612e-10  5.904738e-08 -0.011921\n",
       "4  7.028730e-27  1.342022e-10  4.281098e-08 -0.018126"
      ]
     },
     "execution_count": 12,
     "metadata": {},
     "output_type": "execute_result"
    }
   ],
   "source": [
    "xd[['mnu1','mnu2','mnu3','VL11']]"
   ]
  },
  {
   "cell_type": "markdown",
   "metadata": {},
   "source": [
    "Neutrino rutine funtions"
   ]
  },
  {
   "cell_type": "code",
   "execution_count": 10,
   "metadata": {},
   "outputs": [],
   "source": [
    "import neutrino_analytic"
   ]
  },
  {
   "cell_type": "code",
   "execution_count": 9,
   "metadata": {},
   "outputs": [
    {
     "data": {
      "text/plain": [
       "0.047640438298904977"
      ]
     },
     "execution_count": 9,
     "metadata": {},
     "output_type": "execute_result"
    }
   ],
   "source": [
    "neutrino_analytic.SUML(2,3,4,1,0.5,1,0.2)"
   ]
  },
  {
   "cell_type": "code",
   "execution_count": 10,
   "metadata": {},
   "outputs": [
    {
     "data": {
      "text/plain": [
       "0.36362510170408341"
      ]
     },
     "execution_count": 10,
     "metadata": {},
     "output_type": "execute_result"
    }
   ],
   "source": [
    "neutrino_analytic.Lj(0.2,0.3,100,200,300,0.2,0.3,1,1)"
   ]
  },
  {
   "cell_type": "code",
   "execution_count": 11,
   "metadata": {},
   "outputs": [
    {
     "data": {
      "text/plain": [
       "3.4980371542795701"
      ]
     },
     "execution_count": 11,
     "metadata": {},
     "output_type": "execute_result"
    }
   ],
   "source": [
    "neutrino_analytic.Lab(0.1,1,0.3,.8,.5,.6,.8,.2,100,200,300,400,500,600,.2,.5,.6,.3)"
   ]
  },
  {
   "cell_type": "markdown",
   "metadata": {},
   "source": [
    "Neutrino $M_{ij}^{\\nu}$ matrix:"
   ]
  },
  {
   "cell_type": "markdown",
   "metadata": {},
   "source": [
    "\\begin{equation}\n",
    "M_{ik}^{\\nu} = (h_d)^{\\alpha i} \\Lambda^{\\alpha\\beta} (h_e)^{\\beta k}\n",
    "\\end{equation}"
   ]
  },
  {
   "cell_type": "code",
   "execution_count": 13,
   "metadata": {},
   "outputs": [
    {
     "data": {
      "text/plain": [
       "(2.040494988605009e-16, 1.855929641467877e-10, 5.7024066145491543e-08)"
      ]
     },
     "execution_count": 13,
     "metadata": {},
     "output_type": "execute_result"
    }
   ],
   "source": [
    "neutrino_analytic.Mab(xd.ZP22[0],xd.ZP23[0],xd.ZP24[0],xd.ZP25[0],xd.ZP32[0],xd.ZP33[0],xd.ZP34[0],xd.ZP35[0],xd.ZP42[0],xd.ZP43[0],\\\n",
    "                           xd.ZP44[0],xd.ZP45[0],xd.ZP52[0],xd.ZP53[0],xd.ZP54[0],xd.ZP55[0],xd.meD1[0],xd.meD2[0],\\\n",
    "    xd.mH2[0],xd.mH3[0],xd.mH4[0],xd.mH5[0],xd.VL11[0],xd.VL21[0],xd.UL11[0],xd.UL21[0],xd.LD11[0],xd.LD12[0],\\\n",
    "    xd.LD13[0],xd.LD21[0],xd.LD22[0],xd.LD23[0],xd.LE11[0],xd.LE12[0],0.,xd.LE21[0],xd.LE22[0],0.)"
   ]
  },
  {
   "cell_type": "markdown",
   "metadata": {},
   "source": [
    "vectorize not working"
   ]
  },
  {
   "cell_type": "code",
   "execution_count": null,
   "metadata": {},
   "outputs": [],
   "source": [
    "'''\n",
    "#Add to the DataFrame  not working\n",
    "neutrino_analytic.MatrixDiag_new(xd.ZP22,xd.ZP23,xd.ZP24,xd.ZP25,xd.ZP32,xd.ZP33,xd.ZP34,xd.ZP35,xd.ZP42,xd.ZP43,xd.ZP44,xd.ZP45,\\\n",
    "               xd.ZP52,xd.ZP53,xd.ZP54,xd.ZP55,xd.meD1,xd.meD2,xd.mH2,xd.mH3,xd.mH4,xd.mH5,xd.VL11,xd.VL21,\\\n",
    "               xd.UL11,xd.UL21,xd.LD11,xd.LD12,xd.LD13,xd.LD21,xd.LD22,xd.LD23,xd.LE11,xd.LE12,0.,xd.LE21,xd.LE22,0.)\n",
    "\n",
    "'''"
   ]
  },
  {
   "cell_type": "code",
   "execution_count": 14,
   "metadata": {},
   "outputs": [],
   "source": [
    "y=[]\n",
    "\n",
    "for i in range(0,xd.shape[0]):\n",
    "    \n",
    "    a = neutrino_analytic.Mab(xd.ZP22[i],xd.ZP23[i],xd.ZP24[i],xd.ZP25[i],xd.ZP32[i],xd.ZP33[i],xd.ZP34[i],xd.ZP35[i],xd.ZP42[i],xd.ZP43[i],\\\n",
    "                           xd.ZP44[i],xd.ZP45[i],xd.ZP52[i],xd.ZP53[i],xd.ZP54[i],xd.ZP55[i],xd.meD1[i],xd.meD2[i],\\\n",
    "    xd.mH2[i],xd.mH3[i],xd.mH4[i],xd.mH5[i],xd.VL11[i],xd.VL21[i],xd.UL11[i],xd.UL21[i],xd.LD11[i],xd.LD12[i],\\\n",
    "    xd.LD13[i],xd.LD21[i],xd.LD22[i],xd.LD23[i],xd.LE11[i],xd.LE12[i],0.,xd.LE21[i],xd.LE22[i],0.)\n",
    "    \n",
    "    mn1 = a[0]\n",
    "    mn2 = a[1]\n",
    "    mn3 = a[2]\n",
    "    \n",
    "    y.append([mn1,mn2,mn3])\n",
    "\n",
    "y=np.asarray(y)\n",
    "yd=pd.DataFrame(y,columns=['mn1','mn2','mn3'])"
   ]
  },
  {
   "cell_type": "code",
   "execution_count": 15,
   "metadata": {},
   "outputs": [
    {
     "data": {
      "text/html": [
       "<div>\n",
       "<table border=\"1\" class=\"dataframe\">\n",
       "  <thead>\n",
       "    <tr style=\"text-align: right;\">\n",
       "      <th></th>\n",
       "      <th>mn1</th>\n",
       "      <th>mn2</th>\n",
       "      <th>mn3</th>\n",
       "    </tr>\n",
       "  </thead>\n",
       "  <tbody>\n",
       "    <tr>\n",
       "      <th>0</th>\n",
       "      <td>2.040495e-16</td>\n",
       "      <td>1.855930e-10</td>\n",
       "      <td>5.702407e-08</td>\n",
       "    </tr>\n",
       "    <tr>\n",
       "      <th>1</th>\n",
       "      <td>7.389922e-16</td>\n",
       "      <td>1.368801e-10</td>\n",
       "      <td>4.358045e-08</td>\n",
       "    </tr>\n",
       "  </tbody>\n",
       "</table>\n",
       "</div>"
      ],
      "text/plain": [
       "            mn1           mn2           mn3\n",
       "0  2.040495e-16  1.855930e-10  5.702407e-08\n",
       "1  7.389922e-16  1.368801e-10  4.358045e-08"
      ]
     },
     "execution_count": 15,
     "metadata": {},
     "output_type": "execute_result"
    }
   ],
   "source": [
    "yd[:2]"
   ]
  },
  {
   "cell_type": "code",
   "execution_count": 16,
   "metadata": {},
   "outputs": [
    {
     "data": {
      "text/html": [
       "<div>\n",
       "<table border=\"1\" class=\"dataframe\">\n",
       "  <thead>\n",
       "    <tr style=\"text-align: right;\">\n",
       "      <th></th>\n",
       "      <th>mnu1</th>\n",
       "      <th>mnu2</th>\n",
       "      <th>mnu3</th>\n",
       "    </tr>\n",
       "  </thead>\n",
       "  <tbody>\n",
       "    <tr>\n",
       "      <th>0</th>\n",
       "      <td>4.865113e-27</td>\n",
       "      <td>1.855930e-10</td>\n",
       "      <td>5.702407e-08</td>\n",
       "    </tr>\n",
       "    <tr>\n",
       "      <th>1</th>\n",
       "      <td>4.797591e-27</td>\n",
       "      <td>1.368801e-10</td>\n",
       "      <td>4.358045e-08</td>\n",
       "    </tr>\n",
       "  </tbody>\n",
       "</table>\n",
       "</div>"
      ],
      "text/plain": [
       "           mnu1          mnu2          mnu3\n",
       "0  4.865113e-27  1.855930e-10  5.702407e-08\n",
       "1  4.797591e-27  1.368801e-10  4.358045e-08"
      ]
     },
     "execution_count": 16,
     "metadata": {},
     "output_type": "execute_result"
    }
   ],
   "source": [
    "xd[['mnu1','mnu2','mnu3']][:2]"
   ]
  },
  {
   "cell_type": "code",
   "execution_count": 17,
   "metadata": {},
   "outputs": [],
   "source": [
    "#For good plots\n",
    "plt.rcParams.update({'font.size': 20}) \n",
    "#plt.rc('font',size='18')"
   ]
  },
  {
   "cell_type": "code",
   "execution_count": 18,
   "metadata": {},
   "outputs": [
    {
     "data": {
      "image/png": "[encoded data removed]",
      "text/plain": [
       "<matplotlib.figure.Figure at 0x7f5dca553908>"
      ]
     },
     "metadata": {
      "needs_background": "light"
     },
     "output_type": "display_data"
    }
   ],
   "source": [
    "plt.figure(figsize=(8,6))\n",
    "\n",
    "#plt.loglog(xd.mv1,xd.mn1,'bo')\n",
    "plt.loglog(xd.mnu2,yd.mn2,'bo')\n",
    "plt.loglog(xd.mnu3,yd.mn3,'go')\n",
    "\n",
    "a = np.linspace(1e-10,1e-07,20)\n",
    "plt.plot(a,a,'r-')\n",
    "\n",
    "plt.xlabel(r'$m_i$SPHENO (GeV)',size=25)\n",
    "plt.ylabel(r'$m_i$Analytic (GeV)',size=25)\n",
    "plt.legend()\n",
    "\n",
    "plt.grid()\n",
    "\n",
    "plt.tight_layout()\n",
    "#plt.savefig('plots/neutrino_masses.pdf')"
   ]
  },
  {
   "cell_type": "code",
   "execution_count": null,
   "metadata": {},
   "outputs": [],
   "source": []
  },
  {
   "cell_type": "code",
   "execution_count": null,
   "metadata": {},
   "outputs": [],
   "source": []
  }
 ],
 "metadata": {
  "kernelspec": {
   "display_name": "Python 3",
   "language": "python",
   "name": "python3"
  },
  "language_info": {
   "codemirror_mode": {
    "name": "ipython",
    "version": 3
   },
   "file_extension": ".py",
   "mimetype": "text/x-python",
   "name": "python",
   "nbconvert_exporter": "python",
   "pygments_lexer": "ipython3",
   "version": "3.5.3"
  }
 },
 "nbformat": 4,
 "nbformat_minor": 1
}
