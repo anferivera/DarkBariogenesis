{
 "cells": [
  {
   "cell_type": "code",
   "execution_count": 1,
   "metadata": {},
   "outputs": [],
   "source": [
    "import numpy as np\n",
    "import pandas as pd\n",
    "import subprocess\n",
    "import time\n",
    "import sys\n",
    "\n",
    "%matplotlib inline\n",
    "import matplotlib.pyplot as plt "
   ]
  },
  {
   "cell_type": "code",
   "execution_count": 8,
   "metadata": {},
   "outputs": [],
   "source": [
    "#For good plots\n",
    "plt.rcParams.update({'font.size': 20}) \n",
    "#plt.rc('font',size='18')"
   ]
  },
  {
   "cell_type": "code",
   "execution_count": 2,
   "metadata": {},
   "outputs": [
    {
     "data": {
      "text/plain": [
       "(1000, 10)"
      ]
     },
     "execution_count": 2,
     "metadata": {},
     "output_type": "execute_result"
    }
   ],
   "source": [
    "#Read old file\n",
    "xd = pd.read_csv('nbs-scan.csv')\n",
    "del xd['Unnamed: 0']\n",
    "\n",
    "xd.shape"
   ]
  },
  {
   "cell_type": "code",
   "execution_count": 5,
   "metadata": {},
   "outputs": [
    {
     "data": {
      "text/html": [
       "<div>\n",
       "<table border=\"1\" class=\"dataframe\">\n",
       "  <thead>\n",
       "    <tr style=\"text-align: right;\">\n",
       "      <th></th>\n",
       "      <th>MZp</th>\n",
       "      <th>gp</th>\n",
       "      <th>Deltan_B</th>\n",
       "      <th>mot</th>\n",
       "      <th>tht</th>\n",
       "      <th>lamt</th>\n",
       "      <th>sot</th>\n",
       "      <th>Tnt</th>\n",
       "      <th>Lwt</th>\n",
       "      <th>vwt</th>\n",
       "    </tr>\n",
       "  </thead>\n",
       "  <tbody>\n",
       "    <tr>\n",
       "      <th>0</th>\n",
       "      <td>331.683687</td>\n",
       "      <td>0.106056</td>\n",
       "      <td>1.493575e-15</td>\n",
       "      <td>409.149868</td>\n",
       "      <td>-1.200065</td>\n",
       "      <td>0.037359</td>\n",
       "      <td>208.607587</td>\n",
       "      <td>456.263433</td>\n",
       "      <td>0.012816</td>\n",
       "      <td>0.400289</td>\n",
       "    </tr>\n",
       "    <tr>\n",
       "      <th>1</th>\n",
       "      <td>331.683687</td>\n",
       "      <td>0.106056</td>\n",
       "      <td>1.536735e-14</td>\n",
       "      <td>409.149868</td>\n",
       "      <td>-0.882193</td>\n",
       "      <td>0.067423</td>\n",
       "      <td>493.019390</td>\n",
       "      <td>169.121094</td>\n",
       "      <td>0.041761</td>\n",
       "      <td>0.280009</td>\n",
       "    </tr>\n",
       "    <tr>\n",
       "      <th>2</th>\n",
       "      <td>331.683687</td>\n",
       "      <td>0.106056</td>\n",
       "      <td>1.485548e-15</td>\n",
       "      <td>409.149868</td>\n",
       "      <td>-1.077094</td>\n",
       "      <td>0.026430</td>\n",
       "      <td>148.384065</td>\n",
       "      <td>321.949417</td>\n",
       "      <td>0.010182</td>\n",
       "      <td>0.305171</td>\n",
       "    </tr>\n",
       "    <tr>\n",
       "      <th>3</th>\n",
       "      <td>331.683687</td>\n",
       "      <td>0.106056</td>\n",
       "      <td>-3.948695e-15</td>\n",
       "      <td>409.149868</td>\n",
       "      <td>0.929019</td>\n",
       "      <td>0.061139</td>\n",
       "      <td>353.530380</td>\n",
       "      <td>288.538246</td>\n",
       "      <td>0.020480</td>\n",
       "      <td>0.082219</td>\n",
       "    </tr>\n",
       "    <tr>\n",
       "      <th>4</th>\n",
       "      <td>331.683687</td>\n",
       "      <td>0.106056</td>\n",
       "      <td>NaN</td>\n",
       "      <td>409.149868</td>\n",
       "      <td>-1.492815</td>\n",
       "      <td>0.800772</td>\n",
       "      <td>362.266581</td>\n",
       "      <td>359.949265</td>\n",
       "      <td>0.012492</td>\n",
       "      <td>0.101466</td>\n",
       "    </tr>\n",
       "    <tr>\n",
       "      <th>5</th>\n",
       "      <td>331.683687</td>\n",
       "      <td>0.106056</td>\n",
       "      <td>2.028902e-14</td>\n",
       "      <td>409.149868</td>\n",
       "      <td>-1.354150</td>\n",
       "      <td>0.072548</td>\n",
       "      <td>318.576439</td>\n",
       "      <td>135.975238</td>\n",
       "      <td>0.023555</td>\n",
       "      <td>0.080581</td>\n",
       "    </tr>\n",
       "    <tr>\n",
       "      <th>6</th>\n",
       "      <td>331.683687</td>\n",
       "      <td>0.106056</td>\n",
       "      <td>2.947240e-16</td>\n",
       "      <td>409.149868</td>\n",
       "      <td>-1.505906</td>\n",
       "      <td>0.011895</td>\n",
       "      <td>140.593433</td>\n",
       "      <td>409.214663</td>\n",
       "      <td>0.011410</td>\n",
       "      <td>0.215169</td>\n",
       "    </tr>\n",
       "    <tr>\n",
       "      <th>7</th>\n",
       "      <td>331.683687</td>\n",
       "      <td>0.106056</td>\n",
       "      <td>-4.592249e-14</td>\n",
       "      <td>409.149868</td>\n",
       "      <td>0.410727</td>\n",
       "      <td>0.097067</td>\n",
       "      <td>435.823290</td>\n",
       "      <td>109.103145</td>\n",
       "      <td>0.021428</td>\n",
       "      <td>0.498553</td>\n",
       "    </tr>\n",
       "    <tr>\n",
       "      <th>8</th>\n",
       "      <td>331.683687</td>\n",
       "      <td>0.106056</td>\n",
       "      <td>1.610778e-15</td>\n",
       "      <td>409.149868</td>\n",
       "      <td>-0.726832</td>\n",
       "      <td>0.013504</td>\n",
       "      <td>362.634961</td>\n",
       "      <td>161.213002</td>\n",
       "      <td>0.040683</td>\n",
       "      <td>0.316784</td>\n",
       "    </tr>\n",
       "    <tr>\n",
       "      <th>9</th>\n",
       "      <td>331.683687</td>\n",
       "      <td>0.106056</td>\n",
       "      <td>8.817954e-14</td>\n",
       "      <td>409.149868</td>\n",
       "      <td>-1.222410</td>\n",
       "      <td>0.425147</td>\n",
       "      <td>379.661492</td>\n",
       "      <td>136.036600</td>\n",
       "      <td>0.064853</td>\n",
       "      <td>0.409356</td>\n",
       "    </tr>\n",
       "  </tbody>\n",
       "</table>\n",
       "</div>"
      ],
      "text/plain": [
       "          MZp        gp      Deltan_B         mot       tht      lamt  \\\n",
       "0  331.683687  0.106056  1.493575e-15  409.149868 -1.200065  0.037359   \n",
       "1  331.683687  0.106056  1.536735e-14  409.149868 -0.882193  0.067423   \n",
       "2  331.683687  0.106056  1.485548e-15  409.149868 -1.077094  0.026430   \n",
       "3  331.683687  0.106056 -3.948695e-15  409.149868  0.929019  0.061139   \n",
       "4  331.683687  0.106056           NaN  409.149868 -1.492815  0.800772   \n",
       "5  331.683687  0.106056  2.028902e-14  409.149868 -1.354150  0.072548   \n",
       "6  331.683687  0.106056  2.947240e-16  409.149868 -1.505906  0.011895   \n",
       "7  331.683687  0.106056 -4.592249e-14  409.149868  0.410727  0.097067   \n",
       "8  331.683687  0.106056  1.610778e-15  409.149868 -0.726832  0.013504   \n",
       "9  331.683687  0.106056  8.817954e-14  409.149868 -1.222410  0.425147   \n",
       "\n",
       "          sot         Tnt       Lwt       vwt  \n",
       "0  208.607587  456.263433  0.012816  0.400289  \n",
       "1  493.019390  169.121094  0.041761  0.280009  \n",
       "2  148.384065  321.949417  0.010182  0.305171  \n",
       "3  353.530380  288.538246  0.020480  0.082219  \n",
       "4  362.266581  359.949265  0.012492  0.101466  \n",
       "5  318.576439  135.975238  0.023555  0.080581  \n",
       "6  140.593433  409.214663  0.011410  0.215169  \n",
       "7  435.823290  109.103145  0.021428  0.498553  \n",
       "8  362.634961  161.213002  0.040683  0.316784  \n",
       "9  379.661492  136.036600  0.064853  0.409356  "
      ]
     },
     "execution_count": 5,
     "metadata": {},
     "output_type": "execute_result"
    }
   ],
   "source": [
    "xd[:10]"
   ]
  },
  {
   "cell_type": "code",
   "execution_count": 9,
   "metadata": {},
   "outputs": [
    {
     "data": {
      "image/png": "[encoded data removed]",
      "text/plain": [
       "<matplotlib.figure.Figure at 0x7f68238b3e80>"
      ]
     },
     "metadata": {
      "needs_background": "light"
     },
     "output_type": "display_data"
    }
   ],
   "source": [
    "plt.figure(figsize=(8,6))\n",
    "\n",
    "plt.loglog(xd.mot,xd.Deltan_B,'b.',label=r'')\n",
    "\n",
    "\n",
    "plt.xlabel(r'$m_{\\chi^0}$ (GeV)',size=25)\n",
    "plt.ylabel(r'$\\Delta nB$',size=25)\n",
    "#plt.legend(prop={'size':16},loc='best')\n",
    "\n",
    "plt.tight_layout()\n",
    "#plt.savefig('plots/DM_mchi.pdf')\n",
    "plt.show()"
   ]
  },
  {
   "cell_type": "code",
   "execution_count": 10,
   "metadata": {},
   "outputs": [
    {
     "data": {
      "text/plain": [
       "9.119579020105387e-13"
      ]
     },
     "execution_count": 10,
     "metadata": {},
     "output_type": "execute_result"
    }
   ],
   "source": [
    "xd.Deltan_B.max()"
   ]
  },
  {
   "cell_type": "code",
   "execution_count": null,
   "metadata": {},
   "outputs": [],
   "source": []
  }
 ],
 "metadata": {
  "kernelspec": {
   "display_name": "Python 3",
   "language": "python",
   "name": "python3"
  },
  "language_info": {
   "codemirror_mode": {
    "name": "ipython",
    "version": 3
   },
   "file_extension": ".py",
   "mimetype": "text/x-python",
   "name": "python",
   "nbconvert_exporter": "python",
   "pygments_lexer": "ipython3",
   "version": "3.5.3"
  }
 },
 "nbformat": 4,
 "nbformat_minor": 4
}
