{
 "cells": [
  {
   "cell_type": "markdown",
   "metadata": {},
   "source": [
    "# U1B model: neutrino masses inversion + DM scan"
   ]
  },
  {
   "cell_type": "markdown",
   "metadata": {},
   "source": [
    "The idea is to do a firts DM random scand"
   ]
  },
  {
   "cell_type": "code",
   "execution_count": 1,
   "metadata": {},
   "outputs": [],
   "source": [
    "import numpy as np\n",
    "import pandas as pd\n",
    "import subprocess\n",
    "import time\n",
    "import sys\n",
    "\n",
    "%matplotlib inline\n",
    "import matplotlib.pyplot as plt "
   ]
  },
  {
   "cell_type": "code",
   "execution_count": 2,
   "metadata": {},
   "outputs": [],
   "source": [
    "import pyslha\n",
    "import pyU1B_LesHouches_generator\n",
    "import neutrino_analytic_v2\n",
    "import NEUTRINO2018"
   ]
  },
  {
   "cell_type": "code",
   "execution_count": 3,
   "metadata": {},
   "outputs": [
    {
     "data": {
      "image/png": "[encoded data removed]",
      "text/plain": [
       "<IPython.core.display.Image object>"
      ]
     },
     "execution_count": 3,
     "metadata": {},
     "output_type": "execute_result"
    }
   ],
   "source": [
    "from IPython.display import Image\n",
    "Image(\"zee-couplings.png\")"
   ]
  },
  {
   "cell_type": "markdown",
   "metadata": {},
   "source": [
    "Run diccionary "
   ]
  },
  {
   "cell_type": "code",
   "execution_count": 67,
   "metadata": {},
   "outputs": [
    {
     "name": "stdout",
     "output_type": "stream",
     "text": [
      "The program spent 187.01551294326782 s running 10 times\n"
     ]
    }
   ],
   "source": [
    "# Tiempo inicial\n",
    "t1=time.time() \n",
    "\n",
    "x=[]\n",
    "\n",
    "Num = 10\n",
    "\n",
    "for i in range(0,Num):\n",
    "    #print(i)\n",
    "    #opend the dictionary\n",
    "    xdict = pyU1B_LesHouches_generator.buildSLHAinFile()\n",
    "\n",
    "    #Benchmark point i-esimo    \n",
    "    Lambda2 = -np.exp(np.random.uniform(np.log(1.*10**(-4)),np.log(10**(0)))) #L2 conj[bi].bi.conj[bi].bi\n",
    "    Lambda3 = np.exp(np.random.uniform(np.log(1.*10**(-4)),np.log(10**(-1)))) #L3 conj[bi].bi.conj[H].H\n",
    "    Lambda4 = -np.exp(np.random.uniform(np.log(1.*10**(-4)),np.log(10**(0)))) #L4 conj[bj].bj.conj[bj].bj\n",
    "    Lambda5 = -np.exp(np.random.uniform(np.log(1.*10**(-4)),np.log(10**(0)))) #L5 conj[bj].bj.conj[H].H \n",
    "    muj = np.exp(np.random.uniform(np.log(1.*10**(6)),np.log(10**(9)))) #muj conj[bj].bj   \n",
    "    YA1 = np.exp(np.random.uniform(np.log(1.*10**(-4)),np.log(10**(0)))) #YA1 conj[bi].x3.x4\n",
    "    YA2 = np.exp(np.random.uniform(np.log(1.*10**(-4)),np.log(10**(0)))) #YA2 conj[bj].x3.x4\n",
    "    YB1 = np.exp(np.random.uniform(np.log(1.*10**(-4)),np.log(10**(0)))) #YB1 bi.x5.x6\n",
    "    YB2 = np.exp(np.random.uniform(np.log(1.*10**(-4)),np.log(10**(0)))) #YB2 bj.x5.x6\n",
    "    YC1 = np.exp(np.random.uniform(np.log(1.*10**(-2)),np.log(10**(0)))) #YC1 conj[bi].lp.lpp : control the Fvv mass\n",
    "    YC2 = np.exp(np.random.uniform(np.log(1.*10**(-4)),np.log(10**(0)))) #YC2 conj[bj].lp.lpp \n",
    "    YRG = np.exp(np.random.uniform(np.log(1.*10**(-4)),np.log(10**(0)))) #YRG conj[H].x5.lp \n",
    "    YRH = np.exp(np.random.uniform(np.log(1.*10**(-4)),np.log(10**(0)))) #YRH H.x6.lpp\n",
    "    vx = np.random.uniform(500,12000) # VEV of Phi\n",
    "    g1p = np.exp(np.random.uniform(np.log(1.*10**(-4)),np.log(10**(0)))) #U1B coupling\n",
    "    \n",
    "    Fi11 = np.exp(np.random.uniform(np.log(1.*10**(-4)),np.log(10**(0)))) #Fi conj[S1].S2.conj[bi]\n",
    "    Fi12 = 0.0\n",
    "    Fi21 = 0.0\n",
    "    Fi22 = np.exp(np.random.uniform(np.log(1.*10**(-4)),np.log(10**(0))))\n",
    "    \n",
    "    Fj11 = np.exp(np.random.uniform(np.log(1.*10**(-4)),np.log(10**(-1)))) #Fj conj[S1].S2.conj[bj]\n",
    "    Fj12 = 0.0\n",
    "    Fj21 = 0.0\n",
    "    Fj22 = np.exp(np.random.uniform(np.log(1.*10**(-4)),np.log(10**(-1))))\n",
    "    \n",
    "    L611 = np.exp(np.random.uniform(np.log(1.*10**(-4)),np.log(10**(-1)))) #L6 conj[S1].S1.conj[H].H\n",
    "    L612 = np.exp(np.random.uniform(np.log(1.*10**(-4)),np.log(10**(-1)))) \n",
    "    L621 = np.exp(np.random.uniform(np.log(1.*10**(-4)),np.log(10**(-1)))) \n",
    "    L622 = np.exp(np.random.uniform(np.log(1.*10**(-4)),np.log(10**(-1)))) \n",
    "    \n",
    "    L711 = np.exp(np.random.uniform(np.log(1.*10**(-4)),np.log(10**(-1)))) #L7 conj[S2].S2.conj[H].H\n",
    "    L712 = np.exp(np.random.uniform(np.log(1.*10**(-4)),np.log(10**(-1)))) \n",
    "    L721 = np.exp(np.random.uniform(np.log(1.*10**(-4)),np.log(10**(-1)))) \n",
    "    L722 = np.exp(np.random.uniform(np.log(1.*10**(-4)),np.log(10**(-1)))) \n",
    "    \n",
    "    M111 = np.exp(np.random.uniform(np.log(1.*10**(6)),np.log(10**(8)))) #m1 conj[S1].S1\n",
    "    M112 = 0. \n",
    "    M121 = 0. \n",
    "    M122 = np.exp(np.random.uniform(np.log(1.*10**(6)),np.log(10**(8)))) \n",
    "    \n",
    "    M211 = np.exp(np.random.uniform(np.log(1.*10**(6)),np.log(10**(8)))) #m2 conj[S2].S2\n",
    "    M212 = 0. \n",
    "    M221 = 0. \n",
    "    M222 = np.exp(np.random.uniform(np.log(1.*10**(6)),np.log(10**(8)))) \n",
    "    \n",
    "    #Modify one parameter\n",
    "    xdict.blocks['MINPAR'].entries[2]='%.6E    # Lambda2INPUT'%Lambda2\n",
    "    xdict.blocks['MINPAR'].entries[3]='%.6E    # Lambda3INPUT'%Lambda3\n",
    "    xdict.blocks['MINPAR'].entries[4]='%.6E    # Lambda4INPUT'%Lambda4\n",
    "    xdict.blocks['MINPAR'].entries[5]='%.6E    # Lambda5INPUT'%Lambda5\n",
    "    xdict.blocks['MINPAR'].entries[6]='%.6E    # mujINPUT'%muj   \n",
    "    xdict.blocks['MINPAR'].entries[7]='%.6E    # YA1INPUT'%YA1\n",
    "    xdict.blocks['MINPAR'].entries[8]='%.6E    # YA2INPUT'%YA2\n",
    "    xdict.blocks['MINPAR'].entries[9]='%.6E    # YB1INPUT'%YB1\n",
    "    xdict.blocks['MINPAR'].entries[10]='%.6E    # YB2INPUT'%YB2 \n",
    "    xdict.blocks['MINPAR'].entries[11]='%.6E    # YC1INPUT'%YC1\n",
    "    xdict.blocks['MINPAR'].entries[12]='%.6E    # YC2INPUT'%YC2    \n",
    "    xdict.blocks['MINPAR'].entries[13]='%.6E    # YRGINPUT'%YRG\n",
    "    xdict.blocks['MINPAR'].entries[14]='%.6E    # YRHINPUT'%YRH\n",
    "    xdict.blocks['MINPAR'].entries[15]='%.6E    # vXInput'%vx\n",
    "    xdict.blocks['MINPAR'].entries[16]='%.6E    # g1pINPUT'%g1p\n",
    "\n",
    "    xdict.blocks['FIIN'].entries[1,1]='%.6E    # Fi(1,1)'%Fi11\n",
    "    xdict.blocks['FIIN'].entries[1,2]='%.6E    # Fi(1,2)'%Fi12\n",
    "    xdict.blocks['FIIN'].entries[2,1]='%.6E    # Fi(2,1)'%Fi21\n",
    "    xdict.blocks['FIIN'].entries[2,2]='%.6E    # Fi(2,2)'%Fi22\n",
    "    \n",
    "    xdict.blocks['FJIN'].entries[1,1]='%.6E    # Fj(1,1)'%Fj11\n",
    "    xdict.blocks['FJIN'].entries[1,2]='%.6E    # Fj(1,2)'%Fj12\n",
    "    xdict.blocks['FJIN'].entries[2,1]='%.6E    # Fj(2,1)'%Fj21\n",
    "    xdict.blocks['FJIN'].entries[2,2]='%.6E    # Fj(2,2)'%Fj22\n",
    "    \n",
    "    xdict.blocks['L6IN'].entries[1,1]='%.6E    # lam6(1,1)'%L611\n",
    "    xdict.blocks['L6IN'].entries[1,2]='%.6E    # lam6(1,2)'%L612\n",
    "    xdict.blocks['L6IN'].entries[2,1]='%.6E    # lam6(2,1)'%L621\n",
    "    xdict.blocks['L6IN'].entries[2,2]='%.6E    # lam6(2,2)'%L622\n",
    "    \n",
    "    xdict.blocks['L7IN'].entries[1,1]='%.6E    # lam7(1,1)'%L711\n",
    "    xdict.blocks['L7IN'].entries[1,2]='%.6E    # lam7(1,2)'%L712\n",
    "    xdict.blocks['L7IN'].entries[2,1]='%.6E    # lam7(2,1)'%L721\n",
    "    xdict.blocks['L7IN'].entries[2,2]='%.6E    # lam7(2,2)'%L722\n",
    "    \n",
    "    xdict.blocks['M1IN'].entries[1,1]='%.6E    # m1(1,1)'%M111\n",
    "    xdict.blocks['M1IN'].entries[1,2]='%.6E    # m1(1,2)'%M112\n",
    "    xdict.blocks['M1IN'].entries[2,1]='%.6E    # m1(2,1)'%M121\n",
    "    xdict.blocks['M1IN'].entries[2,2]='%.6E    # m1(2,2)'%M122\n",
    "    \n",
    "    xdict.blocks['M2IN'].entries[1,1]='%.6E    # m2(1,1)'%M211\n",
    "    xdict.blocks['M2IN'].entries[1,2]='%.6E    # m2(1,2)'%M212\n",
    "    xdict.blocks['M2IN'].entries[2,1]='%.6E    # m2(2,1)'%M221\n",
    "    xdict.blocks['M2IN'].entries[2,2]='%.6E    # m2(2,2)'%M222\n",
    "\n",
    "    pyslha.writeSLHAFile('LesHouches.in.U1B_low',xdict) \n",
    "\n",
    "    #run SPheno\n",
    "    spheno = subprocess.getoutput('~/Work/SPheno-4.0.3/bin/SPhenoU1B LesHouches.in.U1B_low')    \n",
    "    so = subprocess.getoutput('cat SPheno.spc.U1B')\n",
    "\n",
    "    ZP22 = eval(so.split('# ZP(2,1)')[1].split()[2])\n",
    "    ZP23 = eval(so.split('# ZP(2,1)')[1].split()[7])\n",
    "    ZP24 = eval(so.split('# ZP(2,1)')[1].split()[12])\n",
    "    ZP25 = eval(so.split('# ZP(2,1)')[1].split()[17])\n",
    "\n",
    "    ZP32 = eval(so.split('# ZP(2,1)')[1].split()[27])\n",
    "    ZP33 = eval(so.split('# ZP(2,1)')[1].split()[32])\n",
    "    ZP34 = eval(so.split('# ZP(2,1)')[1].split()[37])\n",
    "    ZP35 = eval(so.split('# ZP(2,1)')[1].split()[42])\n",
    "\n",
    "    ZP42 = eval(so.split('# ZP(2,1)')[1].split()[52])\n",
    "    ZP43 = eval(so.split('# ZP(2,1)')[1].split()[57])\n",
    "    ZP44 = eval(so.split('# ZP(2,1)')[1].split()[62])\n",
    "    ZP45 = eval(so.split('# ZP(2,1)')[1].split()[67])\n",
    "\n",
    "    ZP52 = eval(so.split('# ZP(2,1)')[1].split()[77])\n",
    "    ZP53 = eval(so.split('# ZP(2,1)')[1].split()[82])\n",
    "    ZP54 = eval(so.split('# ZP(2,1)')[1].split()[87])\n",
    "    ZP55 = eval(so.split('# ZP(2,1)')[1].split()[92])\n",
    "\n",
    "    mH2=eval(so.split('Block MASS')[1].split()[17])\n",
    "    mH3=eval(so.split('Block MASS')[1].split()[21])\n",
    "    mH4=eval(so.split('Block MASS')[1].split()[25])\n",
    "    mH5=eval(so.split('Block MASS')[1].split()[29])\n",
    "    meD1=eval(so.split('# Fvv')[1].split()[1])\n",
    "    meD2=eval(so.split('# Fvv')[1].split()[5])\n",
    "\n",
    "    VL11=eval(so.split('Block UELDMIX')[1].split()[6])\n",
    "    VL12=eval(so.split('Block UELDMIX')[1].split()[11])\n",
    "    VL21=eval(so.split('Block UELDMIX')[1].split()[16])\n",
    "    VL22=eval(so.split('Block UELDMIX')[1].split()[21])\n",
    "\n",
    "    UL11=eval(so.split('Block UERDMIX')[1].split()[6])\n",
    "    UL12=eval(so.split('Block UERDMIX')[1].split()[11])\n",
    "    UL21=eval(so.split('Block UERDMIX')[1].split()[16])\n",
    "    UL22=eval(so.split('Block UERDMIX')[1].split()[21])\n",
    "\n",
    "    #PMNS matrix 2018 to 3\\sigma https://arxiv.org/abs/1708.01186\n",
    "    k = NEUTRINO2018.nuexpvalues()\n",
    "    mv1 = k['mv1']\n",
    "    mv2 = k['mv2']\n",
    "    mv3 = k['mv3']\n",
    "    U11 = k['U11']\n",
    "    U12 = k['U12']\n",
    "    U13 = k['U13']\n",
    "    U21 = k['U21']\n",
    "    U22 = k['U22']\n",
    "    U23 = k['U23']\n",
    "    U31 = k['U31']\n",
    "    U32 = k['U32']\n",
    "    U33 = k['U33']\n",
    "                             \n",
    "    #Loop factors\n",
    "    L1 = neutrino_analytic_v2.Lab(ZP22,ZP32,ZP42,ZP52,ZP24,ZP34,ZP44,ZP54,meD1,meD2,mH2,mH3,mH4,mH5,VL11,\\\n",
    "                                VL21,UL11,UL21)\n",
    "    L2 = neutrino_analytic_v2.Lab(ZP23,ZP33,ZP43,ZP53,ZP25,ZP35,ZP45,ZP55,meD1,meD2,mH2,mH3,mH4,mH5,VL11,\\\n",
    "                                VL21,UL11,UL21)\n",
    "\n",
    "    #Random free parameters and Mathematic rutine\n",
    "    he12 = np.exp(np.random.uniform(np.log(1.*10**(-4)),np.log(10**(0))))\n",
    "    he13 = np.exp(np.random.uniform(np.log(1.*10**(-4)),np.log(10**(0))))\n",
    "    he22 = np.exp(np.random.uniform(np.log(1.*10**(-4)),np.log(10**(0))))\n",
    "    he23 = np.exp(np.random.uniform(np.log(1.*10**(-4)),np.log(10**(0))))\n",
    "\n",
    "    hd11 = -(1/L1)*(he23*mv2*U12 - he22*mv3*U13)/(he13*he22 - he12*he23)\n",
    "    hd12 = -(1/L1)*(he23*mv2*U22 - he22*mv3*U23)/(he13*he22 - he12*he23)\n",
    "    hd13 = -(1/L1)*(he23*mv2*U32 - he22*mv3*U33)/(he13*he22 - he12*he23)\n",
    "\n",
    "    hd21 = +(1/L2)*(he13*mv2*U12 - he12*mv3*U13)/(he13*he22 - he12*he23)\n",
    "    hd22 = +(1/L2)*(he13*mv2*U22 - he12*mv3*U23)/(he13*he22 - he12*he23)\n",
    "    hd23 = +(1/L2)*(he13*mv2*U32 - he12*mv3*U33)/(he13*he22 - he12*he23)\n",
    "\n",
    "    ######## RUN SECOND TIME ########\n",
    "    xdict = pyU1B_LesHouches_generator.buildSLHAinFile()\n",
    "\n",
    "    #Modify one parameter\n",
    "    xdict.blocks['MINPAR'].entries[2]='%.6E    # Lambda2INPUT'%Lambda2\n",
    "    xdict.blocks['MINPAR'].entries[3]='%.6E    # Lambda3INPUT'%Lambda3\n",
    "    xdict.blocks['MINPAR'].entries[4]='%.6E    # Lambda4INPUT'%Lambda4\n",
    "    xdict.blocks['MINPAR'].entries[5]='%.6E    # Lambda5INPUT'%Lambda5\n",
    "    xdict.blocks['MINPAR'].entries[6]='%.6E    # mujINPUT'%muj   \n",
    "    xdict.blocks['MINPAR'].entries[7]='%.6E    # YA1INPUT'%YA1\n",
    "    xdict.blocks['MINPAR'].entries[8]='%.6E    # YA2INPUT'%YA2\n",
    "    xdict.blocks['MINPAR'].entries[9]='%.6E    # YB1INPUT'%YB1\n",
    "    xdict.blocks['MINPAR'].entries[10]='%.6E    # YB2INPUT'%YB2 \n",
    "    xdict.blocks['MINPAR'].entries[11]='%.6E    # YC1INPUT'%YC1\n",
    "    xdict.blocks['MINPAR'].entries[12]='%.6E    # YC2INPUT'%YC2    \n",
    "    xdict.blocks['MINPAR'].entries[13]='%.6E    # YRGINPUT'%YRG\n",
    "    xdict.blocks['MINPAR'].entries[14]='%.6E    # YRHINPUT'%YRH\n",
    "    xdict.blocks['MINPAR'].entries[15]='%.6E    # vXInput'%vx\n",
    "    xdict.blocks['MINPAR'].entries[16]='%.6E    # g1pINPUT'%g1p\n",
    "\n",
    "    xdict.blocks['FIIN'].entries[1,1]='%.6E    # Fi(1,1)'%Fi11\n",
    "    xdict.blocks['FIIN'].entries[1,2]='%.6E    # Fi(1,2)'%Fi12\n",
    "    xdict.blocks['FIIN'].entries[2,1]='%.6E    # Fi(2,1)'%Fi21\n",
    "    xdict.blocks['FIIN'].entries[2,2]='%.6E    # Fi(2,2)'%Fi22\n",
    "    \n",
    "    xdict.blocks['FJIN'].entries[1,1]='%.6E    # Fj(1,1)'%Fj11\n",
    "    xdict.blocks['FJIN'].entries[1,2]='%.6E    # Fj(1,2)'%Fj12\n",
    "    xdict.blocks['FJIN'].entries[2,1]='%.6E    # Fj(2,1)'%Fj21\n",
    "    xdict.blocks['FJIN'].entries[2,2]='%.6E    # Fj(2,2)'%Fj22\n",
    "    \n",
    "    xdict.blocks['L6IN'].entries[1,1]='%.6E    # lam6(1,1)'%L611\n",
    "    xdict.blocks['L6IN'].entries[1,2]='%.6E    # lam6(1,2)'%L612\n",
    "    xdict.blocks['L6IN'].entries[2,1]='%.6E    # lam6(2,1)'%L621\n",
    "    xdict.blocks['L6IN'].entries[2,2]='%.6E    # lam6(2,2)'%L622\n",
    "    \n",
    "    xdict.blocks['L7IN'].entries[1,1]='%.6E    # lam7(1,1)'%L711\n",
    "    xdict.blocks['L7IN'].entries[1,2]='%.6E    # lam7(1,2)'%L712\n",
    "    xdict.blocks['L7IN'].entries[2,1]='%.6E    # lam7(2,1)'%L721\n",
    "    xdict.blocks['L7IN'].entries[2,2]='%.6E    # lam7(2,2)'%L722\n",
    "    \n",
    "    xdict.blocks['M1IN'].entries[1,1]='%.6E    # m1(1,1)'%M111\n",
    "    xdict.blocks['M1IN'].entries[1,2]='%.6E    # m1(1,2)'%M112\n",
    "    xdict.blocks['M1IN'].entries[2,1]='%.6E    # m1(2,1)'%M121\n",
    "    xdict.blocks['M1IN'].entries[2,2]='%.6E    # m1(2,2)'%M122\n",
    "    \n",
    "    xdict.blocks['M2IN'].entries[1,1]='%.6E    # m2(1,1)'%M211\n",
    "    xdict.blocks['M2IN'].entries[1,2]='%.6E    # m2(1,2)'%M212\n",
    "    xdict.blocks['M2IN'].entries[2,1]='%.6E    # m2(2,1)'%M221\n",
    "    xdict.blocks['M2IN'].entries[2,2]='%.6E    # m2(2,2)'%M222\n",
    "\n",
    "    xdict.blocks['LDIN'].entries[1,1]='%.6E    # LD(1,1)'%hd11\n",
    "    xdict.blocks['LDIN'].entries[1,2]='%.6E    # LD(1,2)'%hd12\n",
    "    xdict.blocks['LDIN'].entries[1,3]='%.6E    # LD(1,3)'%hd13\n",
    "    xdict.blocks['LDIN'].entries[2,1]='%.6E    # LD(2,1)'%hd21\n",
    "    xdict.blocks['LDIN'].entries[2,2]='%.6E    # LD(2,2)'%hd22\n",
    "    xdict.blocks['LDIN'].entries[2,3]='%.6E    # LD(2,3)'%hd23\n",
    "\n",
    "    xdict.blocks['LEIN'].entries[1,1]='%.6E    # LE(1,1)'%he12\n",
    "    xdict.blocks['LEIN'].entries[1,2]='%.6E    # LE(1,2)'%he13\n",
    "    xdict.blocks['LEIN'].entries[2,1]='%.6E    # LE(2,1)'%he22\n",
    "    xdict.blocks['LEIN'].entries[2,2]='%.6E    # LE(2,2)'%he23\n",
    "\n",
    "    pyslha.writeSLHAFile('LesHouches.in.U1B_low',xdict) \n",
    "\n",
    "    #run SPheno againt\n",
    "    spheno = subprocess.getoutput('~/Work/SPheno-4.0.3/bin/SPhenoU1B LesHouches.in.U1B_low')    \n",
    "    so = subprocess.getoutput('cat SPheno.spc.U1B')\n",
    "\n",
    "    #take spheno output\n",
    "    ZP22 = eval(so.split('# ZP(2,1)')[1].split()[2])\n",
    "    ZP23 = eval(so.split('# ZP(2,1)')[1].split()[7])\n",
    "    ZP24 = eval(so.split('# ZP(2,1)')[1].split()[12])\n",
    "    ZP25 = eval(so.split('# ZP(2,1)')[1].split()[17])\n",
    "\n",
    "    ZP32 = eval(so.split('# ZP(2,1)')[1].split()[27])\n",
    "    ZP33 = eval(so.split('# ZP(2,1)')[1].split()[32])\n",
    "    ZP34 = eval(so.split('# ZP(2,1)')[1].split()[37])\n",
    "    ZP35 = eval(so.split('# ZP(2,1)')[1].split()[42])\n",
    "\n",
    "    ZP42 = eval(so.split('# ZP(2,1)')[1].split()[52])\n",
    "    ZP43 = eval(so.split('# ZP(2,1)')[1].split()[57])\n",
    "    ZP44 = eval(so.split('# ZP(2,1)')[1].split()[62])\n",
    "    ZP45 = eval(so.split('# ZP(2,1)')[1].split()[67])\n",
    "\n",
    "    ZP52 = eval(so.split('# ZP(2,1)')[1].split()[77])\n",
    "    ZP53 = eval(so.split('# ZP(2,1)')[1].split()[82])\n",
    "    ZP54 = eval(so.split('# ZP(2,1)')[1].split()[87])\n",
    "    ZP55 = eval(so.split('# ZP(2,1)')[1].split()[92])\n",
    "    \n",
    "    mh1 = eval(so.split('#   PDG code')[1].split()[3])\n",
    "    mh2 = eval(so.split('#   PDG code')[1].split()[7])\n",
    "    mH2 = eval(so.split('Block MASS')[1].split()[17])\n",
    "    mH3 = eval(so.split('Block MASS')[1].split()[21])\n",
    "    mH4 = eval(so.split('Block MASS')[1].split()[25])\n",
    "    mH5 = eval(so.split('Block MASS')[1].split()[29])\n",
    "    mss = eval(so.split('Block MASS')[1].split()[33])  \n",
    "    MZp = eval(so.split('# VWm')[1].split()[1])\n",
    "    mnu1 = np.abs(eval(so.split('# Fe_3')[1].split()[1]))\n",
    "    mnu2 = np.abs(eval(so.split('# Fe_3')[1].split()[5]))\n",
    "    mnu3 = np.abs(eval(so.split('# Fe_3')[1].split()[13]))\n",
    "    mchi = eval(so.split('# Fv_5')[1].split()[1])\n",
    "    mFv = eval(so.split('# Fv_5')[1].split()[5])\n",
    "    meD1=eval(so.split('# Fvv')[1].split()[1])\n",
    "    meD2=eval(so.split('# Fvv')[1].split()[5])\n",
    "\n",
    "    VL11=eval(so.split('Block UELDMIX')[1].split()[6])\n",
    "    VL12=eval(so.split('Block UELDMIX')[1].split()[11])\n",
    "    VL21=eval(so.split('Block UELDMIX')[1].split()[16])\n",
    "    VL22=eval(so.split('Block UELDMIX')[1].split()[21])\n",
    "\n",
    "    UL11=eval(so.split('Block UERDMIX')[1].split()[6])\n",
    "    UL12=eval(so.split('Block UERDMIX')[1].split()[11])\n",
    "    UL21=eval(so.split('Block UERDMIX')[1].split()[16])\n",
    "    UL22=eval(so.split('Block UERDMIX')[1].split()[21])\n",
    "    \n",
    "    T = eval(so.split('Block SPhenoLowEnergy')[1].split()[5])\n",
    "    S = eval(so.split('Block SPhenoLowEnergy')[1].split()[11])\n",
    "    U = eval(so.split('Block SPhenoLowEnergy')[1].split()[17])\n",
    "    meg = eval(so.split('Block FlavorKitLFV # lepton')[1].split()[4])\n",
    "    g2mu = eval(so.split('Block SPhenoLowEnergy')[1].split()[27])\n",
    "    \n",
    "    #run micromegas \n",
    "    mo = subprocess.getoutput('~/Work/micromegas_5.0.4/U1B/./CalcOmega') #Only DM\n",
    "    #mo = subprocess.getoutput('~/Work/micromegas_5.0.4/U1B/./CalcOmega_with_DI_Detection') #Full\n",
    "    \n",
    "    if len(mo.split()) == 2:\n",
    "        continue\n",
    "    \n",
    "    Omega = eval(mo.split('Omega h^2=')[1].split()[0])\n",
    "    #print(\"i=\",i,\"Omega=\",Omega)\n",
    "    \n",
    "    '''SIP = eval(mo.split('CDM-nucleon cross sections[pb]:')[1].split()[2])\n",
    "    SDP = eval(mo.split('CDM-nucleon cross sections[pb]:')[1].split()[4])\n",
    "    SIN = eval(mo.split('CDM-nucleon cross sections[pb]:')[1].split()[7])\n",
    "    SDN = eval(mo.split('CDM-nucleon cross sections[pb]:')[1].split()[9])\n",
    "    sv = eval(mo.split('annihilation cross section')[1].split()[0])'''\n",
    "    \n",
    "    x.append([Lambda2,Lambda3,Lambda4,Lambda5,muj,YA1,YA2,YB1,YB2,YC1,YC2,YRG,YRH,vx,g1p,Fi11,Fi12,Fi21,Fi22,Fj11,\\\n",
    "              Fj12,Fj21,Fj22,L611,L612,L621,L622,L711,L712,L721,L722,M111,M112,M121,M122,M211,M212,M221,M222,hd11,\\\n",
    "              hd12,hd13,hd21,hd22,hd23,he12,he13,he22,he23,ZP22,ZP23,ZP24,ZP25,ZP32,ZP33,ZP34,ZP35,ZP42,ZP43,ZP44,\\\n",
    "              ZP45,ZP52,ZP53,ZP54,ZP55,mh1,mh2,mH2,mH3,mH4,mH5,mss,MZp,mnu1,mnu2,mnu3,mchi,mFv,meD1,meD2,VL11,VL12,\\\n",
    "              VL21,VL22,UL11,UL12,UL21,UL22,L1,L2,mv1,mv2,mv3,T,S,U,meg,g2mu,Omega])\n",
    "\n",
    "x=np.asarray(x)\n",
    "\n",
    "xd=pd.DataFrame(x,columns=['Lambda2','Lambda3','Lambda4','Lambda5','muj','YA1','YA2','YB1','YB2','YC1','YC2','YRG',\\\n",
    "                           'YRH','vx','g1p','Fi11','Fi12','Fi21','Fi22','Fj11','Fj12','Fj21','Fj22','L611','L612',\\\n",
    "                           'L621','L622','L711','L712','L721','L722','M111','M112','M121','M122','M211','M212',\\\n",
    "                           'M221','M222','hd11','hd12','hd13','hd21','hd22','hd23','he12','he13','he22','he23',\\\n",
    "                           'ZP22','ZP23','ZP24','ZP25','ZP32','ZP33','ZP34','ZP35','ZP42','ZP43','ZP44','ZP45',\\\n",
    "                           'ZP52','ZP53','ZP54','ZP55','mh1','mh2','mH2','mH3','mH4','mH5','mss','MZp','mnu1',\\\n",
    "                           'mnu2','mnu3','mchi','mFv','meD1','meD2','VL11','VL12','VL21','VL22','UL11','UL12',\\\n",
    "                           'UL21','UL22','L1','L2','mv1','mv2','mv3','T','S','U','meg','g2mu','Omega'])  \n",
    "t2=time.time() \n",
    "print (\"The program spent\", t2-t1, \"s running\",Num,\"times\")   "
   ]
  },
  {
   "cell_type": "code",
   "execution_count": 68,
   "metadata": {},
   "outputs": [
    {
     "data": {
      "text/html": [
       "<div>\n",
       "<table border=\"1\" class=\"dataframe\">\n",
       "  <thead>\n",
       "    <tr style=\"text-align: right;\">\n",
       "      <th></th>\n",
       "      <th>mnu2</th>\n",
       "      <th>mv2</th>\n",
       "      <th>mnu3</th>\n",
       "      <th>mv3</th>\n",
       "      <th>mh1</th>\n",
       "      <th>mh2</th>\n",
       "      <th>Omega</th>\n",
       "    </tr>\n",
       "  </thead>\n",
       "  <tbody>\n",
       "    <tr>\n",
       "      <th>0</th>\n",
       "      <td>8.753859e-12</td>\n",
       "      <td>8.756986e-12</td>\n",
       "      <td>5.070109e-11</td>\n",
       "      <td>5.068424e-11</td>\n",
       "      <td>1.000000</td>\n",
       "      <td>139.152348</td>\n",
       "      <td>138.0</td>\n",
       "    </tr>\n",
       "    <tr>\n",
       "      <th>1</th>\n",
       "      <td>8.746315e-12</td>\n",
       "      <td>8.746313e-12</td>\n",
       "      <td>5.056681e-11</td>\n",
       "      <td>5.056682e-11</td>\n",
       "      <td>124.488889</td>\n",
       "      <td>1443.663790</td>\n",
       "      <td>39800.0</td>\n",
       "    </tr>\n",
       "    <tr>\n",
       "      <th>2</th>\n",
       "      <td>8.722368e-12</td>\n",
       "      <td>8.722367e-12</td>\n",
       "      <td>5.041730e-11</td>\n",
       "      <td>5.041731e-11</td>\n",
       "      <td>124.823409</td>\n",
       "      <td>6498.835230</td>\n",
       "      <td>3390000.0</td>\n",
       "    </tr>\n",
       "    <tr>\n",
       "      <th>3</th>\n",
       "      <td>8.907980e-12</td>\n",
       "      <td>8.910832e-12</td>\n",
       "      <td>4.971655e-11</td>\n",
       "      <td>4.970064e-11</td>\n",
       "      <td>105.820452</td>\n",
       "      <td>368.590246</td>\n",
       "      <td>1030000.0</td>\n",
       "    </tr>\n",
       "    <tr>\n",
       "      <th>4</th>\n",
       "      <td>8.762889e-12</td>\n",
       "      <td>8.762717e-12</td>\n",
       "      <td>5.072815e-11</td>\n",
       "      <td>5.072909e-11</td>\n",
       "      <td>124.848759</td>\n",
       "      <td>6579.024620</td>\n",
       "      <td>188000.0</td>\n",
       "    </tr>\n",
       "  </tbody>\n",
       "</table>\n",
       "</div>"
      ],
      "text/plain": [
       "           mnu2           mv2          mnu3           mv3         mh1  \\\n",
       "0  8.753859e-12  8.756986e-12  5.070109e-11  5.068424e-11    1.000000   \n",
       "1  8.746315e-12  8.746313e-12  5.056681e-11  5.056682e-11  124.488889   \n",
       "2  8.722368e-12  8.722367e-12  5.041730e-11  5.041731e-11  124.823409   \n",
       "3  8.907980e-12  8.910832e-12  4.971655e-11  4.970064e-11  105.820452   \n",
       "4  8.762889e-12  8.762717e-12  5.072815e-11  5.072909e-11  124.848759   \n",
       "\n",
       "           mh2      Omega  \n",
       "0   139.152348      138.0  \n",
       "1  1443.663790    39800.0  \n",
       "2  6498.835230  3390000.0  \n",
       "3   368.590246  1030000.0  \n",
       "4  6579.024620   188000.0  "
      ]
     },
     "execution_count": 68,
     "metadata": {},
     "output_type": "execute_result"
    }
   ],
   "source": [
    "xd[['mnu2','mv2','mnu3','mv3','mh1','mh2','Omega']][:5]"
   ]
  },
  {
   "cell_type": "markdown",
   "metadata": {},
   "source": [
    "Concat the new data to the DataFrame and save the file"
   ]
  },
  {
   "cell_type": "code",
   "execution_count": 69,
   "metadata": {},
   "outputs": [],
   "source": [
    "#Read old file\n",
    "xd0 = pd.read_csv('scan1.scv')\n",
    "del xd0['Unnamed: 0']"
   ]
  },
  {
   "cell_type": "code",
   "execution_count": 70,
   "metadata": {},
   "outputs": [
    {
     "name": "stdout",
     "output_type": "stream",
     "text": [
      "(66, 99) (10, 99)\n"
     ]
    }
   ],
   "source": [
    "print(xd0.shape, xd.shape)"
   ]
  },
  {
   "cell_type": "code",
   "execution_count": 71,
   "metadata": {},
   "outputs": [],
   "source": [
    "xd = pd.concat([xd0,xd],ignore_index=True )\n",
    "xd = xd.reset_index()\n",
    "del[xd['index']]"
   ]
  },
  {
   "cell_type": "code",
   "execution_count": 72,
   "metadata": {},
   "outputs": [],
   "source": [
    "xd.to_csv('scan1.scv')"
   ]
  },
  {
   "cell_type": "code",
   "execution_count": null,
   "metadata": {},
   "outputs": [],
   "source": []
  },
  {
   "cell_type": "code",
   "execution_count": 73,
   "metadata": {},
   "outputs": [],
   "source": [
    "#For good plots\n",
    "plt.rcParams.update({'font.size': 20}) \n",
    "#plt.rc('font',size='18')"
   ]
  },
  {
   "cell_type": "code",
   "execution_count": 80,
   "metadata": {},
   "outputs": [
    {
     "data": {
      "image/png": "[encoded data removed]",
      "text/plain": [
       "<matplotlib.figure.Figure at 0x7fdc8f82cf60>"
      ]
     },
     "metadata": {
      "needs_background": "light"
     },
     "output_type": "display_data"
    }
   ],
   "source": [
    "plt.figure(figsize=(8,6))\n",
    "\n",
    "plt.loglog(xd.mchi,xd.Omega,'b.')\n",
    "\n",
    "plt.axhline(y=0.1, color='r', linestyle='-')\n",
    "\n",
    "plt.title(r'Dark matter',size=25)\n",
    "plt.xlabel(r'mchi (GeV)',size=25)\n",
    "plt.ylabel(r'$\\Omega h^2$',size=25)\n",
    "plt.legend()\n",
    "\n",
    "plt.tight_layout()"
   ]
  },
  {
   "cell_type": "code",
   "execution_count": 76,
   "metadata": {},
   "outputs": [
    {
     "data": {
      "image/png": "[encoded data removed]",
      "text/plain": [
       "<matplotlib.figure.Figure at 0x7fdc8fdb8c18>"
      ]
     },
     "metadata": {
      "needs_background": "light"
     },
     "output_type": "display_data"
    }
   ],
   "source": [
    "plt.figure(figsize=(8,6))\n",
    "\n",
    "plt.loglog(xd.MZp,xd.g1p,'r.')\n",
    "\n",
    "plt.title(r'MZ',size=25)\n",
    "plt.xlabel(r'MZ (GeV)',size=25)\n",
    "plt.ylabel(r'$g_1$',size=25)\n",
    "plt.legend()\n",
    "\n",
    "plt.tight_layout()"
   ]
  },
  {
   "cell_type": "code",
   "execution_count": 63,
   "metadata": {},
   "outputs": [
    {
     "data": {
      "image/png": "[encoded data removed]",
      "text/plain": [
       "<matplotlib.figure.Figure at 0x7fdc8fdaab00>"
      ]
     },
     "metadata": {
      "needs_background": "light"
     },
     "output_type": "display_data"
    }
   ],
   "source": [
    "plt.figure(figsize=(8,6))\n",
    "\n",
    "a = np.linspace(5e-12,1e-10,5)\n",
    "plt.plot(a,a,'r-')\n",
    "\n",
    "#plt.loglog(xd.mv1,xd.mn1,'bo')\n",
    "plt.loglog(xd.mnu2,xd.mv2,'b.')\n",
    "plt.loglog(xd.mnu3,xd.mv3,'g.')\n",
    "\n",
    "plt.title(r'Neutrino PMNS inversion',size=25)\n",
    "plt.xlabel(r'SPHENO (GeV)',size=25)\n",
    "plt.ylabel(r'Analytic (GeV)',size=25)\n",
    "plt.legend()\n",
    "\n",
    "plt.grid()\n",
    "\n",
    "plt.tight_layout()\n",
    "#plt.savefig('plots/neutrino_masses_v2.pdf')"
   ]
  },
  {
   "cell_type": "code",
   "execution_count": null,
   "metadata": {},
   "outputs": [],
   "source": []
  },
  {
   "cell_type": "markdown",
   "metadata": {},
   "source": [
    "Diagonalization by hand"
   ]
  },
  {
   "cell_type": "markdown",
   "metadata": {},
   "source": [
    "Neutrino $M_{ij}^{\\nu}$ matrix:"
   ]
  },
  {
   "cell_type": "markdown",
   "metadata": {},
   "source": [
    "\\begin{equation}\n",
    "M_{ik}^{\\nu} = (h_d)^{\\alpha i} \\Lambda^{\\alpha\\beta} (h_e)^{\\beta k}\n",
    "\\end{equation}"
   ]
  },
  {
   "cell_type": "code",
   "execution_count": 31,
   "metadata": {},
   "outputs": [],
   "source": [
    "y=[]\n",
    "\n",
    "for i in range(0,xd.shape[0]):\n",
    "    \n",
    "    a = neutrino_analytic_v2.Mab(xd.ZP22[i],xd.ZP23[i],xd.ZP24[i],xd.ZP25[i],xd.ZP32[i],xd.ZP33[i],\\\n",
    "                                 xd.ZP34[i],xd.ZP35[i],xd.ZP42[i],xd.ZP43[i],xd.ZP44[i],xd.ZP45[i],\\\n",
    "                                 xd.ZP52[i],xd.ZP53[i],xd.ZP54[i],xd.ZP55[i],xd.meD1[i],xd.meD2[i],\\\n",
    "                                 xd.mH2[i],xd.mH3[i],xd.mH4[i],xd.mH5[i],xd.VL11[i],xd.VL21[i],xd.UL11[i],\\\n",
    "                                 xd.UL21[i],xd.hd11[i],xd.hd12[i],xd.hd13[i],xd.hd21[i],xd.hd22[i],\\\n",
    "                                 xd.hd23[i],xd.he12[i],xd.he13[i],0.,xd.he22[i],xd.he23[i],0.)\n",
    "    \n",
    "    mn1 = a[0]\n",
    "    mn2 = a[1]\n",
    "    mn3 = a[2]\n",
    "    \n",
    "    y.append([mn1,mn2,mn3])\n",
    "\n",
    "y=np.asarray(y)\n",
    "yd=pd.DataFrame(y,columns=['mn1','mn2','mn3'])"
   ]
  },
  {
   "cell_type": "code",
   "execution_count": null,
   "metadata": {},
   "outputs": [],
   "source": []
  },
  {
   "cell_type": "code",
   "execution_count": null,
   "metadata": {},
   "outputs": [],
   "source": []
  }
 ],
 "metadata": {
  "kernelspec": {
   "display_name": "Python 3",
   "language": "python",
   "name": "python3"
  },
  "language_info": {
   "codemirror_mode": {
    "name": "ipython",
    "version": 3
   },
   "file_extension": ".py",
   "mimetype": "text/x-python",
   "name": "python",
   "nbconvert_exporter": "python",
   "pygments_lexer": "ipython3",
   "version": "3.5.3"
  }
 },
 "nbformat": 4,
 "nbformat_minor": 1
}
