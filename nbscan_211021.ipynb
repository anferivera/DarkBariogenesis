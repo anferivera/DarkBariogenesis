{
 "cells": [
  {
   "cell_type": "code",
   "execution_count": 1,
   "metadata": {
    "id": "iFzKkM6qeplJ"
   },
   "outputs": [],
   "source": [
    "import math\n",
    "import scipy.integrate\n",
    "import numpy as np\n",
    "import pandas as pd\n",
    "\n",
    "from matplotlib import pyplot as plt\n",
    "\n",
    "from mpmath import *\n",
    "mp.pretty= True\n",
    "mp.dps=20\n",
    "\n",
    "#from sympy.solvers import solve\n",
    "#from sympy import Symbol\n",
    "#from scipy.special import logsumexp\n",
    "import random"
   ]
  },
  {
   "cell_type": "code",
   "execution_count": 3,
   "metadata": {},
   "outputs": [
    {
     "data": {
      "text/plain": [
       "'/Users/waltertangarife/Dropbox/MyUdeAprojects/DarkBaryogenesis'"
      ]
     },
     "execution_count": 3,
     "metadata": {},
     "output_type": "execute_result"
    }
   ],
   "source": [
    "import os\n",
    "os.getcwd()"
   ]
  },
  {
   "cell_type": "markdown",
   "metadata": {
    "id": "oX5yTev9eplN"
   },
   "source": [
    "![Screen%20Shot%202021-09-17%20at%2010.58.31%20AM.png](attachment:Screen%20Shot%202021-09-17%20at%2010.58.31%20AM.png)"
   ]
  },
  {
   "cell_type": "code",
   "execution_count": 2,
   "metadata": {
    "id": "m3Fh098FeplP"
   },
   "outputs": [],
   "source": [
    "### Definitions of general functions ###\n",
    "### We've set $\\kappa=1$ \n",
    "\n",
    "infinite = np.inf\n",
    "\n",
    "def MchiSq(th, lam, so, Lw, mo, z):\n",
    "    return (mo+lam*math.cos(th)*abs(so*(1.0 + np.tanh(z/Lw)/2.0)))**2.0 + (lam*math.sin(th)*abs(so*(1.0 + np.tanh(z/Lw)/2.0)))**2.0\n",
    "\n",
    "def EE(th, lam, so, Lw, mo, z,p):\n",
    "    return p**2 + MchiSq(th, lam, so, Lw, mo, z)\n",
    "\n",
    "def Gfcn(lam,vsq,Tn,vw,z):\n",
    "    vw2=np.square(vw)\n",
    "    return 1.0/(vw*np.sqrt(1.0+8.0*vsq/3.0*vw2))*(np.heaviside(z,1.0)*np.exp(-z*Tn*(3.0+np.sqrt(9.0+24.0*vsq/vw2))*vw*lam**2.0/(8.0*math.pi*vsq))\n",
    "            +np.heaviside(-z,0.0)*np.exp(-z*Tn*(3.0-np.sqrt(9.0+24.0*vsq/vw2))*vw*lam**2.0/(8.0*math.pi*vsq)))\n",
    "def mycosh(x):\n",
    "    if abs(x)< 710.0:\n",
    "        return np.cosh(x)\n",
    "    else:\n",
    "        return 1.e50\n",
    "\n",
    "def Scpv(th, lam, so, Lw, mo, p, Tn, vsq, vw, Mzp, z):\n",
    "    mchi1=abs(so*(1.0 + np.tanh(z/Lw)/2.0))\n",
    "    mchisq=((mo+lam*math.cos(th)*mchi1))**2.0 + (lam*math.sin(th)*mchi1)**2.0\n",
    "    xpm=mo/Tn \n",
    "    vpzsq= (3.0*xpm+2.0)/(xpm**2+3.0*xpm+2.0)\n",
    "    pzovom=((1.0-xpm)*np.exp(-xpm)+xpm**2.0*scipy.special.erf(xpm))/(4.0*(xpm*Tn)**2.0*scipy.special.kn(2, xpm))\n",
    "    vz = p/np.sqrt(p**2.0 + mchisq)\n",
    "    scpv = -(2.0*vw*math.pi/(lam*Tn**3.0)*pzovom)*(mo*so*(-2.0+mycosh(2.0*z/Lw))*math.sin(th)/(Lw**3*mycosh(z/Lw)**4.0))\n",
    "    # From Andres' code, I took the idea of renormalizing this function \n",
    "    if np.isnan(scpv):\n",
    "        Scpv_renormalizado = 1.e50\n",
    "    else:\n",
    "        Scpv_renormalizado = scpv\n",
    "        \n",
    "    return Scpv_renormalizado\n",
    "    \n",
    "def xiL(th, lam, so, Lw, mo, p, Tn, vsq, vw, Mzp, z):\n",
    "    vw2=vw**2.0\n",
    "    gfcn= lambda z: 1.0/(vw*np.sqrt(1.0+8.0*vsq/3.0*vw2))*(np.heaviside(z,1.0)*np.exp(-z*Tn*(3.0+np.sqrt(9.0+24.0*vsq/vw2))*vw*lam**2.0/(8.0*math.pi*vsq))\n",
    "            +np.heaviside(-z,0.0)*np.exp(-z*Tn*(3.0-np.sqrt(9.0+24.0*vsq/vw2))*vw*lam**2.0/(8.0*math.pi*vsq)))\n",
    "    inttemp = lambda zo: Scpv(th, lam, so, Lw, mo, p, Tn, vsq, vw, Mzp, zo)*gfcn(z-zo) #Gfcn(lam,vsq,Tn,vw,z-zo)\n",
    "    return scipy.integrate.quad(inttemp,-40.,40.,limit=40)[0]\n",
    "\n",
    "def rhoL(th, lam, so, Lw, mo, p, Tn, vsq, vw, Mzp, qS, z):\n",
    "    return 1.0/3.0*qS*Tn**3*xiL(th, lam, so, Lw, mo, p, Tn, vsq, vw, Mzp, z)\n",
    "\n",
    "def Zpave(th, lam, so, Lw, mo, p, Tn, vsq, vw, Mzp, qS, gp, z):\n",
    "    inttemp = lambda z1: xiL(th, lam, so, Lw, mo, p, Tn, vsq, vw, Mzp, z1)*np.exp(-Mzp*abs(z-z1))\n",
    "    return gp/(2.0*Mzp)*(1.0/3.0*qS*Tn**3.0)*scipy.integrate.quad(inttemp,-40.,40.,limit=40)[0]\n",
    "\n",
    "def DelnBeq(th, lam, so, Lw, mo, p, Tn, vsq, vw, Mzp, qS, gp, z):\n",
    "    inttemp = lambda z1: xiL(th, lam, so, Lw, mo, p, Tn, vsq, vw, Mzp, z1)*np.exp(-Mzp*abs(z-z1))\n",
    "    return 2.0*gp*qS*Tn**2.0/3.0*gp/(2.0*Mzp)*(1.0/3.0*qS*Tn**3.0)*scipy.integrate.quad(inttemp,-40.,40.,limit=40)[0]\n",
    "\n",
    "def DelnB(th, lam, so, Lw, mo, p, Tn, vsq, vw, Mzp, qS, gp):\n",
    "    inttemp = lambda z: DelnBeq(th, lam, so, Lw, mo, p, Tn, vsq, vw, Mzp, qS, gp, z)*np.exp(-z*120.0*(gp**2/(4.0*math.pi))**5*Tn/vw)\n",
    "    return scipy.integrate.quad(inttemp,0.0,20.0,limit=80)[0]*120.0*(gp**2/(4.0*math.pi))**5*Tn/vw\n",
    "\n",
    "\n"
   ]
  },
  {
   "cell_type": "code",
   "execution_count": 6,
   "metadata": {
    "colab": {
     "base_uri": "https://localhost:8080/"
    },
    "id": "3Ge1VAmHeplV",
    "outputId": "ec16756e-eacf-436f-8db0-d1d6533b2602"
   },
   "outputs": [
    {
     "name": "stderr",
     "output_type": "stream",
     "text": [
      "/Users/waltertangarife/opt/anaconda3/lib/python3.7/site-packages/ipykernel_launcher.py:33: RuntimeWarning: overflow encountered in double_scalars\n",
      "/Users/waltertangarife/opt/anaconda3/lib/python3.7/site-packages/ipykernel_launcher.py:67: IntegrationWarning: The integral is probably divergent, or slowly convergent.\n",
      "/Users/waltertangarife/opt/anaconda3/lib/python3.7/site-packages/ipykernel_launcher.py:78: IntegrationWarning: The integral is probably divergent, or slowly convergent.\n"
     ]
    },
    {
     "name": "stdout",
     "output_type": "stream",
     "text": [
      "MZ'= 5.0  gp= 1e-05 -1.7956114381458628e-66\n",
      "MZ'= 5.0  gp= 2.2533433808426555e-05 -3.1084734756780176e-62\n",
      "MZ'= 5.0  gp= 5.0775563919874075e-05 -5.2956640665871205e-58\n"
     ]
    },
    {
     "name": "stderr",
     "output_type": "stream",
     "text": [
      "/Users/waltertangarife/opt/anaconda3/lib/python3.7/site-packages/ipykernel_launcher.py:83: IntegrationWarning: The maximum number of subdivisions (80) has been achieved.\n",
      "  If increasing the limit yields no improvement it is advised to analyze \n",
      "  the integrand in order to determine the difficulties.  If the position of a \n",
      "  local difficulty can be determined (singularity, discontinuity) one will \n",
      "  probably gain from splitting up the interval and calling the integrator \n",
      "  on the subranges.  Perhaps a special-purpose integrator should be used.\n"
     ]
    },
    {
     "name": "stdout",
     "output_type": "stream",
     "text": [
      "MZ'= 5.0  gp= 0.00011441478086740137 -9.036654931802306e-54\n"
     ]
    },
    {
     "name": "stderr",
     "output_type": "stream",
     "text": [
      "/Users/waltertangarife/opt/anaconda3/lib/python3.7/site-packages/ipykernel_launcher.py:83: IntegrationWarning: The integral is probably divergent, or slowly convergent.\n"
     ]
    },
    {
     "name": "stdout",
     "output_type": "stream",
     "text": [
      "MZ'= 9.306048591020996  gp= 1e-05 -5.260309956055882e-67\n",
      "MZ'= 9.306048591020996  gp= 2.2533433808426555e-05 -9.014463148907223e-63\n",
      "MZ'= 9.306048591020996  gp= 5.0775563919874075e-05 -1.426362982913939e-58\n",
      "MZ'= 9.306048591020996  gp= 0.00011441478086740137 -2.4427742991962993e-54\n",
      "MZ'= 17.32050807568877  gp= 1e-05 2.0837018670951053e-67\n",
      "MZ'= 17.32050807568877  gp= 2.2533433808426555e-05 3.400499652038051e-63\n",
      "MZ'= 17.32050807568877  gp= 5.0775563919874075e-05 5.787593647902981e-59\n"
     ]
    },
    {
     "ename": "KeyboardInterrupt",
     "evalue": "",
     "output_type": "error",
     "traceback": [
      "\u001b[0;31m---------------------------------------------------------------------------\u001b[0m",
      "\u001b[0;31mKeyboardInterrupt\u001b[0m                         Traceback (most recent call last)",
      "\u001b[0;32m<ipython-input-6-a6b0e111dde6>\u001b[0m in \u001b[0;36m<module>\u001b[0;34m\u001b[0m\n\u001b[1;32m      9\u001b[0m     \u001b[0;32mfor\u001b[0m \u001b[0mj\u001b[0m \u001b[0;32min\u001b[0m \u001b[0mnp\u001b[0m\u001b[0;34m.\u001b[0m\u001b[0marange\u001b[0m\u001b[0;34m(\u001b[0m\u001b[0;36m0\u001b[0m\u001b[0;34m,\u001b[0m\u001b[0;36m1.0\u001b[0m\u001b[0;34m,\u001b[0m\u001b[0;36m0.3\u001b[0m\u001b[0;34m)\u001b[0m\u001b[0;34m:\u001b[0m\u001b[0;34m\u001b[0m\u001b[0;34m\u001b[0m\u001b[0m\n\u001b[1;32m     10\u001b[0m         \u001b[0mgpt\u001b[0m\u001b[0;34m=\u001b[0m\u001b[0;36m0.00001\u001b[0m\u001b[0;34m*\u001b[0m\u001b[0;36m15.0\u001b[0m\u001b[0;34m**\u001b[0m\u001b[0;34m(\u001b[0m\u001b[0mj\u001b[0m\u001b[0;34m)\u001b[0m\u001b[0;34m\u001b[0m\u001b[0;34m\u001b[0m\u001b[0m\n\u001b[0;32m---> 11\u001b[0;31m         \u001b[0mdelnbt\u001b[0m\u001b[0;34m=\u001b[0m\u001b[0mDelnB\u001b[0m\u001b[0;34m(\u001b[0m\u001b[0mmath\u001b[0m\u001b[0;34m.\u001b[0m\u001b[0mpi\u001b[0m\u001b[0;34m/\u001b[0m\u001b[0;36m3.0\u001b[0m\u001b[0;34m,\u001b[0m \u001b[0;36m0.3\u001b[0m\u001b[0;34m,\u001b[0m \u001b[0;36m100.0\u001b[0m\u001b[0;34m,\u001b[0m\u001b[0;36m5.0\u001b[0m\u001b[0;34m/\u001b[0m\u001b[0;36m100.0\u001b[0m\u001b[0;34m,\u001b[0m \u001b[0;36m100\u001b[0m\u001b[0;34m,\u001b[0m\u001b[0;36m10.0\u001b[0m\u001b[0;34m,\u001b[0m \u001b[0;36m100.0\u001b[0m\u001b[0;34m,\u001b[0m\u001b[0;36m0.7\u001b[0m\u001b[0;34m,\u001b[0m\u001b[0;36m0.1\u001b[0m\u001b[0;34m,\u001b[0m\u001b[0mMzpt\u001b[0m\u001b[0;34m,\u001b[0m \u001b[0;36m5.0\u001b[0m\u001b[0;34m,\u001b[0m \u001b[0mgpt\u001b[0m\u001b[0;34m)\u001b[0m \u001b[0;31m#(th, lam, so, Lw, mo, p, Tn, vsq, vw, Mzp, qS, gp)#\u001b[0m\u001b[0;34m\u001b[0m\u001b[0;34m\u001b[0m\u001b[0m\n\u001b[0m\u001b[1;32m     12\u001b[0m         \u001b[0mentdens\u001b[0m\u001b[0;34m=\u001b[0m\u001b[0;34m(\u001b[0m\u001b[0;36m2.0\u001b[0m\u001b[0;34m*\u001b[0m\u001b[0mmath\u001b[0m\u001b[0;34m.\u001b[0m\u001b[0mpi\u001b[0m\u001b[0;34m**\u001b[0m\u001b[0;36m2.0\u001b[0m\u001b[0;34m)\u001b[0m\u001b[0;34m*\u001b[0m\u001b[0;36m100.0\u001b[0m\u001b[0;34m*\u001b[0m\u001b[0;34m(\u001b[0m\u001b[0;36m125.0\u001b[0m\u001b[0;34m)\u001b[0m\u001b[0;34m**\u001b[0m\u001b[0;36m3.0\u001b[0m\u001b[0;34m/\u001b[0m\u001b[0;36m45.0\u001b[0m\u001b[0;34m\u001b[0m\u001b[0;34m\u001b[0m\u001b[0m\n\u001b[1;32m     13\u001b[0m         \u001b[0mprint\u001b[0m\u001b[0;34m(\u001b[0m\u001b[0;34m'MZ\\'='\u001b[0m\u001b[0;34m,\u001b[0m\u001b[0mMzpt\u001b[0m\u001b[0;34m,\u001b[0m \u001b[0;34m' gp='\u001b[0m\u001b[0;34m,\u001b[0m\u001b[0mgpt\u001b[0m\u001b[0;34m,\u001b[0m\u001b[0mdelnbt\u001b[0m\u001b[0;34m/\u001b[0m\u001b[0mentdens\u001b[0m\u001b[0;34m)\u001b[0m\u001b[0;34m\u001b[0m\u001b[0;34m\u001b[0m\u001b[0m\n",
      "\u001b[0;32m<ipython-input-2-1ce6f45d89e6>\u001b[0m in \u001b[0;36mDelnB\u001b[0;34m(th, lam, so, Lw, mo, p, Tn, vsq, vw, Mzp, qS, gp)\u001b[0m\n\u001b[1;32m     81\u001b[0m \u001b[0;32mdef\u001b[0m \u001b[0mDelnB\u001b[0m\u001b[0;34m(\u001b[0m\u001b[0mth\u001b[0m\u001b[0;34m,\u001b[0m \u001b[0mlam\u001b[0m\u001b[0;34m,\u001b[0m \u001b[0mso\u001b[0m\u001b[0;34m,\u001b[0m \u001b[0mLw\u001b[0m\u001b[0;34m,\u001b[0m \u001b[0mmo\u001b[0m\u001b[0;34m,\u001b[0m \u001b[0mp\u001b[0m\u001b[0;34m,\u001b[0m \u001b[0mTn\u001b[0m\u001b[0;34m,\u001b[0m \u001b[0mvsq\u001b[0m\u001b[0;34m,\u001b[0m \u001b[0mvw\u001b[0m\u001b[0;34m,\u001b[0m \u001b[0mMzp\u001b[0m\u001b[0;34m,\u001b[0m \u001b[0mqS\u001b[0m\u001b[0;34m,\u001b[0m \u001b[0mgp\u001b[0m\u001b[0;34m)\u001b[0m\u001b[0;34m:\u001b[0m\u001b[0;34m\u001b[0m\u001b[0;34m\u001b[0m\u001b[0m\n\u001b[1;32m     82\u001b[0m     \u001b[0minttemp\u001b[0m \u001b[0;34m=\u001b[0m \u001b[0;32mlambda\u001b[0m \u001b[0mz\u001b[0m\u001b[0;34m:\u001b[0m \u001b[0mDelnBeq\u001b[0m\u001b[0;34m(\u001b[0m\u001b[0mth\u001b[0m\u001b[0;34m,\u001b[0m \u001b[0mlam\u001b[0m\u001b[0;34m,\u001b[0m \u001b[0mso\u001b[0m\u001b[0;34m,\u001b[0m \u001b[0mLw\u001b[0m\u001b[0;34m,\u001b[0m \u001b[0mmo\u001b[0m\u001b[0;34m,\u001b[0m \u001b[0mp\u001b[0m\u001b[0;34m,\u001b[0m \u001b[0mTn\u001b[0m\u001b[0;34m,\u001b[0m \u001b[0mvsq\u001b[0m\u001b[0;34m,\u001b[0m \u001b[0mvw\u001b[0m\u001b[0;34m,\u001b[0m \u001b[0mMzp\u001b[0m\u001b[0;34m,\u001b[0m \u001b[0mqS\u001b[0m\u001b[0;34m,\u001b[0m \u001b[0mgp\u001b[0m\u001b[0;34m,\u001b[0m \u001b[0mz\u001b[0m\u001b[0;34m)\u001b[0m\u001b[0;34m*\u001b[0m\u001b[0mnp\u001b[0m\u001b[0;34m.\u001b[0m\u001b[0mexp\u001b[0m\u001b[0;34m(\u001b[0m\u001b[0;34m-\u001b[0m\u001b[0mz\u001b[0m\u001b[0;34m*\u001b[0m\u001b[0;36m120.0\u001b[0m\u001b[0;34m*\u001b[0m\u001b[0;34m(\u001b[0m\u001b[0mgp\u001b[0m\u001b[0;34m**\u001b[0m\u001b[0;36m2\u001b[0m\u001b[0;34m/\u001b[0m\u001b[0;34m(\u001b[0m\u001b[0;36m4.0\u001b[0m\u001b[0;34m*\u001b[0m\u001b[0mmath\u001b[0m\u001b[0;34m.\u001b[0m\u001b[0mpi\u001b[0m\u001b[0;34m)\u001b[0m\u001b[0;34m)\u001b[0m\u001b[0;34m**\u001b[0m\u001b[0;36m5\u001b[0m\u001b[0;34m*\u001b[0m\u001b[0mTn\u001b[0m\u001b[0;34m/\u001b[0m\u001b[0mvw\u001b[0m\u001b[0;34m)\u001b[0m\u001b[0;34m\u001b[0m\u001b[0;34m\u001b[0m\u001b[0m\n\u001b[0;32m---> 83\u001b[0;31m     \u001b[0;32mreturn\u001b[0m \u001b[0mscipy\u001b[0m\u001b[0;34m.\u001b[0m\u001b[0mintegrate\u001b[0m\u001b[0;34m.\u001b[0m\u001b[0mquad\u001b[0m\u001b[0;34m(\u001b[0m\u001b[0minttemp\u001b[0m\u001b[0;34m,\u001b[0m\u001b[0;36m0.0\u001b[0m\u001b[0;34m,\u001b[0m\u001b[0;36m20.0\u001b[0m\u001b[0;34m,\u001b[0m\u001b[0mlimit\u001b[0m\u001b[0;34m=\u001b[0m\u001b[0;36m80\u001b[0m\u001b[0;34m)\u001b[0m\u001b[0;34m[\u001b[0m\u001b[0;36m0\u001b[0m\u001b[0;34m]\u001b[0m\u001b[0;34m*\u001b[0m\u001b[0;36m120.0\u001b[0m\u001b[0;34m*\u001b[0m\u001b[0;34m(\u001b[0m\u001b[0mgp\u001b[0m\u001b[0;34m**\u001b[0m\u001b[0;36m2\u001b[0m\u001b[0;34m/\u001b[0m\u001b[0;34m(\u001b[0m\u001b[0;36m4.0\u001b[0m\u001b[0;34m*\u001b[0m\u001b[0mmath\u001b[0m\u001b[0;34m.\u001b[0m\u001b[0mpi\u001b[0m\u001b[0;34m)\u001b[0m\u001b[0;34m)\u001b[0m\u001b[0;34m**\u001b[0m\u001b[0;36m5\u001b[0m\u001b[0;34m*\u001b[0m\u001b[0mTn\u001b[0m\u001b[0;34m/\u001b[0m\u001b[0mvw\u001b[0m\u001b[0;34m\u001b[0m\u001b[0;34m\u001b[0m\u001b[0m\n\u001b[0m\u001b[1;32m     84\u001b[0m \u001b[0;34m\u001b[0m\u001b[0m\n\u001b[1;32m     85\u001b[0m \u001b[0;34m\u001b[0m\u001b[0m\n",
      "\u001b[0;32m~/opt/anaconda3/lib/python3.7/site-packages/scipy/integrate/quadpack.py\u001b[0m in \u001b[0;36mquad\u001b[0;34m(func, a, b, args, full_output, epsabs, epsrel, limit, points, weight, wvar, wopts, maxp1, limlst)\u001b[0m\n\u001b[1;32m    340\u001b[0m     \u001b[0;32mif\u001b[0m \u001b[0mweight\u001b[0m \u001b[0;32mis\u001b[0m \u001b[0;32mNone\u001b[0m\u001b[0;34m:\u001b[0m\u001b[0;34m\u001b[0m\u001b[0;34m\u001b[0m\u001b[0m\n\u001b[1;32m    341\u001b[0m         retval = _quad(func, a, b, args, full_output, epsabs, epsrel, limit,\n\u001b[0;32m--> 342\u001b[0;31m                        points)\n\u001b[0m\u001b[1;32m    343\u001b[0m     \u001b[0;32melse\u001b[0m\u001b[0;34m:\u001b[0m\u001b[0;34m\u001b[0m\u001b[0;34m\u001b[0m\u001b[0m\n\u001b[1;32m    344\u001b[0m         \u001b[0;32mif\u001b[0m \u001b[0mpoints\u001b[0m \u001b[0;32mis\u001b[0m \u001b[0;32mnot\u001b[0m \u001b[0;32mNone\u001b[0m\u001b[0;34m:\u001b[0m\u001b[0;34m\u001b[0m\u001b[0;34m\u001b[0m\u001b[0m\n",
      "\u001b[0;32m~/opt/anaconda3/lib/python3.7/site-packages/scipy/integrate/quadpack.py\u001b[0m in \u001b[0;36m_quad\u001b[0;34m(func, a, b, args, full_output, epsabs, epsrel, limit, points)\u001b[0m\n\u001b[1;32m    451\u001b[0m     \u001b[0;32mif\u001b[0m \u001b[0mpoints\u001b[0m \u001b[0;32mis\u001b[0m \u001b[0;32mNone\u001b[0m\u001b[0;34m:\u001b[0m\u001b[0;34m\u001b[0m\u001b[0;34m\u001b[0m\u001b[0m\n\u001b[1;32m    452\u001b[0m         \u001b[0;32mif\u001b[0m \u001b[0minfbounds\u001b[0m \u001b[0;34m==\u001b[0m \u001b[0;36m0\u001b[0m\u001b[0;34m:\u001b[0m\u001b[0;34m\u001b[0m\u001b[0;34m\u001b[0m\u001b[0m\n\u001b[0;32m--> 453\u001b[0;31m             \u001b[0;32mreturn\u001b[0m \u001b[0m_quadpack\u001b[0m\u001b[0;34m.\u001b[0m\u001b[0m_qagse\u001b[0m\u001b[0;34m(\u001b[0m\u001b[0mfunc\u001b[0m\u001b[0;34m,\u001b[0m\u001b[0ma\u001b[0m\u001b[0;34m,\u001b[0m\u001b[0mb\u001b[0m\u001b[0;34m,\u001b[0m\u001b[0margs\u001b[0m\u001b[0;34m,\u001b[0m\u001b[0mfull_output\u001b[0m\u001b[0;34m,\u001b[0m\u001b[0mepsabs\u001b[0m\u001b[0;34m,\u001b[0m\u001b[0mepsrel\u001b[0m\u001b[0;34m,\u001b[0m\u001b[0mlimit\u001b[0m\u001b[0;34m)\u001b[0m\u001b[0;34m\u001b[0m\u001b[0;34m\u001b[0m\u001b[0m\n\u001b[0m\u001b[1;32m    454\u001b[0m         \u001b[0;32melse\u001b[0m\u001b[0;34m:\u001b[0m\u001b[0;34m\u001b[0m\u001b[0;34m\u001b[0m\u001b[0m\n\u001b[1;32m    455\u001b[0m             \u001b[0;32mreturn\u001b[0m \u001b[0m_quadpack\u001b[0m\u001b[0;34m.\u001b[0m\u001b[0m_qagie\u001b[0m\u001b[0;34m(\u001b[0m\u001b[0mfunc\u001b[0m\u001b[0;34m,\u001b[0m\u001b[0mbound\u001b[0m\u001b[0;34m,\u001b[0m\u001b[0minfbounds\u001b[0m\u001b[0;34m,\u001b[0m\u001b[0margs\u001b[0m\u001b[0;34m,\u001b[0m\u001b[0mfull_output\u001b[0m\u001b[0;34m,\u001b[0m\u001b[0mepsabs\u001b[0m\u001b[0;34m,\u001b[0m\u001b[0mepsrel\u001b[0m\u001b[0;34m,\u001b[0m\u001b[0mlimit\u001b[0m\u001b[0;34m)\u001b[0m\u001b[0;34m\u001b[0m\u001b[0;34m\u001b[0m\u001b[0m\n",
      "\u001b[0;32m<ipython-input-2-1ce6f45d89e6>\u001b[0m in \u001b[0;36m<lambda>\u001b[0;34m(z)\u001b[0m\n\u001b[1;32m     80\u001b[0m \u001b[0;34m\u001b[0m\u001b[0m\n\u001b[1;32m     81\u001b[0m \u001b[0;32mdef\u001b[0m \u001b[0mDelnB\u001b[0m\u001b[0;34m(\u001b[0m\u001b[0mth\u001b[0m\u001b[0;34m,\u001b[0m \u001b[0mlam\u001b[0m\u001b[0;34m,\u001b[0m \u001b[0mso\u001b[0m\u001b[0;34m,\u001b[0m \u001b[0mLw\u001b[0m\u001b[0;34m,\u001b[0m \u001b[0mmo\u001b[0m\u001b[0;34m,\u001b[0m \u001b[0mp\u001b[0m\u001b[0;34m,\u001b[0m \u001b[0mTn\u001b[0m\u001b[0;34m,\u001b[0m \u001b[0mvsq\u001b[0m\u001b[0;34m,\u001b[0m \u001b[0mvw\u001b[0m\u001b[0;34m,\u001b[0m \u001b[0mMzp\u001b[0m\u001b[0;34m,\u001b[0m \u001b[0mqS\u001b[0m\u001b[0;34m,\u001b[0m \u001b[0mgp\u001b[0m\u001b[0;34m)\u001b[0m\u001b[0;34m:\u001b[0m\u001b[0;34m\u001b[0m\u001b[0;34m\u001b[0m\u001b[0m\n\u001b[0;32m---> 82\u001b[0;31m     \u001b[0minttemp\u001b[0m \u001b[0;34m=\u001b[0m \u001b[0;32mlambda\u001b[0m \u001b[0mz\u001b[0m\u001b[0;34m:\u001b[0m \u001b[0mDelnBeq\u001b[0m\u001b[0;34m(\u001b[0m\u001b[0mth\u001b[0m\u001b[0;34m,\u001b[0m \u001b[0mlam\u001b[0m\u001b[0;34m,\u001b[0m \u001b[0mso\u001b[0m\u001b[0;34m,\u001b[0m \u001b[0mLw\u001b[0m\u001b[0;34m,\u001b[0m \u001b[0mmo\u001b[0m\u001b[0;34m,\u001b[0m \u001b[0mp\u001b[0m\u001b[0;34m,\u001b[0m \u001b[0mTn\u001b[0m\u001b[0;34m,\u001b[0m \u001b[0mvsq\u001b[0m\u001b[0;34m,\u001b[0m \u001b[0mvw\u001b[0m\u001b[0;34m,\u001b[0m \u001b[0mMzp\u001b[0m\u001b[0;34m,\u001b[0m \u001b[0mqS\u001b[0m\u001b[0;34m,\u001b[0m \u001b[0mgp\u001b[0m\u001b[0;34m,\u001b[0m \u001b[0mz\u001b[0m\u001b[0;34m)\u001b[0m\u001b[0;34m*\u001b[0m\u001b[0mnp\u001b[0m\u001b[0;34m.\u001b[0m\u001b[0mexp\u001b[0m\u001b[0;34m(\u001b[0m\u001b[0;34m-\u001b[0m\u001b[0mz\u001b[0m\u001b[0;34m*\u001b[0m\u001b[0;36m120.0\u001b[0m\u001b[0;34m*\u001b[0m\u001b[0;34m(\u001b[0m\u001b[0mgp\u001b[0m\u001b[0;34m**\u001b[0m\u001b[0;36m2\u001b[0m\u001b[0;34m/\u001b[0m\u001b[0;34m(\u001b[0m\u001b[0;36m4.0\u001b[0m\u001b[0;34m*\u001b[0m\u001b[0mmath\u001b[0m\u001b[0;34m.\u001b[0m\u001b[0mpi\u001b[0m\u001b[0;34m)\u001b[0m\u001b[0;34m)\u001b[0m\u001b[0;34m**\u001b[0m\u001b[0;36m5\u001b[0m\u001b[0;34m*\u001b[0m\u001b[0mTn\u001b[0m\u001b[0;34m/\u001b[0m\u001b[0mvw\u001b[0m\u001b[0;34m)\u001b[0m\u001b[0;34m\u001b[0m\u001b[0;34m\u001b[0m\u001b[0m\n\u001b[0m\u001b[1;32m     83\u001b[0m     \u001b[0;32mreturn\u001b[0m \u001b[0mscipy\u001b[0m\u001b[0;34m.\u001b[0m\u001b[0mintegrate\u001b[0m\u001b[0;34m.\u001b[0m\u001b[0mquad\u001b[0m\u001b[0;34m(\u001b[0m\u001b[0minttemp\u001b[0m\u001b[0;34m,\u001b[0m\u001b[0;36m0.0\u001b[0m\u001b[0;34m,\u001b[0m\u001b[0;36m20.0\u001b[0m\u001b[0;34m,\u001b[0m\u001b[0mlimit\u001b[0m\u001b[0;34m=\u001b[0m\u001b[0;36m80\u001b[0m\u001b[0;34m)\u001b[0m\u001b[0;34m[\u001b[0m\u001b[0;36m0\u001b[0m\u001b[0;34m]\u001b[0m\u001b[0;34m*\u001b[0m\u001b[0;36m120.0\u001b[0m\u001b[0;34m*\u001b[0m\u001b[0;34m(\u001b[0m\u001b[0mgp\u001b[0m\u001b[0;34m**\u001b[0m\u001b[0;36m2\u001b[0m\u001b[0;34m/\u001b[0m\u001b[0;34m(\u001b[0m\u001b[0;36m4.0\u001b[0m\u001b[0;34m*\u001b[0m\u001b[0mmath\u001b[0m\u001b[0;34m.\u001b[0m\u001b[0mpi\u001b[0m\u001b[0;34m)\u001b[0m\u001b[0;34m)\u001b[0m\u001b[0;34m**\u001b[0m\u001b[0;36m5\u001b[0m\u001b[0;34m*\u001b[0m\u001b[0mTn\u001b[0m\u001b[0;34m/\u001b[0m\u001b[0mvw\u001b[0m\u001b[0;34m\u001b[0m\u001b[0;34m\u001b[0m\u001b[0m\n\u001b[1;32m     84\u001b[0m \u001b[0;34m\u001b[0m\u001b[0m\n",
      "\u001b[0;32m<ipython-input-2-1ce6f45d89e6>\u001b[0m in \u001b[0;36mDelnBeq\u001b[0;34m(th, lam, so, Lw, mo, p, Tn, vsq, vw, Mzp, qS, gp, z)\u001b[0m\n\u001b[1;32m     76\u001b[0m \u001b[0;32mdef\u001b[0m \u001b[0mDelnBeq\u001b[0m\u001b[0;34m(\u001b[0m\u001b[0mth\u001b[0m\u001b[0;34m,\u001b[0m \u001b[0mlam\u001b[0m\u001b[0;34m,\u001b[0m \u001b[0mso\u001b[0m\u001b[0;34m,\u001b[0m \u001b[0mLw\u001b[0m\u001b[0;34m,\u001b[0m \u001b[0mmo\u001b[0m\u001b[0;34m,\u001b[0m \u001b[0mp\u001b[0m\u001b[0;34m,\u001b[0m \u001b[0mTn\u001b[0m\u001b[0;34m,\u001b[0m \u001b[0mvsq\u001b[0m\u001b[0;34m,\u001b[0m \u001b[0mvw\u001b[0m\u001b[0;34m,\u001b[0m \u001b[0mMzp\u001b[0m\u001b[0;34m,\u001b[0m \u001b[0mqS\u001b[0m\u001b[0;34m,\u001b[0m \u001b[0mgp\u001b[0m\u001b[0;34m,\u001b[0m \u001b[0mz\u001b[0m\u001b[0;34m)\u001b[0m\u001b[0;34m:\u001b[0m\u001b[0;34m\u001b[0m\u001b[0;34m\u001b[0m\u001b[0m\n\u001b[1;32m     77\u001b[0m     \u001b[0minttemp\u001b[0m \u001b[0;34m=\u001b[0m \u001b[0;32mlambda\u001b[0m \u001b[0mz1\u001b[0m\u001b[0;34m:\u001b[0m \u001b[0mxiL\u001b[0m\u001b[0;34m(\u001b[0m\u001b[0mth\u001b[0m\u001b[0;34m,\u001b[0m \u001b[0mlam\u001b[0m\u001b[0;34m,\u001b[0m \u001b[0mso\u001b[0m\u001b[0;34m,\u001b[0m \u001b[0mLw\u001b[0m\u001b[0;34m,\u001b[0m \u001b[0mmo\u001b[0m\u001b[0;34m,\u001b[0m \u001b[0mp\u001b[0m\u001b[0;34m,\u001b[0m \u001b[0mTn\u001b[0m\u001b[0;34m,\u001b[0m \u001b[0mvsq\u001b[0m\u001b[0;34m,\u001b[0m \u001b[0mvw\u001b[0m\u001b[0;34m,\u001b[0m \u001b[0mMzp\u001b[0m\u001b[0;34m,\u001b[0m \u001b[0mz1\u001b[0m\u001b[0;34m)\u001b[0m\u001b[0;34m*\u001b[0m\u001b[0mnp\u001b[0m\u001b[0;34m.\u001b[0m\u001b[0mexp\u001b[0m\u001b[0;34m(\u001b[0m\u001b[0;34m-\u001b[0m\u001b[0mMzp\u001b[0m\u001b[0;34m*\u001b[0m\u001b[0mabs\u001b[0m\u001b[0;34m(\u001b[0m\u001b[0mz\u001b[0m\u001b[0;34m-\u001b[0m\u001b[0mz1\u001b[0m\u001b[0;34m)\u001b[0m\u001b[0;34m)\u001b[0m\u001b[0;34m\u001b[0m\u001b[0;34m\u001b[0m\u001b[0m\n\u001b[0;32m---> 78\u001b[0;31m     \u001b[0;32mreturn\u001b[0m \u001b[0;36m2.0\u001b[0m\u001b[0;34m*\u001b[0m\u001b[0mgp\u001b[0m\u001b[0;34m*\u001b[0m\u001b[0mqS\u001b[0m\u001b[0;34m*\u001b[0m\u001b[0mTn\u001b[0m\u001b[0;34m**\u001b[0m\u001b[0;36m2.0\u001b[0m\u001b[0;34m/\u001b[0m\u001b[0;36m3.0\u001b[0m\u001b[0;34m*\u001b[0m\u001b[0mgp\u001b[0m\u001b[0;34m/\u001b[0m\u001b[0;34m(\u001b[0m\u001b[0;36m2.0\u001b[0m\u001b[0;34m*\u001b[0m\u001b[0mMzp\u001b[0m\u001b[0;34m)\u001b[0m\u001b[0;34m*\u001b[0m\u001b[0;34m(\u001b[0m\u001b[0;36m1.0\u001b[0m\u001b[0;34m/\u001b[0m\u001b[0;36m3.0\u001b[0m\u001b[0;34m*\u001b[0m\u001b[0mqS\u001b[0m\u001b[0;34m*\u001b[0m\u001b[0mTn\u001b[0m\u001b[0;34m**\u001b[0m\u001b[0;36m3.0\u001b[0m\u001b[0;34m)\u001b[0m\u001b[0;34m*\u001b[0m\u001b[0mscipy\u001b[0m\u001b[0;34m.\u001b[0m\u001b[0mintegrate\u001b[0m\u001b[0;34m.\u001b[0m\u001b[0mquad\u001b[0m\u001b[0;34m(\u001b[0m\u001b[0minttemp\u001b[0m\u001b[0;34m,\u001b[0m\u001b[0;34m-\u001b[0m\u001b[0;36m40.\u001b[0m\u001b[0;34m,\u001b[0m\u001b[0;36m40.\u001b[0m\u001b[0;34m,\u001b[0m\u001b[0mlimit\u001b[0m\u001b[0;34m=\u001b[0m\u001b[0;36m40\u001b[0m\u001b[0;34m)\u001b[0m\u001b[0;34m[\u001b[0m\u001b[0;36m0\u001b[0m\u001b[0;34m]\u001b[0m\u001b[0;34m\u001b[0m\u001b[0;34m\u001b[0m\u001b[0m\n\u001b[0m\u001b[1;32m     79\u001b[0m     \u001b[0;31m#Zpave(th, lam, so, Lw, mo, p, Tn, vsq, vw, Mzp, qS, gp, z)\u001b[0m\u001b[0;34m\u001b[0m\u001b[0;34m\u001b[0m\u001b[0;34m\u001b[0m\u001b[0m\n\u001b[1;32m     80\u001b[0m \u001b[0;34m\u001b[0m\u001b[0m\n",
      "\u001b[0;32m~/opt/anaconda3/lib/python3.7/site-packages/scipy/integrate/quadpack.py\u001b[0m in \u001b[0;36mquad\u001b[0;34m(func, a, b, args, full_output, epsabs, epsrel, limit, points, weight, wvar, wopts, maxp1, limlst)\u001b[0m\n\u001b[1;32m    340\u001b[0m     \u001b[0;32mif\u001b[0m \u001b[0mweight\u001b[0m \u001b[0;32mis\u001b[0m \u001b[0;32mNone\u001b[0m\u001b[0;34m:\u001b[0m\u001b[0;34m\u001b[0m\u001b[0;34m\u001b[0m\u001b[0m\n\u001b[1;32m    341\u001b[0m         retval = _quad(func, a, b, args, full_output, epsabs, epsrel, limit,\n\u001b[0;32m--> 342\u001b[0;31m                        points)\n\u001b[0m\u001b[1;32m    343\u001b[0m     \u001b[0;32melse\u001b[0m\u001b[0;34m:\u001b[0m\u001b[0;34m\u001b[0m\u001b[0;34m\u001b[0m\u001b[0m\n\u001b[1;32m    344\u001b[0m         \u001b[0;32mif\u001b[0m \u001b[0mpoints\u001b[0m \u001b[0;32mis\u001b[0m \u001b[0;32mnot\u001b[0m \u001b[0;32mNone\u001b[0m\u001b[0;34m:\u001b[0m\u001b[0;34m\u001b[0m\u001b[0;34m\u001b[0m\u001b[0m\n",
      "\u001b[0;32m~/opt/anaconda3/lib/python3.7/site-packages/scipy/integrate/quadpack.py\u001b[0m in \u001b[0;36m_quad\u001b[0;34m(func, a, b, args, full_output, epsabs, epsrel, limit, points)\u001b[0m\n\u001b[1;32m    451\u001b[0m     \u001b[0;32mif\u001b[0m \u001b[0mpoints\u001b[0m \u001b[0;32mis\u001b[0m \u001b[0;32mNone\u001b[0m\u001b[0;34m:\u001b[0m\u001b[0;34m\u001b[0m\u001b[0;34m\u001b[0m\u001b[0m\n\u001b[1;32m    452\u001b[0m         \u001b[0;32mif\u001b[0m \u001b[0minfbounds\u001b[0m \u001b[0;34m==\u001b[0m \u001b[0;36m0\u001b[0m\u001b[0;34m:\u001b[0m\u001b[0;34m\u001b[0m\u001b[0;34m\u001b[0m\u001b[0m\n\u001b[0;32m--> 453\u001b[0;31m             \u001b[0;32mreturn\u001b[0m \u001b[0m_quadpack\u001b[0m\u001b[0;34m.\u001b[0m\u001b[0m_qagse\u001b[0m\u001b[0;34m(\u001b[0m\u001b[0mfunc\u001b[0m\u001b[0;34m,\u001b[0m\u001b[0ma\u001b[0m\u001b[0;34m,\u001b[0m\u001b[0mb\u001b[0m\u001b[0;34m,\u001b[0m\u001b[0margs\u001b[0m\u001b[0;34m,\u001b[0m\u001b[0mfull_output\u001b[0m\u001b[0;34m,\u001b[0m\u001b[0mepsabs\u001b[0m\u001b[0;34m,\u001b[0m\u001b[0mepsrel\u001b[0m\u001b[0;34m,\u001b[0m\u001b[0mlimit\u001b[0m\u001b[0;34m)\u001b[0m\u001b[0;34m\u001b[0m\u001b[0;34m\u001b[0m\u001b[0m\n\u001b[0m\u001b[1;32m    454\u001b[0m         \u001b[0;32melse\u001b[0m\u001b[0;34m:\u001b[0m\u001b[0;34m\u001b[0m\u001b[0;34m\u001b[0m\u001b[0m\n\u001b[1;32m    455\u001b[0m             \u001b[0;32mreturn\u001b[0m \u001b[0m_quadpack\u001b[0m\u001b[0;34m.\u001b[0m\u001b[0m_qagie\u001b[0m\u001b[0;34m(\u001b[0m\u001b[0mfunc\u001b[0m\u001b[0;34m,\u001b[0m\u001b[0mbound\u001b[0m\u001b[0;34m,\u001b[0m\u001b[0minfbounds\u001b[0m\u001b[0;34m,\u001b[0m\u001b[0margs\u001b[0m\u001b[0;34m,\u001b[0m\u001b[0mfull_output\u001b[0m\u001b[0;34m,\u001b[0m\u001b[0mepsabs\u001b[0m\u001b[0;34m,\u001b[0m\u001b[0mepsrel\u001b[0m\u001b[0;34m,\u001b[0m\u001b[0mlimit\u001b[0m\u001b[0;34m)\u001b[0m\u001b[0;34m\u001b[0m\u001b[0;34m\u001b[0m\u001b[0m\n",
      "\u001b[0;32m<ipython-input-2-1ce6f45d89e6>\u001b[0m in \u001b[0;36m<lambda>\u001b[0;34m(z1)\u001b[0m\n\u001b[1;32m     75\u001b[0m \u001b[0;34m\u001b[0m\u001b[0m\n\u001b[1;32m     76\u001b[0m \u001b[0;32mdef\u001b[0m \u001b[0mDelnBeq\u001b[0m\u001b[0;34m(\u001b[0m\u001b[0mth\u001b[0m\u001b[0;34m,\u001b[0m \u001b[0mlam\u001b[0m\u001b[0;34m,\u001b[0m \u001b[0mso\u001b[0m\u001b[0;34m,\u001b[0m \u001b[0mLw\u001b[0m\u001b[0;34m,\u001b[0m \u001b[0mmo\u001b[0m\u001b[0;34m,\u001b[0m \u001b[0mp\u001b[0m\u001b[0;34m,\u001b[0m \u001b[0mTn\u001b[0m\u001b[0;34m,\u001b[0m \u001b[0mvsq\u001b[0m\u001b[0;34m,\u001b[0m \u001b[0mvw\u001b[0m\u001b[0;34m,\u001b[0m \u001b[0mMzp\u001b[0m\u001b[0;34m,\u001b[0m \u001b[0mqS\u001b[0m\u001b[0;34m,\u001b[0m \u001b[0mgp\u001b[0m\u001b[0;34m,\u001b[0m \u001b[0mz\u001b[0m\u001b[0;34m)\u001b[0m\u001b[0;34m:\u001b[0m\u001b[0;34m\u001b[0m\u001b[0;34m\u001b[0m\u001b[0m\n\u001b[0;32m---> 77\u001b[0;31m     \u001b[0minttemp\u001b[0m \u001b[0;34m=\u001b[0m \u001b[0;32mlambda\u001b[0m \u001b[0mz1\u001b[0m\u001b[0;34m:\u001b[0m \u001b[0mxiL\u001b[0m\u001b[0;34m(\u001b[0m\u001b[0mth\u001b[0m\u001b[0;34m,\u001b[0m \u001b[0mlam\u001b[0m\u001b[0;34m,\u001b[0m \u001b[0mso\u001b[0m\u001b[0;34m,\u001b[0m \u001b[0mLw\u001b[0m\u001b[0;34m,\u001b[0m \u001b[0mmo\u001b[0m\u001b[0;34m,\u001b[0m \u001b[0mp\u001b[0m\u001b[0;34m,\u001b[0m \u001b[0mTn\u001b[0m\u001b[0;34m,\u001b[0m \u001b[0mvsq\u001b[0m\u001b[0;34m,\u001b[0m \u001b[0mvw\u001b[0m\u001b[0;34m,\u001b[0m \u001b[0mMzp\u001b[0m\u001b[0;34m,\u001b[0m \u001b[0mz1\u001b[0m\u001b[0;34m)\u001b[0m\u001b[0;34m*\u001b[0m\u001b[0mnp\u001b[0m\u001b[0;34m.\u001b[0m\u001b[0mexp\u001b[0m\u001b[0;34m(\u001b[0m\u001b[0;34m-\u001b[0m\u001b[0mMzp\u001b[0m\u001b[0;34m*\u001b[0m\u001b[0mabs\u001b[0m\u001b[0;34m(\u001b[0m\u001b[0mz\u001b[0m\u001b[0;34m-\u001b[0m\u001b[0mz1\u001b[0m\u001b[0;34m)\u001b[0m\u001b[0;34m)\u001b[0m\u001b[0;34m\u001b[0m\u001b[0;34m\u001b[0m\u001b[0m\n\u001b[0m\u001b[1;32m     78\u001b[0m     \u001b[0;32mreturn\u001b[0m \u001b[0;36m2.0\u001b[0m\u001b[0;34m*\u001b[0m\u001b[0mgp\u001b[0m\u001b[0;34m*\u001b[0m\u001b[0mqS\u001b[0m\u001b[0;34m*\u001b[0m\u001b[0mTn\u001b[0m\u001b[0;34m**\u001b[0m\u001b[0;36m2.0\u001b[0m\u001b[0;34m/\u001b[0m\u001b[0;36m3.0\u001b[0m\u001b[0;34m*\u001b[0m\u001b[0mgp\u001b[0m\u001b[0;34m/\u001b[0m\u001b[0;34m(\u001b[0m\u001b[0;36m2.0\u001b[0m\u001b[0;34m*\u001b[0m\u001b[0mMzp\u001b[0m\u001b[0;34m)\u001b[0m\u001b[0;34m*\u001b[0m\u001b[0;34m(\u001b[0m\u001b[0;36m1.0\u001b[0m\u001b[0;34m/\u001b[0m\u001b[0;36m3.0\u001b[0m\u001b[0;34m*\u001b[0m\u001b[0mqS\u001b[0m\u001b[0;34m*\u001b[0m\u001b[0mTn\u001b[0m\u001b[0;34m**\u001b[0m\u001b[0;36m3.0\u001b[0m\u001b[0;34m)\u001b[0m\u001b[0;34m*\u001b[0m\u001b[0mscipy\u001b[0m\u001b[0;34m.\u001b[0m\u001b[0mintegrate\u001b[0m\u001b[0;34m.\u001b[0m\u001b[0mquad\u001b[0m\u001b[0;34m(\u001b[0m\u001b[0minttemp\u001b[0m\u001b[0;34m,\u001b[0m\u001b[0;34m-\u001b[0m\u001b[0;36m40.\u001b[0m\u001b[0;34m,\u001b[0m\u001b[0;36m40.\u001b[0m\u001b[0;34m,\u001b[0m\u001b[0mlimit\u001b[0m\u001b[0;34m=\u001b[0m\u001b[0;36m40\u001b[0m\u001b[0;34m)\u001b[0m\u001b[0;34m[\u001b[0m\u001b[0;36m0\u001b[0m\u001b[0;34m]\u001b[0m\u001b[0;34m\u001b[0m\u001b[0;34m\u001b[0m\u001b[0m\n\u001b[1;32m     79\u001b[0m     \u001b[0;31m#Zpave(th, lam, so, Lw, mo, p, Tn, vsq, vw, Mzp, qS, gp, z)\u001b[0m\u001b[0;34m\u001b[0m\u001b[0;34m\u001b[0m\u001b[0;34m\u001b[0m\u001b[0m\n",
      "\u001b[0;32m<ipython-input-2-1ce6f45d89e6>\u001b[0m in \u001b[0;36mxiL\u001b[0;34m(th, lam, so, Lw, mo, p, Tn, vsq, vw, Mzp, z)\u001b[0m\n\u001b[1;32m     65\u001b[0m             +np.heaviside(-z,0.0)*np.exp(-z*Tn*(3.0-np.sqrt(9.0+24.0*vsq/vw2))*vw*lam**2.0/(8.0*math.pi*vsq)))\n\u001b[1;32m     66\u001b[0m     \u001b[0minttemp\u001b[0m \u001b[0;34m=\u001b[0m \u001b[0;32mlambda\u001b[0m \u001b[0mzo\u001b[0m\u001b[0;34m:\u001b[0m \u001b[0mScpv\u001b[0m\u001b[0;34m(\u001b[0m\u001b[0mth\u001b[0m\u001b[0;34m,\u001b[0m \u001b[0mlam\u001b[0m\u001b[0;34m,\u001b[0m \u001b[0mso\u001b[0m\u001b[0;34m,\u001b[0m \u001b[0mLw\u001b[0m\u001b[0;34m,\u001b[0m \u001b[0mmo\u001b[0m\u001b[0;34m,\u001b[0m \u001b[0mp\u001b[0m\u001b[0;34m,\u001b[0m \u001b[0mTn\u001b[0m\u001b[0;34m,\u001b[0m \u001b[0mvsq\u001b[0m\u001b[0;34m,\u001b[0m \u001b[0mvw\u001b[0m\u001b[0;34m,\u001b[0m \u001b[0mMzp\u001b[0m\u001b[0;34m,\u001b[0m \u001b[0mzo\u001b[0m\u001b[0;34m)\u001b[0m\u001b[0;34m*\u001b[0m\u001b[0mgfcn\u001b[0m\u001b[0;34m(\u001b[0m\u001b[0mz\u001b[0m\u001b[0;34m-\u001b[0m\u001b[0mzo\u001b[0m\u001b[0;34m)\u001b[0m \u001b[0;31m#Gfcn(lam,vsq,Tn,vw,z-zo)\u001b[0m\u001b[0;34m\u001b[0m\u001b[0;34m\u001b[0m\u001b[0m\n\u001b[0;32m---> 67\u001b[0;31m     \u001b[0;32mreturn\u001b[0m \u001b[0mscipy\u001b[0m\u001b[0;34m.\u001b[0m\u001b[0mintegrate\u001b[0m\u001b[0;34m.\u001b[0m\u001b[0mquad\u001b[0m\u001b[0;34m(\u001b[0m\u001b[0minttemp\u001b[0m\u001b[0;34m,\u001b[0m\u001b[0;34m-\u001b[0m\u001b[0;36m40.\u001b[0m\u001b[0;34m,\u001b[0m\u001b[0;36m40.\u001b[0m\u001b[0;34m,\u001b[0m\u001b[0mlimit\u001b[0m\u001b[0;34m=\u001b[0m\u001b[0;36m40\u001b[0m\u001b[0;34m)\u001b[0m\u001b[0;34m[\u001b[0m\u001b[0;36m0\u001b[0m\u001b[0;34m]\u001b[0m\u001b[0;34m\u001b[0m\u001b[0;34m\u001b[0m\u001b[0m\n\u001b[0m\u001b[1;32m     68\u001b[0m \u001b[0;34m\u001b[0m\u001b[0m\n\u001b[1;32m     69\u001b[0m \u001b[0;32mdef\u001b[0m \u001b[0mrhoL\u001b[0m\u001b[0;34m(\u001b[0m\u001b[0mth\u001b[0m\u001b[0;34m,\u001b[0m \u001b[0mlam\u001b[0m\u001b[0;34m,\u001b[0m \u001b[0mso\u001b[0m\u001b[0;34m,\u001b[0m \u001b[0mLw\u001b[0m\u001b[0;34m,\u001b[0m \u001b[0mmo\u001b[0m\u001b[0;34m,\u001b[0m \u001b[0mp\u001b[0m\u001b[0;34m,\u001b[0m \u001b[0mTn\u001b[0m\u001b[0;34m,\u001b[0m \u001b[0mvsq\u001b[0m\u001b[0;34m,\u001b[0m \u001b[0mvw\u001b[0m\u001b[0;34m,\u001b[0m \u001b[0mMzp\u001b[0m\u001b[0;34m,\u001b[0m \u001b[0mqS\u001b[0m\u001b[0;34m,\u001b[0m \u001b[0mz\u001b[0m\u001b[0;34m)\u001b[0m\u001b[0;34m:\u001b[0m\u001b[0;34m\u001b[0m\u001b[0;34m\u001b[0m\u001b[0m\n",
      "\u001b[0;32m~/opt/anaconda3/lib/python3.7/site-packages/scipy/integrate/quadpack.py\u001b[0m in \u001b[0;36mquad\u001b[0;34m(func, a, b, args, full_output, epsabs, epsrel, limit, points, weight, wvar, wopts, maxp1, limlst)\u001b[0m\n\u001b[1;32m    340\u001b[0m     \u001b[0;32mif\u001b[0m \u001b[0mweight\u001b[0m \u001b[0;32mis\u001b[0m \u001b[0;32mNone\u001b[0m\u001b[0;34m:\u001b[0m\u001b[0;34m\u001b[0m\u001b[0;34m\u001b[0m\u001b[0m\n\u001b[1;32m    341\u001b[0m         retval = _quad(func, a, b, args, full_output, epsabs, epsrel, limit,\n\u001b[0;32m--> 342\u001b[0;31m                        points)\n\u001b[0m\u001b[1;32m    343\u001b[0m     \u001b[0;32melse\u001b[0m\u001b[0;34m:\u001b[0m\u001b[0;34m\u001b[0m\u001b[0;34m\u001b[0m\u001b[0m\n\u001b[1;32m    344\u001b[0m         \u001b[0;32mif\u001b[0m \u001b[0mpoints\u001b[0m \u001b[0;32mis\u001b[0m \u001b[0;32mnot\u001b[0m \u001b[0;32mNone\u001b[0m\u001b[0;34m:\u001b[0m\u001b[0;34m\u001b[0m\u001b[0;34m\u001b[0m\u001b[0m\n",
      "\u001b[0;32m~/opt/anaconda3/lib/python3.7/site-packages/scipy/integrate/quadpack.py\u001b[0m in \u001b[0;36m_quad\u001b[0;34m(func, a, b, args, full_output, epsabs, epsrel, limit, points)\u001b[0m\n\u001b[1;32m    451\u001b[0m     \u001b[0;32mif\u001b[0m \u001b[0mpoints\u001b[0m \u001b[0;32mis\u001b[0m \u001b[0;32mNone\u001b[0m\u001b[0;34m:\u001b[0m\u001b[0;34m\u001b[0m\u001b[0;34m\u001b[0m\u001b[0m\n\u001b[1;32m    452\u001b[0m         \u001b[0;32mif\u001b[0m \u001b[0minfbounds\u001b[0m \u001b[0;34m==\u001b[0m \u001b[0;36m0\u001b[0m\u001b[0;34m:\u001b[0m\u001b[0;34m\u001b[0m\u001b[0;34m\u001b[0m\u001b[0m\n\u001b[0;32m--> 453\u001b[0;31m             \u001b[0;32mreturn\u001b[0m \u001b[0m_quadpack\u001b[0m\u001b[0;34m.\u001b[0m\u001b[0m_qagse\u001b[0m\u001b[0;34m(\u001b[0m\u001b[0mfunc\u001b[0m\u001b[0;34m,\u001b[0m\u001b[0ma\u001b[0m\u001b[0;34m,\u001b[0m\u001b[0mb\u001b[0m\u001b[0;34m,\u001b[0m\u001b[0margs\u001b[0m\u001b[0;34m,\u001b[0m\u001b[0mfull_output\u001b[0m\u001b[0;34m,\u001b[0m\u001b[0mepsabs\u001b[0m\u001b[0;34m,\u001b[0m\u001b[0mepsrel\u001b[0m\u001b[0;34m,\u001b[0m\u001b[0mlimit\u001b[0m\u001b[0;34m)\u001b[0m\u001b[0;34m\u001b[0m\u001b[0;34m\u001b[0m\u001b[0m\n\u001b[0m\u001b[1;32m    454\u001b[0m         \u001b[0;32melse\u001b[0m\u001b[0;34m:\u001b[0m\u001b[0;34m\u001b[0m\u001b[0;34m\u001b[0m\u001b[0m\n\u001b[1;32m    455\u001b[0m             \u001b[0;32mreturn\u001b[0m \u001b[0m_quadpack\u001b[0m\u001b[0;34m.\u001b[0m\u001b[0m_qagie\u001b[0m\u001b[0;34m(\u001b[0m\u001b[0mfunc\u001b[0m\u001b[0;34m,\u001b[0m\u001b[0mbound\u001b[0m\u001b[0;34m,\u001b[0m\u001b[0minfbounds\u001b[0m\u001b[0;34m,\u001b[0m\u001b[0margs\u001b[0m\u001b[0;34m,\u001b[0m\u001b[0mfull_output\u001b[0m\u001b[0;34m,\u001b[0m\u001b[0mepsabs\u001b[0m\u001b[0;34m,\u001b[0m\u001b[0mepsrel\u001b[0m\u001b[0;34m,\u001b[0m\u001b[0mlimit\u001b[0m\u001b[0;34m)\u001b[0m\u001b[0;34m\u001b[0m\u001b[0;34m\u001b[0m\u001b[0m\n",
      "\u001b[0;32m<ipython-input-2-1ce6f45d89e6>\u001b[0m in \u001b[0;36m<lambda>\u001b[0;34m(zo)\u001b[0m\n\u001b[1;32m     64\u001b[0m     gfcn= lambda z: 1.0/(vw*np.sqrt(1.0+8.0*vsq/3.0*vw2))*(np.heaviside(z,1.0)*np.exp(-z*Tn*(3.0+np.sqrt(9.0+24.0*vsq/vw2))*vw*lam**2.0/(8.0*math.pi*vsq))\n\u001b[1;32m     65\u001b[0m             +np.heaviside(-z,0.0)*np.exp(-z*Tn*(3.0-np.sqrt(9.0+24.0*vsq/vw2))*vw*lam**2.0/(8.0*math.pi*vsq)))\n\u001b[0;32m---> 66\u001b[0;31m     \u001b[0minttemp\u001b[0m \u001b[0;34m=\u001b[0m \u001b[0;32mlambda\u001b[0m \u001b[0mzo\u001b[0m\u001b[0;34m:\u001b[0m \u001b[0mScpv\u001b[0m\u001b[0;34m(\u001b[0m\u001b[0mth\u001b[0m\u001b[0;34m,\u001b[0m \u001b[0mlam\u001b[0m\u001b[0;34m,\u001b[0m \u001b[0mso\u001b[0m\u001b[0;34m,\u001b[0m \u001b[0mLw\u001b[0m\u001b[0;34m,\u001b[0m \u001b[0mmo\u001b[0m\u001b[0;34m,\u001b[0m \u001b[0mp\u001b[0m\u001b[0;34m,\u001b[0m \u001b[0mTn\u001b[0m\u001b[0;34m,\u001b[0m \u001b[0mvsq\u001b[0m\u001b[0;34m,\u001b[0m \u001b[0mvw\u001b[0m\u001b[0;34m,\u001b[0m \u001b[0mMzp\u001b[0m\u001b[0;34m,\u001b[0m \u001b[0mzo\u001b[0m\u001b[0;34m)\u001b[0m\u001b[0;34m*\u001b[0m\u001b[0mgfcn\u001b[0m\u001b[0;34m(\u001b[0m\u001b[0mz\u001b[0m\u001b[0;34m-\u001b[0m\u001b[0mzo\u001b[0m\u001b[0;34m)\u001b[0m \u001b[0;31m#Gfcn(lam,vsq,Tn,vw,z-zo)\u001b[0m\u001b[0;34m\u001b[0m\u001b[0;34m\u001b[0m\u001b[0m\n\u001b[0m\u001b[1;32m     67\u001b[0m     \u001b[0;32mreturn\u001b[0m \u001b[0mscipy\u001b[0m\u001b[0;34m.\u001b[0m\u001b[0mintegrate\u001b[0m\u001b[0;34m.\u001b[0m\u001b[0mquad\u001b[0m\u001b[0;34m(\u001b[0m\u001b[0minttemp\u001b[0m\u001b[0;34m,\u001b[0m\u001b[0;34m-\u001b[0m\u001b[0;36m40.\u001b[0m\u001b[0;34m,\u001b[0m\u001b[0;36m40.\u001b[0m\u001b[0;34m,\u001b[0m\u001b[0mlimit\u001b[0m\u001b[0;34m=\u001b[0m\u001b[0;36m40\u001b[0m\u001b[0;34m)\u001b[0m\u001b[0;34m[\u001b[0m\u001b[0;36m0\u001b[0m\u001b[0;34m]\u001b[0m\u001b[0;34m\u001b[0m\u001b[0;34m\u001b[0m\u001b[0m\n\u001b[1;32m     68\u001b[0m \u001b[0;34m\u001b[0m\u001b[0m\n",
      "\u001b[0;32m<ipython-input-2-1ce6f45d89e6>\u001b[0m in \u001b[0;36m<lambda>\u001b[0;34m(z)\u001b[0m\n\u001b[1;32m     62\u001b[0m \u001b[0;32mdef\u001b[0m \u001b[0mxiL\u001b[0m\u001b[0;34m(\u001b[0m\u001b[0mth\u001b[0m\u001b[0;34m,\u001b[0m \u001b[0mlam\u001b[0m\u001b[0;34m,\u001b[0m \u001b[0mso\u001b[0m\u001b[0;34m,\u001b[0m \u001b[0mLw\u001b[0m\u001b[0;34m,\u001b[0m \u001b[0mmo\u001b[0m\u001b[0;34m,\u001b[0m \u001b[0mp\u001b[0m\u001b[0;34m,\u001b[0m \u001b[0mTn\u001b[0m\u001b[0;34m,\u001b[0m \u001b[0mvsq\u001b[0m\u001b[0;34m,\u001b[0m \u001b[0mvw\u001b[0m\u001b[0;34m,\u001b[0m \u001b[0mMzp\u001b[0m\u001b[0;34m,\u001b[0m \u001b[0mz\u001b[0m\u001b[0;34m)\u001b[0m\u001b[0;34m:\u001b[0m\u001b[0;34m\u001b[0m\u001b[0;34m\u001b[0m\u001b[0m\n\u001b[1;32m     63\u001b[0m     \u001b[0mvw2\u001b[0m\u001b[0;34m=\u001b[0m\u001b[0mvw\u001b[0m\u001b[0;34m**\u001b[0m\u001b[0;36m2.0\u001b[0m\u001b[0;34m\u001b[0m\u001b[0;34m\u001b[0m\u001b[0m\n\u001b[0;32m---> 64\u001b[0;31m     gfcn= lambda z: 1.0/(vw*np.sqrt(1.0+8.0*vsq/3.0*vw2))*(np.heaviside(z,1.0)*np.exp(-z*Tn*(3.0+np.sqrt(9.0+24.0*vsq/vw2))*vw*lam**2.0/(8.0*math.pi*vsq))\n\u001b[0m\u001b[1;32m     65\u001b[0m             +np.heaviside(-z,0.0)*np.exp(-z*Tn*(3.0-np.sqrt(9.0+24.0*vsq/vw2))*vw*lam**2.0/(8.0*math.pi*vsq)))\n\u001b[1;32m     66\u001b[0m     \u001b[0minttemp\u001b[0m \u001b[0;34m=\u001b[0m \u001b[0;32mlambda\u001b[0m \u001b[0mzo\u001b[0m\u001b[0;34m:\u001b[0m \u001b[0mScpv\u001b[0m\u001b[0;34m(\u001b[0m\u001b[0mth\u001b[0m\u001b[0;34m,\u001b[0m \u001b[0mlam\u001b[0m\u001b[0;34m,\u001b[0m \u001b[0mso\u001b[0m\u001b[0;34m,\u001b[0m \u001b[0mLw\u001b[0m\u001b[0;34m,\u001b[0m \u001b[0mmo\u001b[0m\u001b[0;34m,\u001b[0m \u001b[0mp\u001b[0m\u001b[0;34m,\u001b[0m \u001b[0mTn\u001b[0m\u001b[0;34m,\u001b[0m \u001b[0mvsq\u001b[0m\u001b[0;34m,\u001b[0m \u001b[0mvw\u001b[0m\u001b[0;34m,\u001b[0m \u001b[0mMzp\u001b[0m\u001b[0;34m,\u001b[0m \u001b[0mzo\u001b[0m\u001b[0;34m)\u001b[0m\u001b[0;34m*\u001b[0m\u001b[0mgfcn\u001b[0m\u001b[0;34m(\u001b[0m\u001b[0mz\u001b[0m\u001b[0;34m-\u001b[0m\u001b[0mzo\u001b[0m\u001b[0;34m)\u001b[0m \u001b[0;31m#Gfcn(lam,vsq,Tn,vw,z-zo)\u001b[0m\u001b[0;34m\u001b[0m\u001b[0;34m\u001b[0m\u001b[0m\n",
      "\u001b[0;31mKeyboardInterrupt\u001b[0m: "
     ]
    }
   ],
   "source": [
    "## Loop for scan of MZp and gp\n",
    "import pandas as pd\n",
    "\n",
    "xt=[]\n",
    "\n",
    "for i in np.arange(0,1.3,0.25):\n",
    "    \n",
    "    Mzpt=5.0*12.0**(i)\n",
    "    for j in np.arange(0,1.0,0.3):\n",
    "        gpt=0.00001*15.0**(j)\n",
    "        delnbt=DelnB(math.pi/3.0, 0.3, 100.0,5.0/100.0, 100,10.0, 100.0,0.7,0.1,Mzpt, 5.0, gpt) #(th, lam, so, Lw, mo, p, Tn, vsq, vw, Mzp, qS, gp)#\n",
    "        entdens=(2.0*math.pi**2.0)*100.0*(125.0)**3.0/45.0\n",
    "        print('MZ\\'=',Mzpt, ' gp=',gpt,delnbt/entdens)\n",
    "        xt.append([Mzpt,gpt,delnbt/entdens])\n",
    "\n",
    "xt=np.asarray(xt)\n",
    "\n",
    "xdt=pd.DataFrame(xt,columns=['MZp','gp','eta_B'])\n",
    "\n",
    "xdt.to_csv('Mzvsgp2.csv')"
   ]
  },
  {
   "cell_type": "code",
   "execution_count": 7,
   "metadata": {
    "id": "QeYL2ksKB3QZ"
   },
   "outputs": [],
   "source": [
    "xt=np.asarray(xt)\n",
    "\n",
    "xdt=pd.DataFrame(xt,columns=['MZp','gp','eta_B'])\n",
    "\n",
    "xdt.to_csv('Mzvsgp2.csv')"
   ]
  },
  {
   "cell_type": "code",
   "execution_count": 8,
   "metadata": {
    "colab": {
     "base_uri": "https://localhost:8080/",
     "height": 175
    },
    "id": "3yh72indIkLe",
    "outputId": "2c109f61-569a-4808-968b-331b66e29ef8"
   },
   "outputs": [
    {
     "data": {
      "text/html": [
       "<div>\n",
       "<style scoped>\n",
       "    .dataframe tbody tr th:only-of-type {\n",
       "        vertical-align: middle;\n",
       "    }\n",
       "\n",
       "    .dataframe tbody tr th {\n",
       "        vertical-align: top;\n",
       "    }\n",
       "\n",
       "    .dataframe thead th {\n",
       "        text-align: right;\n",
       "    }\n",
       "</style>\n",
       "<table border=\"1\" class=\"dataframe\">\n",
       "  <thead>\n",
       "    <tr style=\"text-align: right;\">\n",
       "      <th></th>\n",
       "      <th>MZp</th>\n",
       "      <th>gp</th>\n",
       "      <th>eta_B</th>\n",
       "    </tr>\n",
       "  </thead>\n",
       "  <tbody>\n",
       "    <tr>\n",
       "      <th>0</th>\n",
       "      <td>5.000000</td>\n",
       "      <td>0.000010</td>\n",
       "      <td>-1.795611e-66</td>\n",
       "    </tr>\n",
       "    <tr>\n",
       "      <th>1</th>\n",
       "      <td>5.000000</td>\n",
       "      <td>0.000023</td>\n",
       "      <td>-3.108473e-62</td>\n",
       "    </tr>\n",
       "    <tr>\n",
       "      <th>2</th>\n",
       "      <td>5.000000</td>\n",
       "      <td>0.000051</td>\n",
       "      <td>-5.295664e-58</td>\n",
       "    </tr>\n",
       "    <tr>\n",
       "      <th>3</th>\n",
       "      <td>5.000000</td>\n",
       "      <td>0.000114</td>\n",
       "      <td>-9.036655e-54</td>\n",
       "    </tr>\n",
       "    <tr>\n",
       "      <th>4</th>\n",
       "      <td>9.306049</td>\n",
       "      <td>0.000010</td>\n",
       "      <td>-5.260310e-67</td>\n",
       "    </tr>\n",
       "    <tr>\n",
       "      <th>5</th>\n",
       "      <td>9.306049</td>\n",
       "      <td>0.000023</td>\n",
       "      <td>-9.014463e-63</td>\n",
       "    </tr>\n",
       "    <tr>\n",
       "      <th>6</th>\n",
       "      <td>9.306049</td>\n",
       "      <td>0.000051</td>\n",
       "      <td>-1.426363e-58</td>\n",
       "    </tr>\n",
       "    <tr>\n",
       "      <th>7</th>\n",
       "      <td>9.306049</td>\n",
       "      <td>0.000114</td>\n",
       "      <td>-2.442774e-54</td>\n",
       "    </tr>\n",
       "    <tr>\n",
       "      <th>8</th>\n",
       "      <td>17.320508</td>\n",
       "      <td>0.000010</td>\n",
       "      <td>2.083702e-67</td>\n",
       "    </tr>\n",
       "    <tr>\n",
       "      <th>9</th>\n",
       "      <td>17.320508</td>\n",
       "      <td>0.000023</td>\n",
       "      <td>3.400500e-63</td>\n",
       "    </tr>\n",
       "    <tr>\n",
       "      <th>10</th>\n",
       "      <td>17.320508</td>\n",
       "      <td>0.000051</td>\n",
       "      <td>5.787594e-59</td>\n",
       "    </tr>\n",
       "  </tbody>\n",
       "</table>\n",
       "</div>"
      ],
      "text/plain": [
       "          MZp        gp         eta_B\n",
       "0    5.000000  0.000010 -1.795611e-66\n",
       "1    5.000000  0.000023 -3.108473e-62\n",
       "2    5.000000  0.000051 -5.295664e-58\n",
       "3    5.000000  0.000114 -9.036655e-54\n",
       "4    9.306049  0.000010 -5.260310e-67\n",
       "5    9.306049  0.000023 -9.014463e-63\n",
       "6    9.306049  0.000051 -1.426363e-58\n",
       "7    9.306049  0.000114 -2.442774e-54\n",
       "8   17.320508  0.000010  2.083702e-67\n",
       "9   17.320508  0.000023  3.400500e-63\n",
       "10  17.320508  0.000051  5.787594e-59"
      ]
     },
     "execution_count": 8,
     "metadata": {},
     "output_type": "execute_result"
    }
   ],
   "source": [
    "xdt"
   ]
  },
  {
   "cell_type": "markdown",
   "metadata": {
    "id": "VG_9wPlUa4sJ"
   },
   "source": [
    "# Checking Fig 4 in Yue's paper"
   ]
  },
  {
   "cell_type": "code",
   "execution_count": null,
   "metadata": {
    "colab": {
     "base_uri": "https://localhost:8080/"
    },
    "id": "VnPOU8vjeplV",
    "outputId": "4ec36af8-a1f3-4106-fb64-3d947cefa319"
   },
   "outputs": [
    {
     "name": "stderr",
     "output_type": "stream",
     "text": [
      "/usr/local/lib/python3.7/dist-packages/ipykernel_launcher.py:33: RuntimeWarning: overflow encountered in double_scalars\n",
      "/usr/local/lib/python3.7/dist-packages/ipykernel_launcher.py:67: IntegrationWarning: The integral is probably divergent, or slowly convergent.\n",
      "/usr/local/lib/python3.7/dist-packages/ipykernel_launcher.py:78: IntegrationWarning: The integral is probably divergent, or slowly convergent.\n"
     ]
    }
   ],
   "source": [
    "pt=1.0\n",
    "Tnt=100.0\n",
    "gpt=0.00001\n",
    "zini=-10.0\n",
    "xilist=np.array([zini/(5.0/100.0),10**5*xiL(math.pi/3.0, 0.3, 100.0,5.0/100.0, 100,1.0, Tnt,0.7,0.1,1.0,zini)])\n",
    "delnbeqlist=np.array([zini/(5.0/100.0),DelnBeq(math.pi/3.0, 0.3, 100.0,5.0/100.0, 100,1.0, 100.0,0.7,0.1,1.0, 5.0,gpt,zini)/(Tnt**3*gpt**2)])\n",
    "for x in np.arange(zini,-zini,.1):\n",
    "    #print(xiL(0.3, 0.1, 100,10, 100, .1, 100,0.7,0.7,100,x))\n",
    "    xilist=np.vstack([xilist,[x/(5.0/100.0),10**5*xiL(0.3, 0.1, 100,pt, 100, .1, 100,0.7,0.7,100,x)]])\n",
    "    delnbeqlist=np.vstack([delnbeqlist,[x/(5.0/100.0),DelnBeq(math.pi/3.0, 0.3, 100.0,5.0/100.0, 100,pt, 100.0,0.7,0.1,1.0, 5.0, 0.00001,x)/(Tnt**3*gpt**2)]])\n",
    "    \n",
    "    \n",
    "    \n",
    "    "
   ]
  },
  {
   "cell_type": "code",
   "execution_count": null,
   "metadata": {
    "colab": {
     "base_uri": "https://localhost:8080/",
     "height": 282
    },
    "id": "i9luBn8beplW",
    "outputId": "30fcf5c7-bbe6-4684-ac47-ec035c12f154"
   },
   "outputs": [
    {
     "data": {
      "text/plain": [
       "[<matplotlib.lines.Line2D at 0x7f0b4e593950>]"
      ]
     },
     "execution_count": 91,
     "metadata": {},
     "output_type": "execute_result"
    },
    {
     "data": {
      "image/png": "[encoded data removed]",
      "text/plain": [
       "<Figure size 432x288 with 1 Axes>"
      ]
     },
     "metadata": {},
     "output_type": "display_data"
    }
   ],
   "source": [
    "plt.plot(xilist[:,0],xilist[:,1],'r')"
   ]
  },
  {
   "cell_type": "code",
   "execution_count": null,
   "metadata": {
    "colab": {
     "base_uri": "https://localhost:8080/",
     "height": 282
    },
    "id": "PmxJCIfdeplW",
    "outputId": "97c5261a-85ea-444d-a6e5-194c98f3610a"
   },
   "outputs": [
    {
     "data": {
      "text/plain": [
       "[<matplotlib.lines.Line2D at 0x7f0b4e33cb10>]"
      ]
     },
     "execution_count": 92,
     "metadata": {},
     "output_type": "execute_result"
    },
    {
     "data": {
      "image/png": "[encoded data removed]",
      "text/plain": [
       "<Figure size 432x288 with 1 Axes>"
      ]
     },
     "metadata": {},
     "output_type": "display_data"
    }
   ],
   "source": [
    "plt.plot(delnbeqlist[:,0],delnbeqlist[:,1],'r')"
   ]
  }
 ],
 "metadata": {
  "colab": {
   "collapsed_sections": [],
   "name": "nbscan_211016.ipynb",
   "provenance": []
  },
  "kernelspec": {
   "display_name": "Python 3",
   "language": "python",
   "name": "python3"
  },
  "language_info": {
   "codemirror_mode": {
    "name": "ipython",
    "version": 3
   },
   "file_extension": ".py",
   "mimetype": "text/x-python",
   "name": "python",
   "nbconvert_exporter": "python",
   "pygments_lexer": "ipython3",
   "version": "3.5.3"
  }
 },
 "nbformat": 4,
 "nbformat_minor": 1
}
