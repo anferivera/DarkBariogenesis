{
 "cells": [
  {
   "cell_type": "markdown",
   "metadata": {},
   "source": [
    "# U1B model: neutrino masses inversion"
   ]
  },
  {
   "cell_type": "markdown",
   "metadata": {},
   "source": [
    "The idea is to check the neutrino mases inversion to one loop.\n",
    "Leshouches dictionary, SPHENO_4.0.3, micromegas_5.0.4"
   ]
  },
  {
   "cell_type": "code",
   "execution_count": 1,
   "metadata": {},
   "outputs": [],
   "source": [
    "import numpy as np\n",
    "import pandas as pd\n",
    "import subprocess\n",
    "import time\n",
    "import sys\n",
    "\n",
    "%matplotlib inline\n",
    "import matplotlib.pyplot as plt "
   ]
  },
  {
   "cell_type": "code",
   "execution_count": 8,
   "metadata": {},
   "outputs": [],
   "source": [
    "import pyslha\n",
    "import pyU1B_LesHouches_generator\n",
    "import neutrino_analytic"
   ]
  },
  {
   "cell_type": "code",
   "execution_count": 3,
   "metadata": {},
   "outputs": [
    {
     "data": {
      "image/png": "[encoded data removed]",
      "text/plain": [
       "<IPython.core.display.Image object>"
      ]
     },
     "execution_count": 3,
     "metadata": {},
     "output_type": "execute_result"
    }
   ],
   "source": [
    "from IPython.display import Image\n",
    "Image(\"zee-couplings.png\")"
   ]
  },
  {
   "cell_type": "markdown",
   "metadata": {},
   "source": [
    "Benchmark point + (defect values in the Leshouches input file)"
   ]
  },
  {
   "cell_type": "code",
   "execution_count": 4,
   "metadata": {},
   "outputs": [],
   "source": [
    "L2 = -7.23E-2\n",
    "YA1 = 0.6\n",
    "YC1 = 1.0 #control the Fvv mass\n",
    "vx = np.random.uniform(1500,3000)\n",
    "YRG = 5.1E-1\n",
    "\n",
    "Fi11 = 0.112\n",
    "Fi12 = 0.1\n",
    "Fi21 = 0.2\n",
    "Fi22 = 0.3\n",
    "\n",
    "LD11 = 1.1E-1\n",
    "LD12 = 1.2E-1\n",
    "LD13 = 1.2E-2\n",
    "LD21 = 1.1E-2\n",
    "LD22 = 1.3E-2\n",
    "LD23 = 1.21E-2\n",
    "\n",
    "LE11 = 1.11E-1\n",
    "LE12 = 1.12E-1\n",
    "LE21 = 1.13E-1\n",
    "LE22 = 1.14E-2"
   ]
  },
  {
   "cell_type": "markdown",
   "metadata": {},
   "source": [
    "run diccionary first time"
   ]
  },
  {
   "cell_type": "code",
   "execution_count": 6,
   "metadata": {},
   "outputs": [],
   "source": [
    "x=[]\n",
    "\n",
    "#opend the dictionary\n",
    "xdict = pyU1B_LesHouches_generator.buildSLHAinFile()\n",
    "    \n",
    "#Modify one parameter\n",
    "xdict.blocks['MINPAR'].entries[2]='%.6E    # Lambda2INPUT'%L2\n",
    "xdict.blocks['MINPAR'].entries[7]='%.6E    # YA1INPUT'%YA1\n",
    "xdict.blocks['MINPAR'].entries[11]='%.6E    # YC1INPUT'%YC1\n",
    "xdict.blocks['MINPAR'].entries[13]='%.6E    # YRGINPUT'%YRG\n",
    "xdict.blocks['MINPAR'].entries[15]='%.6E    # vXInput'%vx\n",
    "\n",
    "xdict.blocks['FIIN'].entries[1,1]='%.6E    # Fi(1,1)'%Fi11\n",
    "xdict.blocks['FIIN'].entries[1,2]='%.6E    # Fi(1,2)'%Fi12\n",
    "xdict.blocks['FIIN'].entries[2,1]='%.6E    # Fi(2,1)'%Fi21\n",
    "xdict.blocks['FIIN'].entries[2,2]='%.6E    # Fi(2,2)'%Fi22\n",
    "\n",
    "xdict.blocks['LDIN'].entries[1,1]='%.6E    # LD(1,1)'%LD11\n",
    "xdict.blocks['LDIN'].entries[1,2]='%.6E    # LD(1,2)'%LD12\n",
    "xdict.blocks['LDIN'].entries[1,3]='%.6E    # LD(1,3)'%LD13\n",
    "xdict.blocks['LDIN'].entries[2,1]='%.6E    # LD(2,1)'%LD21\n",
    "xdict.blocks['LDIN'].entries[2,2]='%.6E    # LD(2,2)'%LD22\n",
    "xdict.blocks['LDIN'].entries[2,3]='%.6E    # LD(2,3)'%LD23\n",
    "\n",
    "xdict.blocks['LEIN'].entries[1,1]='%.6E    # LE(1,1)'%LE11\n",
    "xdict.blocks['LEIN'].entries[1,2]='%.6E    # LE(1,2)'%LE12\n",
    "xdict.blocks['LEIN'].entries[2,1]='%.6E    # LE(2,1)'%LE21\n",
    "xdict.blocks['LEIN'].entries[2,2]='%.6E    # LE(2,2)'%LE22\n",
    "\n",
    "pyslha.writeSLHAFile('LesHouches.in.U1B_low',xdict) \n",
    "\n",
    "#run SPheno\n",
    "spheno = subprocess.getoutput('~/Work/SPheno-4.0.3/bin/SPhenoU1B LesHouches.in.U1B_low')    \n",
    "so = subprocess.getoutput('cat SPheno.spc.U1B')\n",
    "\n",
    "#take spheno data\n",
    "MZp = eval(so.split('# VWm')[1].split()[1])\n",
    "mnu1 = np.abs(eval(so.split('# Fe_3')[1].split()[1]))\n",
    "mnu2 = np.abs(eval(so.split('# Fe_3')[1].split()[5]))\n",
    "mnu3 = np.abs(eval(so.split('# Fe_3')[1].split()[13]))\n",
    "\n",
    "ZP22 = eval(so.split('# ZP(2,1)')[1].split()[2])\n",
    "ZP23 = eval(so.split('# ZP(2,1)')[1].split()[7])\n",
    "ZP24 = eval(so.split('# ZP(2,1)')[1].split()[12])\n",
    "ZP25 = eval(so.split('# ZP(2,1)')[1].split()[17])\n",
    "\n",
    "ZP32 = eval(so.split('# ZP(2,1)')[1].split()[27])\n",
    "ZP33 = eval(so.split('# ZP(2,1)')[1].split()[32])\n",
    "ZP34 = eval(so.split('# ZP(2,1)')[1].split()[37])\n",
    "ZP35 = eval(so.split('# ZP(2,1)')[1].split()[42])\n",
    "\n",
    "ZP42 = eval(so.split('# ZP(2,1)')[1].split()[52])\n",
    "ZP43 = eval(so.split('# ZP(2,1)')[1].split()[57])\n",
    "ZP44 = eval(so.split('# ZP(2,1)')[1].split()[62])\n",
    "ZP45 = eval(so.split('# ZP(2,1)')[1].split()[67])\n",
    "\n",
    "ZP52 = eval(so.split('# ZP(2,1)')[1].split()[77])\n",
    "ZP53 = eval(so.split('# ZP(2,1)')[1].split()[82])\n",
    "ZP54 = eval(so.split('# ZP(2,1)')[1].split()[87])\n",
    "ZP55 = eval(so.split('# ZP(2,1)')[1].split()[92])\n",
    "    \n",
    "mH2=eval(so.split('Block MASS')[1].split()[17])\n",
    "mH3=eval(so.split('Block MASS')[1].split()[21])\n",
    "mH4=eval(so.split('Block MASS')[1].split()[25])\n",
    "mH5=eval(so.split('Block MASS')[1].split()[29])\n",
    "meD1=eval(so.split('# Fvv')[1].split()[1])\n",
    "meD2=eval(so.split('# Fvv')[1].split()[5])\n",
    "\n",
    "VL11=eval(so.split('Block UELDMIX')[1].split()[6])\n",
    "VL12=eval(so.split('Block UELDMIX')[1].split()[11])\n",
    "VL21=eval(so.split('Block UELDMIX')[1].split()[16])\n",
    "VL22=eval(so.split('Block UELDMIX')[1].split()[21])\n",
    "\n",
    "UL11=eval(so.split('Block UERDMIX')[1].split()[6])\n",
    "UL12=eval(so.split('Block UERDMIX')[1].split()[11])\n",
    "UL21=eval(so.split('Block UERDMIX')[1].split()[16])\n",
    "UL22=eval(so.split('Block UERDMIX')[1].split()[21])\n",
    "\n",
    "x.append([L2,YA1,YC1,vx,YRG,Fi11,Fi12,Fi21,Fi22,LD11,LD12,LD13,LD21,LD22,LD23,LE11,LE12,LE21,LE22,MZp,\\\n",
    "          mnu1,mnu2,mnu3,ZP22,ZP23,ZP24,ZP25,ZP32,ZP33,ZP34,ZP35,ZP42,ZP43,ZP44,ZP45,ZP52,ZP53,ZP54,ZP55,\\\n",
    "             mH2,mH3,mH4,mH5,meD1,meD2,VL11,VL12,VL21,VL22,UL11,UL12,UL21,UL22])\n",
    "\n",
    "x=np.asarray(x)\n",
    "xd=pd.DataFrame(x,columns=['L2','YA1','YC1','vx','YRG','Fi11','Fi12','Fi21','Fi22','LD11','LD12','LD13',\\\n",
    "                           'LD21','LD22','LD23','LE11','LE12','LE21','LE22','MZp','mnu1','mnu2','mnu3',\\\n",
    "                           'ZP22','ZP23','ZP24','ZP25','ZP32','ZP33','ZP34','ZP35','ZP42','ZP43','ZP44',\\\n",
    "                           'ZP45','ZP52','ZP53','ZP54','ZP55','mH2','mH3','mH4','mH5','meD1','meD2',\\\n",
    "                           'VL11','VL12','VL21','VL22','UL11','UL12','UL21','UL22'])  \n"
   ]
  },
  {
   "cell_type": "markdown",
   "metadata": {},
   "source": [
    "loop elements"
   ]
  },
  {
   "cell_type": "code",
   "execution_count": null,
   "metadata": {},
   "outputs": [],
   "source": []
  },
  {
   "cell_type": "code",
   "execution_count": 9,
   "metadata": {},
   "outputs": [],
   "source": [
    "def ran_num():\n",
    "    \n",
    "    return np.exp(np.random.uniform(np.log(1.*10**(-4)),np.log(10**(0))))\n",
    "\n",
    "#H random matrix\n",
    "def h():\n",
    "    h = np.array([[ran_num(),ran_num(),ran_num()],\n",
    "                  [ran_num(),ran_num(),ran_num()],\n",
    "                  [ran_num(),ran_num(),ran_num()]])\n",
    "    \n",
    "    return h"
   ]
  },
  {
   "cell_type": "code",
   "execution_count": 10,
   "metadata": {},
   "outputs": [
    {
     "name": "stdout",
     "output_type": "stream",
     "text": [
      "[[  9.51343376e-01   7.86430599e-03   1.50601260e-03]\n",
      " [  5.17653270e-03   5.93409565e-01   1.30191664e-04]\n",
      " [  2.12365799e-02   1.40243176e-01   7.72727955e-02]]\n"
     ]
    }
   ],
   "source": [
    "h = h()\n",
    "print(h)"
   ]
  },
  {
   "cell_type": "code",
   "execution_count": 11,
   "metadata": {},
   "outputs": [
    {
     "name": "stdout",
     "output_type": "stream",
     "text": [
      "[[  1.05165186e+00  -9.09692988e-03  -2.04809028e-02]\n",
      " [ -9.11416999e-03   1.68592686e+00  -2.66287207e-03]\n",
      " [ -2.72479966e-01  -3.05730560e+00   1.29516266e+01]]\n"
     ]
    }
   ],
   "source": [
    "hinv = np.linalg.inv(h)\n",
    "print(hinv)"
   ]
  },
  {
   "cell_type": "code",
   "execution_count": 12,
   "metadata": {},
   "outputs": [
    {
     "data": {
      "text/plain": [
       "array([[  1.00000000e+00,   8.67361738e-19,   0.00000000e+00],\n",
       "       [  7.38612730e-19,   1.00000000e+00,   2.16840434e-19],\n",
       "       [  6.93889390e-18,  -2.77555756e-17,   1.00000000e+00]])"
      ]
     },
     "execution_count": 12,
     "metadata": {},
     "output_type": "execute_result"
    }
   ],
   "source": [
    "np.dot(h,hinv)"
   ]
  },
  {
   "cell_type": "markdown",
   "metadata": {},
   "source": [
    "PMNS matrix"
   ]
  },
  {
   "cell_type": "code",
   "execution_count": 13,
   "metadata": {},
   "outputs": [],
   "source": [
    "#PMNS matrix 2018 to 3\\sigma https://arxiv.org/abs/1708.01186\n",
    "\n",
    "#phases of the PMNS matrix and the R \n",
    "phases1 = np.random.uniform(0.,0.0*np.pi,3) # WARNING! They are in zero\n",
    "delta = phases1[0]\n",
    "eta1 = phases1[1]\n",
    "eta2 = phases1[2]\n",
    "\n",
    "#light neutrino masses (up 3 sigma range) NH (NO)\n",
    "#mnu1 = 10**((np.log10(2.5e-3)-np.log10(1e-9))*np.random.uniform(0,1)+np.log10(1e-9))*1e-9 \n",
    "#Zero in this framework\n",
    "mnu1 = 1.0e-20\n",
    "mnu2 = np.sqrt(np.random.uniform(7.05e-5,8.14e-5)*1.0e-18+mnu1**2)\n",
    "mnu3 = np.sqrt(np.random.uniform(2.41e-3,2.60e-3)*1.0e-18+mnu1**2)\n",
    "\n",
    "#mixing angles (up 3 sigma range) NH\n",
    "t12 = np.arcsin(np.sqrt(np.random.uniform(0.273,0.379)))\n",
    "t23 = np.arcsin(np.sqrt(np.random.uniform(0.445,0.599)))\n",
    "t13 = np.arcsin(np.sqrt(np.random.uniform(0.0196,0.0241)))\n",
    "\n",
    "#Building PMNS matrix NH\n",
    "UM12 = np.array([ [np.cos(t12),np.sin(t12),0.], [-np.sin(t12),np.cos(t12),0.], [0.,0.,1.0] ])\n",
    "UM13 = np.array([ [np.cos(t13),0.,np.sin(t13)], [0.,1.0,0.], [-np.sin(t13),0.,np.cos(t13)] ])\n",
    "UM23 = np.array([ [1.0,0.,0.], [0.,np.cos(t23),np.sin(t23)], [0.,-np.sin(t23),np.cos(t23)] ])\n",
    "Uphases = np.array([ [np.exp(eta1*1j),0.,0.], [0.,np.exp(eta2*1j),0.], [0.,0.,1.0] ])\n",
    "P=np.dot(UM23,np.dot(UM13,np.dot(UM12,Uphases))).real"
   ]
  },
  {
   "cell_type": "code",
   "execution_count": 15,
   "metadata": {},
   "outputs": [
    {
     "name": "stdout",
     "output_type": "stream",
     "text": [
      "mnu1= 1e-20 mnu2= 8.59492640372e-12 mnu3= 5.08714955589e-11\n",
      "[[ 0.83366636  0.53240903  0.14676862]\n",
      " [-0.46496854  0.53324444  0.70672104]\n",
      " [ 0.29800111 -0.65741235  0.6921014 ]]\n"
     ]
    }
   ],
   "source": [
    "print(\"mnu1=\",mnu1,\"mnu2=\",mnu2,\"mnu3=\",mnu3)\n",
    "print(P)"
   ]
  },
  {
   "cell_type": "markdown",
   "metadata": {},
   "source": [
    "\\begin{align}\n",
    "f = \\sqrt{D}R\\sqrt{D}U_{{\\rm PMNS}}^T\\left(h^{-1}\\right)^T\\Lambda^{-1}\\;,\n",
    "\\end{align}"
   ]
  },
  {
   "cell_type": "code",
   "execution_count": 16,
   "metadata": {},
   "outputs": [
    {
     "name": "stdout",
     "output_type": "stream",
     "text": [
      "[[  1.00000000e-10   0.00000000e+00   0.00000000e+00]\n",
      " [  0.00000000e+00   2.93171049e-06   0.00000000e+00]\n",
      " [  0.00000000e+00   0.00000000e+00   7.13242564e-06]]\n"
     ]
    }
   ],
   "source": [
    "D = np.array([[np.sqrt(mnu1),0.,0.],\n",
    "              [0.,np.sqrt(mnu2),0.],[0.,0.,np.sqrt(mnu3)]])\n",
    "print(D)"
   ]
  },
  {
   "cell_type": "code",
   "execution_count": 17,
   "metadata": {},
   "outputs": [],
   "source": [
    "R = np.array([[0.,0.,0.],\n",
    "                  [0.,1.,0.],\n",
    "                  [0.,0.,1.]])"
   ]
  },
  {
   "cell_type": "code",
   "execution_count": null,
   "metadata": {},
   "outputs": [],
   "source": [
    "f = np.dot(np.dot(np.dot(np.dot(np.dot(D,R),D),np.transpose(P)),np.transpose(hinv)),Linv)\n",
    "print(f)"
   ]
  },
  {
   "cell_type": "code",
   "execution_count": null,
   "metadata": {},
   "outputs": [],
   "source": []
  },
  {
   "cell_type": "code",
   "execution_count": null,
   "metadata": {},
   "outputs": [],
   "source": []
  },
  {
   "cell_type": "markdown",
   "metadata": {},
   "source": [
    "Neutrino $M_{ij}^{\\nu}$ matrix:"
   ]
  },
  {
   "cell_type": "markdown",
   "metadata": {},
   "source": [
    "\\begin{equation}\n",
    "M_{ik}^{\\nu} = (h_d)^{\\alpha i} \\Lambda^{\\alpha\\beta} (h_e)^{\\beta k}\n",
    "\\end{equation}"
   ]
  },
  {
   "cell_type": "code",
   "execution_count": 13,
   "metadata": {},
   "outputs": [
    {
     "data": {
      "text/plain": [
       "(5.5309938106837717e-16, 1.971167104902787e-10, 6.0055393107931744e-08)"
      ]
     },
     "execution_count": 13,
     "metadata": {},
     "output_type": "execute_result"
    }
   ],
   "source": [
    "neutrino_analytic.Mab(xd.ZP22[0],xd.ZP23[0],xd.ZP24[0],xd.ZP25[0],xd.ZP32[0],xd.ZP33[0],xd.ZP34[0],xd.ZP35[0],xd.ZP42[0],xd.ZP43[0],\\\n",
    "                           xd.ZP44[0],xd.ZP45[0],xd.ZP52[0],xd.ZP53[0],xd.ZP54[0],xd.ZP55[0],xd.meD1[0],xd.meD2[0],\\\n",
    "    xd.mH2[0],xd.mH3[0],xd.mH4[0],xd.mH5[0],xd.VL11[0],xd.VL21[0],xd.UL11[0],xd.UL21[0],xd.LD11[0],xd.LD12[0],\\\n",
    "    xd.LD13[0],xd.LD21[0],xd.LD22[0],xd.LD23[0],xd.LE11[0],xd.LE12[0],0.,xd.LE21[0],xd.LE22[0],0.)"
   ]
  },
  {
   "cell_type": "markdown",
   "metadata": {},
   "source": [
    "vectorize not working"
   ]
  },
  {
   "cell_type": "code",
   "execution_count": null,
   "metadata": {},
   "outputs": [],
   "source": [
    "'''\n",
    "#Add to the DataFrame  not working\n",
    "neutrino_analytic.MatrixDiag_new(xd.ZP22,xd.ZP23,xd.ZP24,xd.ZP25,xd.ZP32,xd.ZP33,xd.ZP34,xd.ZP35,xd.ZP42,xd.ZP43,xd.ZP44,xd.ZP45,\\\n",
    "               xd.ZP52,xd.ZP53,xd.ZP54,xd.ZP55,xd.meD1,xd.meD2,xd.mH2,xd.mH3,xd.mH4,xd.mH5,xd.VL11,xd.VL21,\\\n",
    "               xd.UL11,xd.UL21,xd.LD11,xd.LD12,xd.LD13,xd.LD21,xd.LD22,xd.LD23,xd.LE11,xd.LE12,0.,xd.LE21,xd.LE22,0.)\n",
    "\n",
    "'''"
   ]
  },
  {
   "cell_type": "code",
   "execution_count": 18,
   "metadata": {},
   "outputs": [],
   "source": [
    "y=[]\n",
    "\n",
    "for i in range(0,xd.shape[0]):\n",
    "    \n",
    "    a = neutrino_analytic.Mab(xd.ZP22[i],xd.ZP23[i],xd.ZP24[i],xd.ZP25[i],xd.ZP32[i],xd.ZP33[i],xd.ZP34[i],xd.ZP35[i],xd.ZP42[i],xd.ZP43[i],\\\n",
    "                           xd.ZP44[i],xd.ZP45[i],xd.ZP52[i],xd.ZP53[i],xd.ZP54[i],xd.ZP55[i],xd.meD1[i],xd.meD2[i],\\\n",
    "    xd.mH2[i],xd.mH3[i],xd.mH4[i],xd.mH5[i],xd.VL11[i],xd.VL21[i],xd.UL11[i],xd.UL21[i],xd.LD11[i],xd.LD12[i],\\\n",
    "    xd.LD13[i],xd.LD21[i],xd.LD22[i],xd.LD23[i],xd.LE11[i],xd.LE12[i],0.,xd.LE21[i],xd.LE22[i],0.)\n",
    "    \n",
    "    mn1 = a[0]\n",
    "    mn2 = a[1]\n",
    "    mn3 = a[2]\n",
    "    \n",
    "    y.append([mn1,mn2,mn3])\n",
    "\n",
    "y=np.asarray(y)\n",
    "yd=pd.DataFrame(y,columns=['mn1','mn2','mn3'])"
   ]
  },
  {
   "cell_type": "code",
   "execution_count": 24,
   "metadata": {},
   "outputs": [
    {
     "data": {
      "text/html": [
       "<div>\n",
       "<table border=\"1\" class=\"dataframe\">\n",
       "  <thead>\n",
       "    <tr style=\"text-align: right;\">\n",
       "      <th></th>\n",
       "      <th>mn1</th>\n",
       "      <th>mn2</th>\n",
       "      <th>mn3</th>\n",
       "    </tr>\n",
       "  </thead>\n",
       "  <tbody>\n",
       "    <tr>\n",
       "      <th>0</th>\n",
       "      <td>5.530994e-16</td>\n",
       "      <td>1.971167e-10</td>\n",
       "      <td>6.005539e-08</td>\n",
       "    </tr>\n",
       "    <tr>\n",
       "      <th>1</th>\n",
       "      <td>4.499393e-16</td>\n",
       "      <td>1.803040e-10</td>\n",
       "      <td>5.561410e-08</td>\n",
       "    </tr>\n",
       "  </tbody>\n",
       "</table>\n",
       "</div>"
      ],
      "text/plain": [
       "            mn1           mn2           mn3\n",
       "0  5.530994e-16  1.971167e-10  6.005539e-08\n",
       "1  4.499393e-16  1.803040e-10  5.561410e-08"
      ]
     },
     "execution_count": 24,
     "metadata": {},
     "output_type": "execute_result"
    }
   ],
   "source": [
    "yd[:2]"
   ]
  },
  {
   "cell_type": "code",
   "execution_count": 28,
   "metadata": {},
   "outputs": [
    {
     "data": {
      "text/html": [
       "<div>\n",
       "<table border=\"1\" class=\"dataframe\">\n",
       "  <thead>\n",
       "    <tr style=\"text-align: right;\">\n",
       "      <th></th>\n",
       "      <th>mnu1</th>\n",
       "      <th>mnu2</th>\n",
       "      <th>mnu3</th>\n",
       "    </tr>\n",
       "  </thead>\n",
       "  <tbody>\n",
       "    <tr>\n",
       "      <th>0</th>\n",
       "      <td>8.265710e-27</td>\n",
       "      <td>1.971167e-10</td>\n",
       "      <td>6.005539e-08</td>\n",
       "    </tr>\n",
       "    <tr>\n",
       "      <th>1</th>\n",
       "      <td>3.855330e-27</td>\n",
       "      <td>1.803040e-10</td>\n",
       "      <td>5.561410e-08</td>\n",
       "    </tr>\n",
       "  </tbody>\n",
       "</table>\n",
       "</div>"
      ],
      "text/plain": [
       "           mnu1          mnu2          mnu3\n",
       "0  8.265710e-27  1.971167e-10  6.005539e-08\n",
       "1  3.855330e-27  1.803040e-10  5.561410e-08"
      ]
     },
     "execution_count": 28,
     "metadata": {},
     "output_type": "execute_result"
    }
   ],
   "source": [
    "xd[['mnu1','mnu2','mnu3']][:2]"
   ]
  },
  {
   "cell_type": "code",
   "execution_count": 26,
   "metadata": {},
   "outputs": [],
   "source": [
    "#For good plots\n",
    "plt.rcParams.update({'font.size': 20}) \n",
    "#plt.rc('font',size='18')"
   ]
  },
  {
   "cell_type": "code",
   "execution_count": 25,
   "metadata": {},
   "outputs": [
    {
     "data": {
      "image/png": "[encoded data removed]",
      "text/plain": [
       "<matplotlib.figure.Figure at 0x7fd7de931390>"
      ]
     },
     "metadata": {
      "needs_background": "light"
     },
     "output_type": "display_data"
    }
   ],
   "source": [
    "plt.figure(figsize=(8,6))\n",
    "\n",
    "#plt.loglog(xd.mv1,xd.mn1,'bo')\n",
    "plt.loglog(xd.mnu2,yd.mn2,'bo')\n",
    "plt.loglog(xd.mnu3,yd.mn3,'go')\n",
    "\n",
    "a = np.linspace(1e-10,1e-07,20)\n",
    "plt.plot(a,a,'r-')\n",
    "\n",
    "plt.xlabel(r'$m_i$SPHENO (GeV)',size=25)\n",
    "plt.ylabel(r'$m_i$Analytic (GeV)',size=25)\n",
    "plt.legend()\n",
    "\n",
    "plt.grid()\n",
    "\n",
    "plt.tight_layout()\n",
    "#plt.savefig('plots/neutrino_masses.pdf')"
   ]
  },
  {
   "cell_type": "code",
   "execution_count": null,
   "metadata": {},
   "outputs": [],
   "source": []
  },
  {
   "cell_type": "code",
   "execution_count": null,
   "metadata": {},
   "outputs": [],
   "source": []
  }
 ],
 "metadata": {
  "kernelspec": {
   "display_name": "Python 3",
   "language": "python",
   "name": "python3"
  },
  "language_info": {
   "codemirror_mode": {
    "name": "ipython",
    "version": 3
   },
   "file_extension": ".py",
   "mimetype": "text/x-python",
   "name": "python",
   "nbconvert_exporter": "python",
   "pygments_lexer": "ipython3",
   "version": "3.5.3"
  }
 },
 "nbformat": 4,
 "nbformat_minor": 1
}
