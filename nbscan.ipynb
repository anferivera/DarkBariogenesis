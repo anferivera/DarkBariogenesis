{
 "cells": [
  {
   "cell_type": "markdown",
   "metadata": {},
   "source": [
    "## Bariogenesis"
   ]
  },
  {
   "cell_type": "code",
   "execution_count": 1,
   "metadata": {
    "id": "iFzKkM6qeplJ"
   },
   "outputs": [],
   "source": [
    "import math\n",
    "import scipy.integrate\n",
    "import numpy as np\n",
    "import pandas as pd\n",
    "import time\n",
    "\n",
    "from matplotlib import pyplot as plt\n",
    "\n",
    "from mpmath import *\n",
    "mp.pretty= True\n",
    "mp.dps=20\n",
    "\n",
    "import random"
   ]
  },
  {
   "cell_type": "code",
   "execution_count": 2,
   "metadata": {
    "id": "m3Fh098FeplP"
   },
   "outputs": [],
   "source": [
    "### Definitions of general functions ###\n",
    "### We've set $\\kappa=1$ \n",
    "\n",
    "infinite = np.inf\n",
    "\n",
    "def my_heaviside(x1,x2):\n",
    "    \n",
    "    if x1 < 0:\n",
    "        x = 0.\n",
    "        \n",
    "    elif x1 == 0.:\n",
    "        x = x2        \n",
    "    \n",
    "    else:\n",
    "        x=1.\n",
    "    \n",
    "    return x\n",
    "\n",
    "def mycosh(x):\n",
    "    ### Our own definition of coh(x) to avoid evaluating np.cosh(x) at |x|>150 since this will have precission issues \n",
    "    ###\n",
    "        \n",
    "    if abs(x)< 150.0:\n",
    "        return np.cosh(x)\n",
    "    else:\n",
    "        return 1.e60\n",
    "\n",
    "def Scpv(xpm, vpzsq, pzovom, th, lam, so, Lw, mo, Tn, vw, z):\n",
    "    # This is the definition of the CP-violation source from Cline's work\n",
    "    \n",
    "    mchi1=abs(so*(1.0 + np.tanh(z/Lw))/2.0) #error 1/2\n",
    "    mchisq=((mo+lam*np.cos(th)*mchi1))**2.0 + (lam*np.sin(th)*mchi1)**2.0 #revisar\n",
    "    \n",
    "    #vz = p/np.sqrt(p**2.0 + mchisq)\n",
    "    scpv = -(2.0*vw*np.pi/(lam*Tn**3.0)*pzovom)*(mo*so*(-2.0+mycosh(2.0*z/Lw))*np.sin(th)/(Lw**3*mycosh(z/Lw)**4.0))\n",
    "    \n",
    "    # From Andres' code, I took the idea of renormalizing this function \n",
    "    if np.isnan(scpv):\n",
    "        Scpv_renormalizado = 1.e50\n",
    "    else:\n",
    "        Scpv_renormalizado = scpv\n",
    "        \n",
    "    return Scpv_renormalizado\n",
    "    \n",
    "def xiL(vw2,xpm, vpzsq, pzovom, th, lam, so, Lw, mo, Tn, vw, Mzp, z):\n",
    "    # \\xi_{L} \\def 3(n_{\\chi_L} - n_{\\chi^c_L})/T_c^3\n",
    "    \n",
    "    gfcn= lambda z: 1.0/(vw*np.sqrt(1.0+8.0*vpzsq/(3.0*vw2)))*(my_heaviside(z,1.0)*np.exp(-z*Tn*(3.0+np.sqrt(9.0+24.0*vpzsq/vw2))*vw*lam**2.0/(8.0*np.pi*vpzsq))\n",
    "            +my_heaviside(-z,0.0)*np.exp(-z*Tn*(3.0-np.sqrt(9.0+24.0*vpzsq/vw2))*vw*lam**2.0/(8.0*np.pi*vpzsq)))\n",
    "    inttemp = lambda zo: Scpv(xpm, vpzsq, pzovom, th, lam, so, Lw, mo, Tn, vw, zo)*gfcn(z-zo)\n",
    "    return scipy.integrate.quad(inttemp,-30.,30.,limit=40)[0]\n",
    "\n",
    "def DelnBeq(th, lam, so, Lw, mo, Tn, vw, Mzp, qS, gp, z):\n",
    "    ###  thermal equilibrium asymmetry\n",
    "    \n",
    "    vw2=vw**2\n",
    "    xpm=mo/Tn \n",
    "    vpzsq= (3.0*xpm+2.0)/(xpm**2.0+3.0*xpm+2.0)\n",
    "    pzovom=((1.0-xpm)*np.exp(-xpm)+xpm**2.0*scipy.special.erf(xpm))/(4.0*(xpm*Tn)**2.0*scipy.special.kn(2, xpm))\n",
    "    \n",
    "    inttemp = lambda z1: xiL(vw2, xpm, vpzsq,  pzovom, th, lam, so, Lw, mo, Tn, vw, Mzp, z1)*np.exp(-Mzp*abs(z-z1))\n",
    "    return gp*qS*Tn**2/3.0*gp/(Mzp)*(1.0/3.0*qS*Tn**3)*scipy.integrate.quad(inttemp,-30.,30.,limit=40)[0]\n",
    "\n"
   ]
  },
  {
   "cell_type": "markdown",
   "metadata": {},
   "source": [
    "parameters"
   ]
  },
  {
   "cell_type": "code",
   "execution_count": 3,
   "metadata": {
    "id": "NtcCNaJZM3E9"
   },
   "outputs": [],
   "source": [
    "'''\n",
    "### For now, we fix all parameters except gp and MZp\n",
    "\n",
    "tht=math.pi/3.0 \n",
    "lamt=0.3\n",
    "sot=100.0\n",
    "Lwt=5.0/100.0\n",
    "mot=100 #mchi[i]\n",
    "#pt=10.0 \n",
    "Tnt=100.0\n",
    "vsqt=0.7\n",
    "vwt=0.1\n",
    "qS=5.0 #charge of Phi\n",
    "'''"
   ]
  },
  {
   "cell_type": "markdown",
   "metadata": {
    "id": "_QjmuAf2M3E_"
   },
   "source": [
    "load file"
   ]
  },
  {
   "cell_type": "code",
   "execution_count": 3,
   "metadata": {},
   "outputs": [],
   "source": [
    "yd = pd.read_csv('good-points.csv')\n",
    "del[yd['Unnamed: 0']]"
   ]
  },
  {
   "cell_type": "code",
   "execution_count": 4,
   "metadata": {},
   "outputs": [],
   "source": [
    "yd = yd.reset_index()\n",
    "del[yd['index']]"
   ]
  },
  {
   "cell_type": "code",
   "execution_count": 5,
   "metadata": {},
   "outputs": [
    {
     "data": {
      "text/html": [
       "<div>\n",
       "<table border=\"1\" class=\"dataframe\">\n",
       "  <thead>\n",
       "    <tr style=\"text-align: right;\">\n",
       "      <th></th>\n",
       "      <th>MZp</th>\n",
       "      <th>g1p</th>\n",
       "    </tr>\n",
       "  </thead>\n",
       "  <tbody>\n",
       "    <tr>\n",
       "      <th>0</th>\n",
       "      <td>331.683687</td>\n",
       "      <td>0.106056</td>\n",
       "    </tr>\n",
       "    <tr>\n",
       "      <th>1</th>\n",
       "      <td>766.251487</td>\n",
       "      <td>0.142847</td>\n",
       "    </tr>\n",
       "    <tr>\n",
       "      <th>2</th>\n",
       "      <td>726.393759</td>\n",
       "      <td>0.139681</td>\n",
       "    </tr>\n",
       "  </tbody>\n",
       "</table>\n",
       "</div>"
      ],
      "text/plain": [
       "          MZp       g1p\n",
       "0  331.683687  0.106056\n",
       "1  766.251487  0.142847\n",
       "2  726.393759  0.139681"
      ]
     },
     "execution_count": 5,
     "metadata": {},
     "output_type": "execute_result"
    }
   ],
   "source": [
    "yd[['MZp','g1p']][:3]"
   ]
  },
  {
   "cell_type": "code",
   "execution_count": 6,
   "metadata": {},
   "outputs": [
    {
     "name": "stdout",
     "output_type": "stream",
     "text": [
      "331.683687 0.106055722082\n",
      "766.251487 0.142847270439\n",
      "726.393759 0.139680891753\n"
     ]
    }
   ],
   "source": [
    "for i in range(0,3):\n",
    "    Mzpt=yd['MZp'][i]\n",
    "    gpt=yd['g1p'][i]\n",
    "    \n",
    "    print(Mzpt,gpt)"
   ]
  },
  {
   "cell_type": "markdown",
   "metadata": {},
   "source": [
    "fixed parameters"
   ]
  },
  {
   "cell_type": "code",
   "execution_count": 7,
   "metadata": {},
   "outputs": [],
   "source": [
    "qS=5.0 #charge of Phi"
   ]
  },
  {
   "cell_type": "code",
   "execution_count": 11,
   "metadata": {},
   "outputs": [
    {
     "name": "stderr",
     "output_type": "stream",
     "text": [
      "/usr/lib/python3/dist-packages/scipy/integrate/quadpack.py:356: IntegrationWarning: The integral is probably divergent, or slowly convergent.\n",
      "  warnings.warn(msg, IntegrationWarning)\n"
     ]
    }
   ],
   "source": [
    "### Loop for scan of MZp and gp\n",
    "\n",
    "t1= time.time()\n",
    "\n",
    "yt=[]\n",
    "\n",
    "for i in range(0,1):\n",
    "\n",
    "    Mzpt=yd['MZp'][i]\n",
    "    gpt=yd['g1p'][i]\n",
    "    mot=yd['mchi'][i]\n",
    "    \n",
    "    for j in range(0,10):\n",
    "        ## random parameters\n",
    "        tht = np.random.uniform(-np.pi/2.,np.pi/2.)\n",
    "        lamt= np.exp(np.random.uniform(np.log(1.*10**(-2)),np.log(10**(0))))\n",
    "        sot= np.random.uniform(100.,500.)\n",
    "        Tnt= np.random.uniform(100.,500.)\n",
    "        Lwt= np.random.uniform(1./Tnt,10./Tnt)\n",
    "        vwt= np.random.uniform(0.05,0.5)\n",
    "\n",
    "        xt=[]\n",
    "        xt2=[]\n",
    "        for zt in np.arange(0,20.,.36): \n",
    "            ### This for loop creates an interpolation of \\Delta n_{B eq} vs z. To be used in the numerical integral that\n",
    "            ### follows\n",
    "\n",
    "            delnbt=DelnBeq(tht, lamt, sot, Lwt, mot, Tnt, vwt, Mzpt, qS, gpt,zt)\n",
    "            #print(zt, ' ',delnbt)\n",
    "            xt.append(delnbt)\n",
    "            xt2.append(zt)\n",
    "\n",
    "        dnbfcn = lambda z: np.interp(z,xt2,xt)\n",
    "        inttemp = lambda z: dnbfcn(z)*np.exp(-z*120.0*(gpt**2.0/(4.0*math.pi))**5.0*Tnt/vwt)\n",
    "        delnbt= scipy.integrate.quad(inttemp,0.0,20.0,limit=40)[0]*120.0*(gpt**2.0/(4.0*math.pi))**5.0*Tnt/vwt\n",
    "\n",
    "        #entdens=(2.0*math.pi**2.0)*100.0*(125.0)**3.0/45.0 ### This is s ~ Tc^3 Tc =125.0\n",
    "        #print('MZ\\'=',Mzpt, ' gp=',gpt,delnbt/entdens)\n",
    "        yt.append([Mzpt,gpt,delnbt,mot,tht,lamt,sot,Tnt,Lwt,vwt])\n",
    "\n",
    "yt=np.asarray(yt)\n",
    "\n",
    "ydt=pd.DataFrame(yt,columns=['MZp','gp','Deltan_B','mot','tht','lamt','sot','Tnt','Lwt','vwt'])\n",
    "\n",
    "ydt.to_csv('Mzvsgp3.csv')\n",
    "\n",
    "t2= time.time()"
   ]
  },
  {
   "cell_type": "code",
   "execution_count": 12,
   "metadata": {},
   "outputs": [
    {
     "name": "stdout",
     "output_type": "stream",
     "text": [
      "66.26538395881653\n"
     ]
    }
   ],
   "source": [
    "print(t2-t1)"
   ]
  },
  {
   "cell_type": "code",
   "execution_count": 13,
   "metadata": {},
   "outputs": [
    {
     "data": {
      "text/html": [
       "<div>\n",
       "<table border=\"1\" class=\"dataframe\">\n",
       "  <thead>\n",
       "    <tr style=\"text-align: right;\">\n",
       "      <th></th>\n",
       "      <th>MZp</th>\n",
       "      <th>gp</th>\n",
       "      <th>Deltan_B</th>\n",
       "      <th>mot</th>\n",
       "      <th>tht</th>\n",
       "      <th>lamt</th>\n",
       "      <th>sot</th>\n",
       "      <th>Tnt</th>\n",
       "      <th>Lwt</th>\n",
       "      <th>vwt</th>\n",
       "    </tr>\n",
       "  </thead>\n",
       "  <tbody>\n",
       "    <tr>\n",
       "      <th>0</th>\n",
       "      <td>331.683687</td>\n",
       "      <td>0.106056</td>\n",
       "      <td>2.985798e-14</td>\n",
       "      <td>409.149868</td>\n",
       "      <td>-0.269305</td>\n",
       "      <td>0.316942</td>\n",
       "      <td>320.824443</td>\n",
       "      <td>149.476168</td>\n",
       "      <td>0.053449</td>\n",
       "      <td>0.061176</td>\n",
       "    </tr>\n",
       "    <tr>\n",
       "      <th>1</th>\n",
       "      <td>331.683687</td>\n",
       "      <td>0.106056</td>\n",
       "      <td>-4.190716e-14</td>\n",
       "      <td>409.149868</td>\n",
       "      <td>1.075149</td>\n",
       "      <td>0.272951</td>\n",
       "      <td>130.201734</td>\n",
       "      <td>149.671196</td>\n",
       "      <td>0.017920</td>\n",
       "      <td>0.151726</td>\n",
       "    </tr>\n",
       "    <tr>\n",
       "      <th>2</th>\n",
       "      <td>331.683687</td>\n",
       "      <td>0.106056</td>\n",
       "      <td>1.675218e-15</td>\n",
       "      <td>409.149868</td>\n",
       "      <td>-1.026507</td>\n",
       "      <td>0.014549</td>\n",
       "      <td>493.746924</td>\n",
       "      <td>359.067218</td>\n",
       "      <td>0.025517</td>\n",
       "      <td>0.343335</td>\n",
       "    </tr>\n",
       "  </tbody>\n",
       "</table>\n",
       "</div>"
      ],
      "text/plain": [
       "          MZp        gp      Deltan_B         mot       tht      lamt  \\\n",
       "0  331.683687  0.106056  2.985798e-14  409.149868 -0.269305  0.316942   \n",
       "1  331.683687  0.106056 -4.190716e-14  409.149868  1.075149  0.272951   \n",
       "2  331.683687  0.106056  1.675218e-15  409.149868 -1.026507  0.014549   \n",
       "\n",
       "          sot         Tnt       Lwt       vwt  \n",
       "0  320.824443  149.476168  0.053449  0.061176  \n",
       "1  130.201734  149.671196  0.017920  0.151726  \n",
       "2  493.746924  359.067218  0.025517  0.343335  "
      ]
     },
     "execution_count": 13,
     "metadata": {},
     "output_type": "execute_result"
    }
   ],
   "source": [
    "ydt"
   ]
  },
  {
   "cell_type": "code",
   "execution_count": 10,
   "metadata": {},
   "outputs": [
    {
     "data": {
      "text/html": [
       "<div>\n",
       "<table border=\"1\" class=\"dataframe\">\n",
       "  <thead>\n",
       "    <tr style=\"text-align: right;\">\n",
       "      <th></th>\n",
       "      <th>MZp</th>\n",
       "      <th>gp</th>\n",
       "      <th>Deltan_B</th>\n",
       "    </tr>\n",
       "  </thead>\n",
       "  <tbody>\n",
       "    <tr>\n",
       "      <th>0</th>\n",
       "      <td>331.683687</td>\n",
       "      <td>0.106056</td>\n",
       "      <td>5.369271e-23</td>\n",
       "    </tr>\n",
       "  </tbody>\n",
       "</table>\n",
       "</div>"
      ],
      "text/plain": [
       "          MZp        gp      Deltan_B\n",
       "0  331.683687  0.106056  5.369271e-23"
      ]
     },
     "execution_count": 10,
     "metadata": {},
     "output_type": "execute_result"
    }
   ],
   "source": [
    "ydt"
   ]
  },
  {
   "cell_type": "code",
   "execution_count": 10,
   "metadata": {},
   "outputs": [
    {
     "data": {
      "text/html": [
       "<div>\n",
       "<table border=\"1\" class=\"dataframe\">\n",
       "  <thead>\n",
       "    <tr style=\"text-align: right;\">\n",
       "      <th></th>\n",
       "      <th>MZp</th>\n",
       "      <th>gp</th>\n",
       "      <th>Deltan_B</th>\n",
       "    </tr>\n",
       "  </thead>\n",
       "  <tbody>\n",
       "    <tr>\n",
       "      <th>0</th>\n",
       "      <td>331.683687</td>\n",
       "      <td>0.106056</td>\n",
       "      <td>7.811186e-14</td>\n",
       "    </tr>\n",
       "  </tbody>\n",
       "</table>\n",
       "</div>"
      ],
      "text/plain": [
       "          MZp        gp      Deltan_B\n",
       "0  331.683687  0.106056  7.811186e-14"
      ]
     },
     "execution_count": 10,
     "metadata": {},
     "output_type": "execute_result"
    }
   ],
   "source": [
    "ydt"
   ]
  },
  {
   "cell_type": "code",
   "execution_count": 61,
   "metadata": {},
   "outputs": [
    {
     "data": {
      "text/html": [
       "<div>\n",
       "<table border=\"1\" class=\"dataframe\">\n",
       "  <thead>\n",
       "    <tr style=\"text-align: right;\">\n",
       "      <th></th>\n",
       "      <th>MZp</th>\n",
       "      <th>gp</th>\n",
       "      <th>Deltan_B</th>\n",
       "    </tr>\n",
       "  </thead>\n",
       "  <tbody>\n",
       "    <tr>\n",
       "      <th>0</th>\n",
       "      <td>331.683687</td>\n",
       "      <td>0.106056</td>\n",
       "      <td>5.734053e-14</td>\n",
       "    </tr>\n",
       "  </tbody>\n",
       "</table>\n",
       "</div>"
      ],
      "text/plain": [
       "          MZp        gp      Deltan_B\n",
       "0  331.683687  0.106056  5.734053e-14"
      ]
     },
     "execution_count": 61,
     "metadata": {},
     "output_type": "execute_result"
    }
   ],
   "source": [
    "ydt"
   ]
  },
  {
   "cell_type": "code",
   "execution_count": 57,
   "metadata": {},
   "outputs": [
    {
     "data": {
      "text/html": [
       "<div>\n",
       "<table border=\"1\" class=\"dataframe\">\n",
       "  <thead>\n",
       "    <tr style=\"text-align: right;\">\n",
       "      <th></th>\n",
       "      <th>MZp</th>\n",
       "      <th>gp</th>\n",
       "      <th>Deltan_B</th>\n",
       "    </tr>\n",
       "  </thead>\n",
       "  <tbody>\n",
       "    <tr>\n",
       "      <th>0</th>\n",
       "      <td>331.683687</td>\n",
       "      <td>0.106056</td>\n",
       "      <td>-7.870809e-14</td>\n",
       "    </tr>\n",
       "  </tbody>\n",
       "</table>\n",
       "</div>"
      ],
      "text/plain": [
       "          MZp        gp      Deltan_B\n",
       "0  331.683687  0.106056 -7.870809e-14"
      ]
     },
     "execution_count": 57,
     "metadata": {},
     "output_type": "execute_result"
    }
   ],
   "source": [
    "ydt"
   ]
  },
  {
   "cell_type": "code",
   "execution_count": 47,
   "metadata": {},
   "outputs": [
    {
     "data": {
      "text/html": [
       "<div>\n",
       "<table border=\"1\" class=\"dataframe\">\n",
       "  <thead>\n",
       "    <tr style=\"text-align: right;\">\n",
       "      <th></th>\n",
       "      <th>MZp</th>\n",
       "      <th>gp</th>\n",
       "      <th>Deltan_B</th>\n",
       "    </tr>\n",
       "  </thead>\n",
       "  <tbody>\n",
       "    <tr>\n",
       "      <th>0</th>\n",
       "      <td>21.115896</td>\n",
       "      <td>0.000579</td>\n",
       "      <td>4.377222e-37</td>\n",
       "    </tr>\n",
       "    <tr>\n",
       "      <th>1</th>\n",
       "      <td>4.033246</td>\n",
       "      <td>0.000194</td>\n",
       "      <td>1.133835e-42</td>\n",
       "    </tr>\n",
       "    <tr>\n",
       "      <th>2</th>\n",
       "      <td>1650.346290</td>\n",
       "      <td>0.067420</td>\n",
       "      <td>-1.598465e-36</td>\n",
       "    </tr>\n",
       "    <tr>\n",
       "      <th>3</th>\n",
       "      <td>159.098225</td>\n",
       "      <td>0.045725</td>\n",
       "      <td>-1.058748e-17</td>\n",
       "    </tr>\n",
       "    <tr>\n",
       "      <th>4</th>\n",
       "      <td>2327.030710</td>\n",
       "      <td>0.041038</td>\n",
       "      <td>1.442633e-82</td>\n",
       "    </tr>\n",
       "  </tbody>\n",
       "</table>\n",
       "</div>"
      ],
      "text/plain": [
       "           MZp        gp      Deltan_B\n",
       "0    21.115896  0.000579  4.377222e-37\n",
       "1     4.033246  0.000194  1.133835e-42\n",
       "2  1650.346290  0.067420 -1.598465e-36\n",
       "3   159.098225  0.045725 -1.058748e-17\n",
       "4  2327.030710  0.041038  1.442633e-82"
      ]
     },
     "execution_count": 47,
     "metadata": {},
     "output_type": "execute_result"
    }
   ],
   "source": [
    "ydt"
   ]
  },
  {
   "cell_type": "code",
   "execution_count": 13,
   "metadata": {},
   "outputs": [
    {
     "data": {
      "text/html": [
       "<div>\n",
       "<table border=\"1\" class=\"dataframe\">\n",
       "  <thead>\n",
       "    <tr style=\"text-align: right;\">\n",
       "      <th></th>\n",
       "      <th>MZp</th>\n",
       "      <th>gp</th>\n",
       "      <th>Deltan_B</th>\n",
       "    </tr>\n",
       "  </thead>\n",
       "  <tbody>\n",
       "    <tr>\n",
       "      <th>0</th>\n",
       "      <td>10.0</td>\n",
       "      <td>0.01</td>\n",
       "      <td>4.213581e-22</td>\n",
       "    </tr>\n",
       "  </tbody>\n",
       "</table>\n",
       "</div>"
      ],
      "text/plain": [
       "    MZp    gp      Deltan_B\n",
       "0  10.0  0.01  4.213581e-22"
      ]
     },
     "execution_count": 13,
     "metadata": {},
     "output_type": "execute_result"
    }
   ],
   "source": [
    "ydt"
   ]
  },
  {
   "cell_type": "code",
   "execution_count": null,
   "metadata": {},
   "outputs": [],
   "source": []
  }
 ],
 "metadata": {
  "colab": {
   "collapsed_sections": [],
   "name": "nbscan_211119_google.ipynb",
   "provenance": []
  },
  "kernelspec": {
   "display_name": "Python 3",
   "language": "python",
   "name": "python3"
  },
  "language_info": {
   "codemirror_mode": {
    "name": "ipython",
    "version": 3
   },
   "file_extension": ".py",
   "mimetype": "text/x-python",
   "name": "python",
   "nbconvert_exporter": "python",
   "pygments_lexer": "ipython3",
   "version": "3.5.3"
  }
 },
 "nbformat": 4,
 "nbformat_minor": 1
}
