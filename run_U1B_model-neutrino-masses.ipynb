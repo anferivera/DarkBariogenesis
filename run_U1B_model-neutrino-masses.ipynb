{
 "cells": [
  {
   "cell_type": "markdown",
   "metadata": {},
   "source": [
    "# U1B model: neutrino masses"
   ]
  },
  {
   "cell_type": "markdown",
   "metadata": {},
   "source": [
    "The idea is to check the neutrino mases to one loop.\n",
    "Leshouches dictionary, SPHENO_4.0.3, micromegas_5.0.4"
   ]
  },
  {
   "cell_type": "code",
   "execution_count": 1,
   "metadata": {},
   "outputs": [],
   "source": [
    "import numpy as np\n",
    "import pandas as pd\n",
    "import subprocess\n",
    "import time\n",
    "import sys\n",
    "\n",
    "%matplotlib inline\n",
    "import matplotlib.pyplot as plt "
   ]
  },
  {
   "cell_type": "code",
   "execution_count": 2,
   "metadata": {},
   "outputs": [],
   "source": [
    "import pyslha\n",
    "import pyU1B_LesHouches_generator"
   ]
  },
  {
   "cell_type": "code",
   "execution_count": 3,
   "metadata": {},
   "outputs": [
    {
     "data": {
      "image/png": "[encoded data removed]",
      "text/plain": [
       "<IPython.core.display.Image object>"
      ]
     },
     "execution_count": 3,
     "metadata": {},
     "output_type": "execute_result"
    }
   ],
   "source": [
    "from IPython.display import Image\n",
    "Image(\"zee-couplings.png\")"
   ]
  },
  {
   "cell_type": "markdown",
   "metadata": {},
   "source": [
    "run diccionary"
   ]
  },
  {
   "cell_type": "code",
   "execution_count": 23,
   "metadata": {},
   "outputs": [
    {
     "name": "stdout",
     "output_type": "stream",
     "text": [
      "The program spent 6.471287488937378 s running 5 times\n"
     ]
    }
   ],
   "source": [
    "# Tiempo inicial\n",
    "t1=time.time() \n",
    "\n",
    "x=[]\n",
    "\n",
    "Num = 5\n",
    "\n",
    "for i in range (0,Num):\n",
    "    \n",
    "    xdict = pyU1B_LesHouches_generator.buildSLHAinFile()\n",
    "\n",
    "    L2 = -7.23E-2\n",
    "    YA1 = 0.6\n",
    "    YC1 = 1.0 #control the Fvv mass\n",
    "    vx = np.random.uniform(1500,3000)\n",
    "    YRG = 5.1E-1\n",
    "    \n",
    "    Fi11 = 0.112\n",
    "    Fi12 = 0.1\n",
    "    Fi21 = 0.2\n",
    "    Fi22 = 0.3\n",
    "    \n",
    "    LD11 = 1.1E-1\n",
    "    LD12 = 1.2E-1\n",
    "    LD13 = 1.2E-2\n",
    "    LD21 = 1.1E-2\n",
    "    LD22 = 1.3E-2\n",
    "    LD23 = 1.21E-2\n",
    "    \n",
    "    LE11 = 1.11E-1\n",
    "    LE12 = 1.12E-1\n",
    "    LE21 = 1.13E-1\n",
    "    LE22 = 1.14E-2\n",
    "    \n",
    "    #Modify one parameter\n",
    "    xdict.blocks['MINPAR'].entries[2]='%.6E    # Lambda2INPUT'%L2\n",
    "    xdict.blocks['MINPAR'].entries[7]='%.6E    # YA1INPUT'%YA1\n",
    "    xdict.blocks['MINPAR'].entries[11]='%.6E    # YC1INPUT'%YC1\n",
    "    xdict.blocks['MINPAR'].entries[13]='%.6E    # YRGINPUT'%YRG\n",
    "    xdict.blocks['MINPAR'].entries[15]='%.6E    # vXInput'%vx\n",
    "    \n",
    "    xdict.blocks['FIIN'].entries[1,1]='%.6E    # Fi(1,1)'%Fi11\n",
    "    xdict.blocks['FIIN'].entries[1,2]='%.6E    # Fi(1,2)'%Fi12\n",
    "    xdict.blocks['FIIN'].entries[2,1]='%.6E    # Fi(2,1)'%Fi21\n",
    "    xdict.blocks['FIIN'].entries[2,2]='%.6E    # Fi(2,2)'%Fi22\n",
    "    \n",
    "    xdict.blocks['LDIN'].entries[1,1]='%.6E    # LD(1,1)'%LD11\n",
    "    xdict.blocks['LDIN'].entries[1,2]='%.6E    # LD(1,2)'%LD12\n",
    "    xdict.blocks['LDIN'].entries[1,3]='%.6E    # LD(1,3)'%LD13\n",
    "    xdict.blocks['LDIN'].entries[2,1]='%.6E    # LD(2,1)'%LD21\n",
    "    xdict.blocks['LDIN'].entries[2,2]='%.6E    # LD(2,2)'%LD22\n",
    "    xdict.blocks['LDIN'].entries[2,3]='%.6E    # LD(2,3)'%LD23\n",
    "    \n",
    "    xdict.blocks['LEIN'].entries[1,1]='%.6E    # LE(1,1)'%LE11\n",
    "    xdict.blocks['LEIN'].entries[1,2]='%.6E    # LE(1,2)'%LE12\n",
    "    xdict.blocks['LEIN'].entries[2,1]='%.6E    # LE(2,1)'%LE21\n",
    "    xdict.blocks['LEIN'].entries[2,2]='%.6E    # LE(2,2)'%LE22\n",
    "                \n",
    "    pyslha.writeSLHAFile('LesHouches.in.U1B_low',xdict) \n",
    "\n",
    "    #run SPheno\n",
    "    spheno = subprocess.getoutput('~/Work/SPheno-4.0.3/bin/SPhenoU1B LesHouches.in.U1B_low')    \n",
    "    so = subprocess.getoutput('cat SPheno.spc.U1B')\n",
    "    \n",
    "    #capturo algo de spheno\n",
    "    MZp = eval(so.split('# VWm')[1].split()[1])\n",
    "    mnu1 = np.abs(eval(so.split('# Fe_3')[1].split()[1]))\n",
    "    mnu2 = np.abs(eval(so.split('# Fe_3')[1].split()[5]))\n",
    "    mnu3 = np.abs(eval(so.split('# Fe_3')[1].split()[13]))\n",
    "    \n",
    "    ZP22 = eval(so.split('# ZP(2,1)')[1].split()[2])\n",
    "    ZP23 = eval(so.split('# ZP(2,1)')[1].split()[7])\n",
    "    ZP24 = eval(so.split('# ZP(2,1)')[1].split()[12])\n",
    "    ZP25 = eval(so.split('# ZP(2,1)')[1].split()[17])\n",
    "\n",
    "    ZP32 = eval(so.split('# ZP(2,1)')[1].split()[27])\n",
    "    ZP33 = eval(so.split('# ZP(2,1)')[1].split()[32])\n",
    "    ZP34 = eval(so.split('# ZP(2,1)')[1].split()[37])\n",
    "    ZP35 = eval(so.split('# ZP(2,1)')[1].split()[42])\n",
    "\n",
    "    ZP42 = eval(so.split('# ZP(2,1)')[1].split()[52])\n",
    "    ZP43 = eval(so.split('# ZP(2,1)')[1].split()[57])\n",
    "    ZP44 = eval(so.split('# ZP(2,1)')[1].split()[62])\n",
    "    ZP45 = eval(so.split('# ZP(2,1)')[1].split()[67])\n",
    "\n",
    "    ZP52 = eval(so.split('# ZP(2,1)')[1].split()[77])\n",
    "    ZP53 = eval(so.split('# ZP(2,1)')[1].split()[82])\n",
    "    ZP54 = eval(so.split('# ZP(2,1)')[1].split()[87])\n",
    "    ZP55 = eval(so.split('# ZP(2,1)')[1].split()[92])\n",
    "    \n",
    "    mH2=eval(so.split('Block MASS')[1].split()[17])\n",
    "    mH3=eval(so.split('Block MASS')[1].split()[21])\n",
    "    mH4=eval(so.split('Block MASS')[1].split()[25])\n",
    "    mH5=eval(so.split('Block MASS')[1].split()[29])\n",
    "    meD1=eval(so.split('# Fvv')[1].split()[1])\n",
    "    meD2=eval(so.split('# Fvv')[1].split()[5])\n",
    "    \n",
    "    VL11=eval(so.split('Block UELDMIX')[1].split()[6])\n",
    "    VL12=eval(so.split('Block UELDMIX')[1].split()[11])\n",
    "    VL21=eval(so.split('Block UELDMIX')[1].split()[16])\n",
    "    VL22=eval(so.split('Block UELDMIX')[1].split()[21])\n",
    "\n",
    "    UL11=eval(so.split('Block UERDMIX')[1].split()[6])\n",
    "    UL12=eval(so.split('Block UERDMIX')[1].split()[11])\n",
    "    UL21=eval(so.split('Block UERDMIX')[1].split()[16])\n",
    "    UL22=eval(so.split('Block UERDMIX')[1].split()[21])\n",
    "     \n",
    "    x.append([L2,YA1,YC1,vx,YRG,Fi11,Fi12,Fi21,Fi22,LD11,LD12,LD13,LD21,LD22,LD23,LE11,LE12,LE21,LE22,MZp,\\\n",
    "              mnu1,mnu2,mnu3,ZP22,ZP23,ZP24,ZP25,ZP32,ZP33,ZP34,ZP35,ZP42,ZP43,ZP44,ZP45,ZP52,ZP53,ZP54,ZP55,\\\n",
    "             mH2,mH3,mH4,mH5,meD1,meD2,VL11,VL12,VL21,VL22,UL11,UL12,UL21,UL22])\n",
    "\n",
    "x=np.asarray(x)\n",
    "xd=pd.DataFrame(x,columns=['L2','YA1','YC1','vx','YRG','Fi11','Fi12','Fi21','Fi22','LD11','LD12','LD13',\\\n",
    "                           'LD21','LD22','LD23','LE11','LE12','LE21','LE22','MZp','mnu1','mnu2','mnu3',\\\n",
    "                           'ZP22','ZP23','ZP24','ZP25','ZP32','ZP33','ZP34','ZP35','ZP42','ZP43','ZP44',\\\n",
    "                           'ZP45','ZP52','ZP53','ZP54','ZP55','mH2','mH3','mH4','mH5','meD1','meD2',\\\n",
    "                           'VL11','VL12','VL21','VL22','UL11','UL12','UL21','UL22'])  \n",
    "\n",
    "t2=time.time() \n",
    "print (\"The program spent\", t2-t1, \"s running\",Num,\"times\")   "
   ]
  },
  {
   "cell_type": "code",
   "execution_count": 24,
   "metadata": {},
   "outputs": [
    {
     "data": {
      "text/html": [
       "<div>\n",
       "<table border=\"1\" class=\"dataframe\">\n",
       "  <thead>\n",
       "    <tr style=\"text-align: right;\">\n",
       "      <th></th>\n",
       "      <th>L2</th>\n",
       "      <th>YA1</th>\n",
       "      <th>YC1</th>\n",
       "      <th>vx</th>\n",
       "      <th>YRG</th>\n",
       "      <th>Fi11</th>\n",
       "      <th>Fi12</th>\n",
       "      <th>Fi21</th>\n",
       "      <th>Fi22</th>\n",
       "      <th>LD11</th>\n",
       "      <th>...</th>\n",
       "      <th>meD1</th>\n",
       "      <th>meD2</th>\n",
       "      <th>VL11</th>\n",
       "      <th>VL12</th>\n",
       "      <th>VL21</th>\n",
       "      <th>VL22</th>\n",
       "      <th>UL11</th>\n",
       "      <th>UL12</th>\n",
       "      <th>UL21</th>\n",
       "      <th>UL22</th>\n",
       "    </tr>\n",
       "  </thead>\n",
       "  <tbody>\n",
       "    <tr>\n",
       "      <th>0</th>\n",
       "      <td>-0.0723</td>\n",
       "      <td>0.6</td>\n",
       "      <td>1.0</td>\n",
       "      <td>2426.142022</td>\n",
       "      <td>0.51</td>\n",
       "      <td>0.112</td>\n",
       "      <td>0.1</td>\n",
       "      <td>0.2</td>\n",
       "      <td>0.3</td>\n",
       "      <td>0.11</td>\n",
       "      <td>...</td>\n",
       "      <td>342.524326</td>\n",
       "      <td>1717.93057</td>\n",
       "      <td>-0.011950</td>\n",
       "      <td>0.999929</td>\n",
       "      <td>0.999929</td>\n",
       "      <td>0.011950</td>\n",
       "      <td>0.998552</td>\n",
       "      <td>-0.053787</td>\n",
       "      <td>0.053787</td>\n",
       "      <td>0.998552</td>\n",
       "    </tr>\n",
       "    <tr>\n",
       "      <th>1</th>\n",
       "      <td>-0.0723</td>\n",
       "      <td>0.6</td>\n",
       "      <td>1.0</td>\n",
       "      <td>1502.657445</td>\n",
       "      <td>0.51</td>\n",
       "      <td>0.112</td>\n",
       "      <td>0.1</td>\n",
       "      <td>0.2</td>\n",
       "      <td>0.3</td>\n",
       "      <td>0.11</td>\n",
       "      <td>...</td>\n",
       "      <td>211.568068</td>\n",
       "      <td>1066.39116</td>\n",
       "      <td>-0.019203</td>\n",
       "      <td>0.999816</td>\n",
       "      <td>0.999816</td>\n",
       "      <td>0.019203</td>\n",
       "      <td>0.996241</td>\n",
       "      <td>-0.086621</td>\n",
       "      <td>0.086621</td>\n",
       "      <td>0.996241</td>\n",
       "    </tr>\n",
       "    <tr>\n",
       "      <th>2</th>\n",
       "      <td>-0.0723</td>\n",
       "      <td>0.6</td>\n",
       "      <td>1.0</td>\n",
       "      <td>1840.484819</td>\n",
       "      <td>0.51</td>\n",
       "      <td>0.112</td>\n",
       "      <td>0.1</td>\n",
       "      <td>0.2</td>\n",
       "      <td>0.3</td>\n",
       "      <td>0.11</td>\n",
       "      <td>...</td>\n",
       "      <td>259.515272</td>\n",
       "      <td>1304.56683</td>\n",
       "      <td>-0.015718</td>\n",
       "      <td>0.999876</td>\n",
       "      <td>0.999876</td>\n",
       "      <td>0.015718</td>\n",
       "      <td>0.997489</td>\n",
       "      <td>-0.070819</td>\n",
       "      <td>0.070819</td>\n",
       "      <td>0.997489</td>\n",
       "    </tr>\n",
       "    <tr>\n",
       "      <th>3</th>\n",
       "      <td>-0.0723</td>\n",
       "      <td>0.6</td>\n",
       "      <td>1.0</td>\n",
       "      <td>2391.003445</td>\n",
       "      <td>0.51</td>\n",
       "      <td>0.112</td>\n",
       "      <td>0.1</td>\n",
       "      <td>0.2</td>\n",
       "      <td>0.3</td>\n",
       "      <td>0.11</td>\n",
       "      <td>...</td>\n",
       "      <td>337.546375</td>\n",
       "      <td>1693.11860</td>\n",
       "      <td>-0.012125</td>\n",
       "      <td>0.999926</td>\n",
       "      <td>0.999926</td>\n",
       "      <td>0.012125</td>\n",
       "      <td>0.998510</td>\n",
       "      <td>-0.054574</td>\n",
       "      <td>0.054574</td>\n",
       "      <td>0.998510</td>\n",
       "    </tr>\n",
       "    <tr>\n",
       "      <th>4</th>\n",
       "      <td>-0.0723</td>\n",
       "      <td>0.6</td>\n",
       "      <td>1.0</td>\n",
       "      <td>2276.655575</td>\n",
       "      <td>0.51</td>\n",
       "      <td>0.112</td>\n",
       "      <td>0.1</td>\n",
       "      <td>0.2</td>\n",
       "      <td>0.3</td>\n",
       "      <td>0.11</td>\n",
       "      <td>...</td>\n",
       "      <td>321.345645</td>\n",
       "      <td>1612.38459</td>\n",
       "      <td>-0.012730</td>\n",
       "      <td>0.999919</td>\n",
       "      <td>0.999919</td>\n",
       "      <td>0.012730</td>\n",
       "      <td>0.998357</td>\n",
       "      <td>-0.057306</td>\n",
       "      <td>0.057306</td>\n",
       "      <td>0.998357</td>\n",
       "    </tr>\n",
       "  </tbody>\n",
       "</table>\n",
       "<p>5 rows × 53 columns</p>\n",
       "</div>"
      ],
      "text/plain": [
       "       L2  YA1  YC1           vx   YRG   Fi11  Fi12  Fi21  Fi22  LD11  \\\n",
       "0 -0.0723  0.6  1.0  2426.142022  0.51  0.112   0.1   0.2   0.3  0.11   \n",
       "1 -0.0723  0.6  1.0  1502.657445  0.51  0.112   0.1   0.2   0.3  0.11   \n",
       "2 -0.0723  0.6  1.0  1840.484819  0.51  0.112   0.1   0.2   0.3  0.11   \n",
       "3 -0.0723  0.6  1.0  2391.003445  0.51  0.112   0.1   0.2   0.3  0.11   \n",
       "4 -0.0723  0.6  1.0  2276.655575  0.51  0.112   0.1   0.2   0.3  0.11   \n",
       "\n",
       "     ...           meD1        meD2      VL11      VL12      VL21      VL22  \\\n",
       "0    ...     342.524326  1717.93057 -0.011950  0.999929  0.999929  0.011950   \n",
       "1    ...     211.568068  1066.39116 -0.019203  0.999816  0.999816  0.019203   \n",
       "2    ...     259.515272  1304.56683 -0.015718  0.999876  0.999876  0.015718   \n",
       "3    ...     337.546375  1693.11860 -0.012125  0.999926  0.999926  0.012125   \n",
       "4    ...     321.345645  1612.38459 -0.012730  0.999919  0.999919  0.012730   \n",
       "\n",
       "       UL11      UL12      UL21      UL22  \n",
       "0  0.998552 -0.053787  0.053787  0.998552  \n",
       "1  0.996241 -0.086621  0.086621  0.996241  \n",
       "2  0.997489 -0.070819  0.070819  0.997489  \n",
       "3  0.998510 -0.054574  0.054574  0.998510  \n",
       "4  0.998357 -0.057306  0.057306  0.998357  \n",
       "\n",
       "[5 rows x 53 columns]"
      ]
     },
     "execution_count": 24,
     "metadata": {},
     "output_type": "execute_result"
    }
   ],
   "source": [
    "xd"
   ]
  },
  {
   "cell_type": "markdown",
   "metadata": {},
   "source": [
    "Neutrino funtions"
   ]
  },
  {
   "cell_type": "code",
   "execution_count": 25,
   "metadata": {},
   "outputs": [],
   "source": [
    "#Loop factor\n",
    "def LF(me,mH,Vl1,Ul1):\n",
    "    \n",
    "    mk = 1./(16.*np.pi**2)*Vl1*Ul1*me*(me**2*np.log(me**2)-mH**2*np.log(mH**2))/(me**2-mH**2)\n",
    "    \n",
    "    return mk   "
   ]
  },
  {
   "cell_type": "code",
   "execution_count": 26,
   "metadata": {},
   "outputs": [],
   "source": [
    "#sum over L\n",
    "def SUML(me1,me2,mHj,V11,V21,U11,U21):\n",
    "    \n",
    "    kk = LF(me1,mHj,V11,U11) + LF(me2,mHj,V21,U21)\n",
    "    \n",
    "    return kk"
   ]
  },
  {
   "cell_type": "code",
   "execution_count": 27,
   "metadata": {},
   "outputs": [
    {
     "data": {
      "text/plain": [
       "0.047640438298904977"
      ]
     },
     "execution_count": 27,
     "metadata": {},
     "output_type": "execute_result"
    }
   ],
   "source": [
    "SUML(2,3,4,1,0.5,1,0.2)"
   ]
  },
  {
   "cell_type": "code",
   "execution_count": 28,
   "metadata": {},
   "outputs": [],
   "source": [
    "#Lambda j term\n",
    "def Lj(Zja,Zjb,me1,me2,mHj,V11,V21,U11,U21):\n",
    "    \n",
    "    kj = Zja*Zjb*SUML(me1,me2,mHj,V11,V21,U11,U21)\n",
    "    \n",
    "    return kj"
   ]
  },
  {
   "cell_type": "code",
   "execution_count": 29,
   "metadata": {},
   "outputs": [
    {
     "data": {
      "text/plain": [
       "0.36362510170408341"
      ]
     },
     "execution_count": 29,
     "metadata": {},
     "output_type": "execute_result"
    }
   ],
   "source": [
    "Lj(0.2,0.3,100,200,300,0.2,0.3,1,1)"
   ]
  },
  {
   "cell_type": "code",
   "execution_count": 30,
   "metadata": {},
   "outputs": [],
   "source": [
    "#sum over j={2,5} and depend from a and b\n",
    "def Lab(Z2a,Z3a,Z4a,Z5a,Z2b,Z3b,Z4b,Z5b,me1,me2,mH2,mH3,mH4,mH5,V11,V21,U11,U21):\n",
    "    \n",
    "    sj = Lj(Z2a,Z2b,me1,me2,mH2,V11,V21,U11,U21)+Lj(Z3a,Z3b,me1,me2,mH3,V11,V21,U11,U21)+\\\n",
    "         Lj(Z4a,Z4b,me1,me2,mH4,V11,V21,U11,U21)+Lj(Z5a,Z5b,me1,me2,mH5,V11,V21,U11,U21)\n",
    "    \n",
    "    return sj"
   ]
  },
  {
   "cell_type": "code",
   "execution_count": 31,
   "metadata": {},
   "outputs": [
    {
     "data": {
      "text/plain": [
       "3.4980371542795701"
      ]
     },
     "execution_count": 31,
     "metadata": {},
     "output_type": "execute_result"
    }
   ],
   "source": [
    "Lab(0.1,1,0.3,.8,.5,.6,.8,.2,100,200,300,400,500,600,.2,.5,.6,.3)"
   ]
  },
  {
   "cell_type": "markdown",
   "metadata": {},
   "source": [
    "Neutrino $M_{ij}^{\\nu}$ matrix:"
   ]
  },
  {
   "cell_type": "markdown",
   "metadata": {},
   "source": [
    "\\begin{equation}\n",
    "M_{ik}^{\\nu} = (h_d)^{\\alpha i} \\Lambda^{\\alpha\\beta} (h_e)^{\\beta k}\n",
    "\\end{equation}"
   ]
  },
  {
   "cell_type": "code",
   "execution_count": 32,
   "metadata": {},
   "outputs": [],
   "source": [
    "def Mab(Z22,Z23,Z24,Z25,Z32,Z33,Z34,Z35,Z42,Z43,Z44,Z45,Z52,Z53,Z54,Z55,\\\n",
    "         me1,me2,mH2,mH3,mH4,mH5,V11,V21,U11,U21,hd11,hd12,hd13,hd21,hd22,hd23,he11,he12,he13,he21,he22,he23):\n",
    "\n",
    "    #Matrix elements LAMBDAab\n",
    "    L11 = Lab(Z22,Z32,Z42,Z52,Z24,Z34,Z44,Z54,me1,me2,mH2,mH3,mH4,mH5,V11,V21,U11,U21)\n",
    "    L12 = Lab(Z22,Z32,Z42,Z52,Z25,Z35,Z45,Z55,me1,me2,mH2,mH3,mH4,mH5,V11,V21,U11,U21)\n",
    "    L21 = Lab(Z23,Z33,Z43,Z53,Z24,Z34,Z44,Z54,me1,me2,mH2,mH3,mH4,mH5,V11,V21,U11,U21)\n",
    "    L22 = Lab(Z23,Z33,Z43,Z53,Z25,Z35,Z45,Z55,me1,me2,mH2,mH3,mH4,mH5,V11,V21,U11,U21)\n",
    "    \n",
    "    M11 = hd11*(L11*he11+L12*he21) + hd21*(L21*he11+L22*he21)\n",
    "    M12 = hd11*(L11*he12+L12*he22) + hd21*(L21*he12+L22*he22)\n",
    "    M13 = hd11*(L11*he13+L12*he23) + hd21*(L21*he13+L22*he23)\n",
    "    M21 = hd12*(L11*he11+L12*he21) + hd22*(L21*he11+L22*he21)\n",
    "    M22 = hd12*(L11*he12+L12*he22) + hd22*(L21*he12+L22*he22)\n",
    "    M23 = hd12*(L11*he13+L12*he23) + hd22*(L21*he13+L22*he23)\n",
    "    M31 = hd13*(L11*he11+L12*he21) + hd23*(L21*he11+L22*he21)\n",
    "    M32 = hd13*(L11*he12+L12*he22) + hd23*(L21*he12+L22*he22)\n",
    "    M33 = hd13*(L11*he13+L12*he23) + hd23*(L21*he13+L22*he23)\n",
    "    \n",
    "    Mvik = np.matrix( [[M11, M12, M13],\n",
    "                   [M21, M22, M23],\n",
    "                   [M31, M32, M33]] )\n",
    "    \n",
    "    #eigenvalues e eigenvectors\n",
    "    (Mdiag2,V)=np.linalg.eig(Mvik*np.transpose(Mvik))\n",
    "    \n",
    "    #took eigenvalues\n",
    "    MX1 = np.sqrt(np.abs(Mdiag2[0]))\n",
    "    MX2 = np.sqrt(np.abs(Mdiag2[1]))\n",
    "    MX3 = np.sqrt(np.abs(Mdiag2[2]))\n",
    "    \n",
    "    ## reorganize the eigenvalues (neutrino masses)\n",
    "    mn1 = 0.0\n",
    "    mn2 = 0.0\n",
    "    mn3 = 0.0\n",
    "\n",
    "    if MX1 < MX2 and MX1 < MX3:\n",
    "        mn1 = MX1\n",
    "        #print \"Hola1\"\n",
    "\n",
    "        if MX2 < MX3:\n",
    "            mn2 = MX2\n",
    "            mn3 = MX3\n",
    "        else:\n",
    "            mn2 = MX3\n",
    "            mn3 = MX2  \n",
    "\n",
    "    if MX2 < MX1 and MX2 < MX3:\n",
    "        mn1 = MX2\n",
    "        #print \"Hola2\" \n",
    "\n",
    "        if MX1 < MX3:\n",
    "            mn2 = MX1\n",
    "            mn3 = MX3\n",
    "        else:\n",
    "            mn2 = MX3\n",
    "            mn3 = MX1   \n",
    "\n",
    "    if MX3 < MX1 and MX3 < MX2:\n",
    "        mn1 = MX3\n",
    "        #print \"Hola3\"  \n",
    "\n",
    "        if MX1 < MX2:\n",
    "            mn2 = MX1\n",
    "            mn3 = MX2\n",
    "        else:\n",
    "            mn2 = MX2\n",
    "            mn3 = MX1\n",
    "    \n",
    "    return mn1,mn2,mn3"
   ]
  },
  {
   "cell_type": "code",
   "execution_count": 33,
   "metadata": {},
   "outputs": [],
   "source": [
    "#run all dataframe\n",
    "MatrixDiag_new=np.vectorize(Mab,doc='Input for pyfunc below:\\\n",
    "Z22,Z23,Z24,Z25,Z32,Z33,Z34,Z35,Z42,Z43,Z44,Z45,Z52,Z53,Z54,Z55,\\\n",
    "         me1,me2,mH2,mH3,mH4,mH5,V11,V21,U11,U21,hd11,hd12,hd13,hd21,hd22,hd23,he11,he12,he13,he21,he22,he23')"
   ]
  },
  {
   "cell_type": "code",
   "execution_count": 34,
   "metadata": {},
   "outputs": [
    {
     "ename": "ValueError",
     "evalue": "Cannot construct a ufunc with more than 32 operands (requested number were: inputs = 38 and outputs = 3)",
     "output_type": "error",
     "traceback": [
      "\u001b[0;31m---------------------------------------------------------------------------\u001b[0m",
      "\u001b[0;31mValueError\u001b[0m                                Traceback (most recent call last)",
      "\u001b[0;32m<ipython-input-34-624be1a70a52>\u001b[0m in \u001b[0;36m<module>\u001b[0;34m\u001b[0m\n\u001b[1;32m      2\u001b[0m MatrixDiag_new(xd.ZP22,xd.ZP23,xd.ZP24,xd.ZP25,xd.ZP32,xd.ZP33,xd.ZP34,xd.ZP35,xd.ZP42,xd.ZP43,xd.ZP44,xd.ZP45,\\\n\u001b[1;32m      3\u001b[0m                \u001b[0mxd\u001b[0m\u001b[0;34m.\u001b[0m\u001b[0mZP52\u001b[0m\u001b[0;34m,\u001b[0m\u001b[0mxd\u001b[0m\u001b[0;34m.\u001b[0m\u001b[0mZP53\u001b[0m\u001b[0;34m,\u001b[0m\u001b[0mxd\u001b[0m\u001b[0;34m.\u001b[0m\u001b[0mZP54\u001b[0m\u001b[0;34m,\u001b[0m\u001b[0mxd\u001b[0m\u001b[0;34m.\u001b[0m\u001b[0mZP55\u001b[0m\u001b[0;34m,\u001b[0m\u001b[0mxd\u001b[0m\u001b[0;34m.\u001b[0m\u001b[0mmeD1\u001b[0m\u001b[0;34m,\u001b[0m\u001b[0mxd\u001b[0m\u001b[0;34m.\u001b[0m\u001b[0mmeD2\u001b[0m\u001b[0;34m,\u001b[0m\u001b[0mxd\u001b[0m\u001b[0;34m.\u001b[0m\u001b[0mmH2\u001b[0m\u001b[0;34m,\u001b[0m\u001b[0mxd\u001b[0m\u001b[0;34m.\u001b[0m\u001b[0mmH3\u001b[0m\u001b[0;34m,\u001b[0m\u001b[0mxd\u001b[0m\u001b[0;34m.\u001b[0m\u001b[0mmH4\u001b[0m\u001b[0;34m,\u001b[0m\u001b[0mxd\u001b[0m\u001b[0;34m.\u001b[0m\u001b[0mmH5\u001b[0m\u001b[0;34m,\u001b[0m\u001b[0mxd\u001b[0m\u001b[0;34m.\u001b[0m\u001b[0mVL11\u001b[0m\u001b[0;34m,\u001b[0m\u001b[0mxd\u001b[0m\u001b[0;34m.\u001b[0m\u001b[0mVL21\u001b[0m\u001b[0;34m,\u001b[0m\u001b[0;31m\\\u001b[0m\u001b[0;34m\u001b[0m\u001b[0m\n\u001b[0;32m----> 4\u001b[0;31m                xd.UL11,xd.UL21,xd.LD11,xd.LD12,xd.LD13,xd.LD21,xd.LD22,xd.LD23,xd.LE11,xd.LE12,0.,xd.LE21,xd.LE22,0.)\n\u001b[0m",
      "\u001b[0;32m/usr/lib/python3/dist-packages/numpy/lib/function_base.py\u001b[0m in \u001b[0;36m__call__\u001b[0;34m(self, *args, **kwargs)\u001b[0m\n\u001b[1;32m   2574\u001b[0m             \u001b[0mvargs\u001b[0m\u001b[0;34m.\u001b[0m\u001b[0mextend\u001b[0m\u001b[0;34m(\u001b[0m\u001b[0;34m[\u001b[0m\u001b[0mkwargs\u001b[0m\u001b[0;34m[\u001b[0m\u001b[0m_n\u001b[0m\u001b[0;34m]\u001b[0m \u001b[0;32mfor\u001b[0m \u001b[0m_n\u001b[0m \u001b[0;32min\u001b[0m \u001b[0mnames\u001b[0m\u001b[0;34m]\u001b[0m\u001b[0;34m)\u001b[0m\u001b[0;34m\u001b[0m\u001b[0m\n\u001b[1;32m   2575\u001b[0m \u001b[0;34m\u001b[0m\u001b[0m\n\u001b[0;32m-> 2576\u001b[0;31m         \u001b[0;32mreturn\u001b[0m \u001b[0mself\u001b[0m\u001b[0;34m.\u001b[0m\u001b[0m_vectorize_call\u001b[0m\u001b[0;34m(\u001b[0m\u001b[0mfunc\u001b[0m\u001b[0;34m=\u001b[0m\u001b[0mfunc\u001b[0m\u001b[0;34m,\u001b[0m \u001b[0margs\u001b[0m\u001b[0;34m=\u001b[0m\u001b[0mvargs\u001b[0m\u001b[0;34m)\u001b[0m\u001b[0;34m\u001b[0m\u001b[0m\n\u001b[0m\u001b[1;32m   2577\u001b[0m \u001b[0;34m\u001b[0m\u001b[0m\n\u001b[1;32m   2578\u001b[0m     \u001b[0;32mdef\u001b[0m \u001b[0m_get_ufunc_and_otypes\u001b[0m\u001b[0;34m(\u001b[0m\u001b[0mself\u001b[0m\u001b[0;34m,\u001b[0m \u001b[0mfunc\u001b[0m\u001b[0;34m,\u001b[0m \u001b[0margs\u001b[0m\u001b[0;34m)\u001b[0m\u001b[0;34m:\u001b[0m\u001b[0;34m\u001b[0m\u001b[0m\n",
      "\u001b[0;32m/usr/lib/python3/dist-packages/numpy/lib/function_base.py\u001b[0m in \u001b[0;36m_vectorize_call\u001b[0;34m(self, func, args)\u001b[0m\n\u001b[1;32m   2644\u001b[0m             \u001b[0mres\u001b[0m \u001b[0;34m=\u001b[0m \u001b[0mfunc\u001b[0m\u001b[0;34m(\u001b[0m\u001b[0;34m)\u001b[0m\u001b[0;34m\u001b[0m\u001b[0m\n\u001b[1;32m   2645\u001b[0m         \u001b[0;32melse\u001b[0m\u001b[0;34m:\u001b[0m\u001b[0;34m\u001b[0m\u001b[0m\n\u001b[0;32m-> 2646\u001b[0;31m             \u001b[0mufunc\u001b[0m\u001b[0;34m,\u001b[0m \u001b[0motypes\u001b[0m \u001b[0;34m=\u001b[0m \u001b[0mself\u001b[0m\u001b[0;34m.\u001b[0m\u001b[0m_get_ufunc_and_otypes\u001b[0m\u001b[0;34m(\u001b[0m\u001b[0mfunc\u001b[0m\u001b[0;34m=\u001b[0m\u001b[0mfunc\u001b[0m\u001b[0;34m,\u001b[0m \u001b[0margs\u001b[0m\u001b[0;34m=\u001b[0m\u001b[0margs\u001b[0m\u001b[0;34m)\u001b[0m\u001b[0;34m\u001b[0m\u001b[0m\n\u001b[0m\u001b[1;32m   2647\u001b[0m \u001b[0;34m\u001b[0m\u001b[0m\n\u001b[1;32m   2648\u001b[0m             \u001b[0;31m# Convert args to object arrays first\u001b[0m\u001b[0;34m\u001b[0m\u001b[0;34m\u001b[0m\u001b[0m\n",
      "\u001b[0;32m/usr/lib/python3/dist-packages/numpy/lib/function_base.py\u001b[0m in \u001b[0;36m_get_ufunc_and_otypes\u001b[0;34m(self, func, args)\u001b[0m\n\u001b[1;32m   2633\u001b[0m             \u001b[0;31m# not a significant cost compared with wrapping so it seems not\u001b[0m\u001b[0;34m\u001b[0m\u001b[0;34m\u001b[0m\u001b[0m\n\u001b[1;32m   2634\u001b[0m             \u001b[0;31m# worth trying to cache this.\u001b[0m\u001b[0;34m\u001b[0m\u001b[0;34m\u001b[0m\u001b[0m\n\u001b[0;32m-> 2635\u001b[0;31m             \u001b[0mufunc\u001b[0m \u001b[0;34m=\u001b[0m \u001b[0mfrompyfunc\u001b[0m\u001b[0;34m(\u001b[0m\u001b[0m_func\u001b[0m\u001b[0;34m,\u001b[0m \u001b[0mlen\u001b[0m\u001b[0;34m(\u001b[0m\u001b[0margs\u001b[0m\u001b[0;34m)\u001b[0m\u001b[0;34m,\u001b[0m \u001b[0mnout\u001b[0m\u001b[0;34m)\u001b[0m\u001b[0;34m\u001b[0m\u001b[0m\n\u001b[0m\u001b[1;32m   2636\u001b[0m \u001b[0;34m\u001b[0m\u001b[0m\n\u001b[1;32m   2637\u001b[0m         \u001b[0;32mreturn\u001b[0m \u001b[0mufunc\u001b[0m\u001b[0;34m,\u001b[0m \u001b[0motypes\u001b[0m\u001b[0;34m\u001b[0m\u001b[0m\n",
      "\u001b[0;31mValueError\u001b[0m: Cannot construct a ufunc with more than 32 operands (requested number were: inputs = 38 and outputs = 3)"
     ]
    }
   ],
   "source": [
    "#Add to the DataFrame  not working\n",
    "MatrixDiag_new(xd.ZP22,xd.ZP23,xd.ZP24,xd.ZP25,xd.ZP32,xd.ZP33,xd.ZP34,xd.ZP35,xd.ZP42,xd.ZP43,xd.ZP44,xd.ZP45,\\\n",
    "               xd.ZP52,xd.ZP53,xd.ZP54,xd.ZP55,xd.meD1,xd.meD2,xd.mH2,xd.mH3,xd.mH4,xd.mH5,xd.VL11,xd.VL21,\\\n",
    "               xd.UL11,xd.UL21,xd.LD11,xd.LD12,xd.LD13,xd.LD21,xd.LD22,xd.LD23,xd.LE11,xd.LE12,0.,xd.LE21,xd.LE22,0.)\n"
   ]
  },
  {
   "cell_type": "code",
   "execution_count": 35,
   "metadata": {},
   "outputs": [
    {
     "data": {
      "text/plain": [
       "(4.9458788608444886e-16, 1.8286747399930898e-10, 5.629896435537061e-08)"
      ]
     },
     "execution_count": 35,
     "metadata": {},
     "output_type": "execute_result"
    }
   ],
   "source": [
    "Mab(ZP22,ZP23,ZP24,ZP25,ZP32,ZP33,ZP34,ZP35,ZP42,ZP43,ZP44,ZP45,ZP52,ZP53,ZP54,ZP55,meD1,meD2,mH2,mH3,mH4,mH5,\\\n",
    "    VL11,VL21,UL11,UL21,LD11,LD12,LD13,LD21,LD22,LD23,LE11,LE12,0.,LE21,LE22,0.)"
   ]
  },
  {
   "cell_type": "code",
   "execution_count": 36,
   "metadata": {},
   "outputs": [
    {
     "data": {
      "text/plain": [
       "(8.7671009188426545e-16, 1.9286950284746203e-10, 5.8944628881312533e-08)"
      ]
     },
     "execution_count": 36,
     "metadata": {},
     "output_type": "execute_result"
    }
   ],
   "source": [
    "Mab(xd.ZP22[0],xd.ZP23[0],xd.ZP24[0],xd.ZP25[0],xd.ZP32[0],xd.ZP33[0],xd.ZP34[0],xd.ZP35[0],xd.ZP42[0],xd.ZP43[0],\\\n",
    "                           xd.ZP44[0],xd.ZP45[0],xd.ZP52[0],xd.ZP53[0],xd.ZP54[0],xd.ZP55[0],xd.meD1[0],xd.meD2[0],\\\n",
    "    xd.mH2[0],xd.mH3[0],xd.mH4[0],xd.mH5[0],xd.VL11[0],xd.VL21[0],xd.UL11[0],xd.UL21[0],xd.LD11[0],xd.LD12[0],\\\n",
    "    xd.LD13[0],xd.LD21[0],xd.LD22[0],xd.LD23[0],xd.LE11[0],xd.LE12[0],0.,xd.LE21[0],xd.LE22[0],0.)"
   ]
  },
  {
   "cell_type": "code",
   "execution_count": 37,
   "metadata": {},
   "outputs": [],
   "source": [
    "y=[]\n",
    "\n",
    "for i in range(0,xd.shape[0]):\n",
    "    \n",
    "    a = Mab(xd.ZP22[i],xd.ZP23[i],xd.ZP24[i],xd.ZP25[i],xd.ZP32[i],xd.ZP33[i],xd.ZP34[i],xd.ZP35[i],xd.ZP42[i],xd.ZP43[i],\\\n",
    "                           xd.ZP44[i],xd.ZP45[i],xd.ZP52[i],xd.ZP53[i],xd.ZP54[i],xd.ZP55[i],xd.meD1[i],xd.meD2[i],\\\n",
    "    xd.mH2[i],xd.mH3[i],xd.mH4[i],xd.mH5[i],xd.VL11[i],xd.VL21[i],xd.UL11[i],xd.UL21[i],xd.LD11[i],xd.LD12[i],\\\n",
    "    xd.LD13[i],xd.LD21[i],xd.LD22[i],xd.LD23[i],xd.LE11[i],xd.LE12[i],0.,xd.LE21[i],xd.LE22[i],0.)\n",
    "    \n",
    "    mn1 = a[0]\n",
    "    mn2 = a[1]\n",
    "    mn3 = a[2]\n",
    "    \n",
    "    #print(mnu1,mnu2,mnu3)\n",
    "    \n",
    "    y.append([mn1,mn2,mn3])\n",
    "\n",
    "y=np.asarray(y)\n",
    "yd=pd.DataFrame(y,columns=['mn1','mn2','mn3'])"
   ]
  },
  {
   "cell_type": "code",
   "execution_count": 38,
   "metadata": {},
   "outputs": [
    {
     "data": {
      "text/html": [
       "<div>\n",
       "<table border=\"1\" class=\"dataframe\">\n",
       "  <thead>\n",
       "    <tr style=\"text-align: right;\">\n",
       "      <th></th>\n",
       "      <th>mn1</th>\n",
       "      <th>mn2</th>\n",
       "      <th>mn3</th>\n",
       "    </tr>\n",
       "  </thead>\n",
       "  <tbody>\n",
       "    <tr>\n",
       "      <th>0</th>\n",
       "      <td>8.767101e-16</td>\n",
       "      <td>1.928695e-10</td>\n",
       "      <td>5.894463e-08</td>\n",
       "    </tr>\n",
       "    <tr>\n",
       "      <th>1</th>\n",
       "      <td>5.899399e-16</td>\n",
       "      <td>1.273649e-10</td>\n",
       "      <td>4.083155e-08</td>\n",
       "    </tr>\n",
       "    <tr>\n",
       "      <th>2</th>\n",
       "      <td>3.649130e-16</td>\n",
       "      <td>1.523839e-10</td>\n",
       "      <td>4.797197e-08</td>\n",
       "    </tr>\n",
       "    <tr>\n",
       "      <th>3</th>\n",
       "      <td>4.431837e-16</td>\n",
       "      <td>1.905381e-10</td>\n",
       "      <td>5.833170e-08</td>\n",
       "    </tr>\n",
       "    <tr>\n",
       "      <th>4</th>\n",
       "      <td>4.945879e-16</td>\n",
       "      <td>1.828675e-10</td>\n",
       "      <td>5.629896e-08</td>\n",
       "    </tr>\n",
       "  </tbody>\n",
       "</table>\n",
       "</div>"
      ],
      "text/plain": [
       "            mn1           mn2           mn3\n",
       "0  8.767101e-16  1.928695e-10  5.894463e-08\n",
       "1  5.899399e-16  1.273649e-10  4.083155e-08\n",
       "2  3.649130e-16  1.523839e-10  4.797197e-08\n",
       "3  4.431837e-16  1.905381e-10  5.833170e-08\n",
       "4  4.945879e-16  1.828675e-10  5.629896e-08"
      ]
     },
     "execution_count": 38,
     "metadata": {},
     "output_type": "execute_result"
    }
   ],
   "source": [
    "yd"
   ]
  },
  {
   "cell_type": "code",
   "execution_count": 39,
   "metadata": {},
   "outputs": [
    {
     "data": {
      "text/html": [
       "<div>\n",
       "<table border=\"1\" class=\"dataframe\">\n",
       "  <thead>\n",
       "    <tr style=\"text-align: right;\">\n",
       "      <th></th>\n",
       "      <th>mnu1</th>\n",
       "      <th>mnu2</th>\n",
       "      <th>mnu3</th>\n",
       "    </tr>\n",
       "  </thead>\n",
       "  <tbody>\n",
       "    <tr>\n",
       "      <th>0</th>\n",
       "      <td>4.389999e-28</td>\n",
       "      <td>1.928695e-10</td>\n",
       "      <td>5.894463e-08</td>\n",
       "    </tr>\n",
       "    <tr>\n",
       "      <th>1</th>\n",
       "      <td>1.576841e-27</td>\n",
       "      <td>1.273649e-10</td>\n",
       "      <td>4.083155e-08</td>\n",
       "    </tr>\n",
       "    <tr>\n",
       "      <th>2</th>\n",
       "      <td>1.275438e-27</td>\n",
       "      <td>1.523839e-10</td>\n",
       "      <td>4.797197e-08</td>\n",
       "    </tr>\n",
       "    <tr>\n",
       "      <th>3</th>\n",
       "      <td>2.573202e-27</td>\n",
       "      <td>1.905381e-10</td>\n",
       "      <td>5.833170e-08</td>\n",
       "    </tr>\n",
       "    <tr>\n",
       "      <th>4</th>\n",
       "      <td>1.568334e-27</td>\n",
       "      <td>1.828675e-10</td>\n",
       "      <td>5.629896e-08</td>\n",
       "    </tr>\n",
       "  </tbody>\n",
       "</table>\n",
       "</div>"
      ],
      "text/plain": [
       "           mnu1          mnu2          mnu3\n",
       "0  4.389999e-28  1.928695e-10  5.894463e-08\n",
       "1  1.576841e-27  1.273649e-10  4.083155e-08\n",
       "2  1.275438e-27  1.523839e-10  4.797197e-08\n",
       "3  2.573202e-27  1.905381e-10  5.833170e-08\n",
       "4  1.568334e-27  1.828675e-10  5.629896e-08"
      ]
     },
     "execution_count": 39,
     "metadata": {},
     "output_type": "execute_result"
    }
   ],
   "source": [
    "xd[['mnu1','mnu2','mnu3']]"
   ]
  },
  {
   "cell_type": "code",
   "execution_count": 40,
   "metadata": {},
   "outputs": [],
   "source": [
    "#good plots\n",
    "plt.rcParams.update({'font.size': 20}) \n",
    "#plt.rc('font',size='18')"
   ]
  },
  {
   "cell_type": "code",
   "execution_count": 41,
   "metadata": {},
   "outputs": [
    {
     "data": {
      "image/png": "[encoded data removed]",
      "text/plain": [
       "<matplotlib.figure.Figure at 0x7f179fd890b8>"
      ]
     },
     "metadata": {
      "needs_background": "light"
     },
     "output_type": "display_data"
    }
   ],
   "source": [
    "plt.figure(figsize=(8,6))\n",
    "\n",
    "#plt.loglog(xd.mv1,xd.mn1,'bo')\n",
    "plt.loglog(xd.mnu2,yd.mn2,'bo')\n",
    "plt.loglog(xd.mnu3,yd.mn3,'go')\n",
    "\n",
    "a = np.linspace(1e-10,1e-07,20)\n",
    "plt.plot(a,a,'r-')\n",
    "\n",
    "plt.xlabel(r'$m_i$SPHENO (GeV)',size=25)\n",
    "plt.ylabel(r'$m_i$Analytic (GeV)',size=25)\n",
    "plt.legend()\n",
    "\n",
    "plt.grid()\n",
    "\n",
    "plt.tight_layout()\n",
    "plt.savefig('plots/neutrino_masses.pdf')"
   ]
  },
  {
   "cell_type": "code",
   "execution_count": null,
   "metadata": {},
   "outputs": [],
   "source": []
  },
  {
   "cell_type": "code",
   "execution_count": null,
   "metadata": {},
   "outputs": [],
   "source": []
  }
 ],
 "metadata": {
  "kernelspec": {
   "display_name": "Python 3",
   "language": "python",
   "name": "python3"
  },
  "language_info": {
   "codemirror_mode": {
    "name": "ipython",
    "version": 3
   },
   "file_extension": ".py",
   "mimetype": "text/x-python",
   "name": "python",
   "nbconvert_exporter": "python",
   "pygments_lexer": "ipython3",
   "version": "3.5.3"
  }
 },
 "nbformat": 4,
 "nbformat_minor": 1
}
